{
  "nbformat": 4,
  "nbformat_minor": 0,
  "metadata": {
    "colab": {
      "provenance": [],
      "authorship_tag": "ABX9TyMXrEJvu/wIBRE3xIFf3niG",
      "include_colab_link": true
    },
    "kernelspec": {
      "name": "python3",
      "display_name": "Python 3"
    },
    "language_info": {
      "name": "python"
    }
  },
  "cells": [
    {
      "cell_type": "markdown",
      "metadata": {
        "id": "view-in-github",
        "colab_type": "text"
      },
      "source": [
        "<a href=\"https://colab.research.google.com/github/palanipsb/Python-Learning/blob/main/RailwayTicketBooking.ipynb\" target=\"_parent\"><img src=\"https://colab.research.google.com/assets/colab-badge.svg\" alt=\"Open In Colab\"/></a>"
      ]
    },
    {
      "cell_type": "code",
      "source": [
        "class TrainDetails:\n",
        "  trainData = {100001:{'name':'Madurai Express', 'availableSeats':{'1AC':100, '2AC':150, 'Sleeper':300, 'General':140}, 'departureStation':'MS', 'destinationStation':'MDU'},\n",
        "               100002:{'name':'Kovai Supper Fast Express', 'availableSeats':{'1AC':100, '2AC':150, 'Sleeper':350, 'General':120}, 'departureStation':'MAS', 'destinationStation':'CBE'},\n",
        "               100003:{'name':'Banglore Express', 'availableSeats':{'1AC':50, '2AC':100, 'Sleeper':250, 'General':150}, 'departureStation':'MAS', 'destinationStation':'SBC'},\n",
        "               100004:{'name':'Kanyakumari Passagnger', 'availableSeats':{'1AC':250, '2AC':350, 'Sleeper':400, 'General':200}, 'departureStation':'MS', 'destinationStation':'CAPE'},}\n",
        "  trainBaseFare = {'1AC':50.00, '2AC':40.00, 'Sleeper':30.00,  'General':10.00}\n",
        "  stationData = {'MS':{'name':'Chennai Egmore', 'distance':0, 'stoppingTrainNo':{100001:{'arrivalTime':'10:00 AM', 'departureTime':'10:10 AM'}\n",
        "                                                                                 ,100004:{'arrivalTime':'12:00 AM', 'departureTime':'12:10 AM'}}},\n",
        "                 'MAS':{'name':'Chennai Central', 'distance':0, 'stoppingTrainNo':{100002:{'arrivalTime':'11:00 AM', 'departureTime':'11:10 AM'}\n",
        "                                                                                 ,100003:{'arrivalTime':'15:00 PM', 'departureTime':'15:10 PM'}}},\n",
        "                 'CBE':{'name':'Kovai', 'distance':540, 'stoppingTrainNo':{100001:{'arrivalTime':'04:00 AM', 'departureTime':'13:10 AM'}\n",
        "                                                                                 ,100004:{'arrivalTime':'08:00 PM', 'departureTime':'08:10 PM'}}},\n",
        "                 'SBC':{'name':'Banglore', 'distance':470, 'stoppingTrainNo':{100002:{'arrivalTime':'13:00 PM', 'departureTime':'13:10 PM'}\n",
        "                                                                                 ,100003:{'arrivalTime':'18:00 PM', 'departureTime':'18:10 PM'}}}}\n",
        "  foodDetails = {1:{'meal':'South Indian Breakfast',  'price':100.00},\n",
        "                  2:{'meal':'North Indian Breakfast', 'price':80.00},\n",
        "                  3:{'meal':'South Indian Veg Meal', 'price':200.00},\n",
        "                  4:{'meal':'South Indian Non Veg Meal', 'price':250.00},\n",
        "                  5:{'meal':'North Indian Veg Meal', 'price':150.00},\n",
        "                  6:{'meal':'North Indian Non Veg Meal', 'price':180.00},\n",
        "                  7:{'meal':'South Indian Dinner', 'price':140.00},\n",
        "                  8:{'meal':'North Indian Dinner', 'price':120.00}}\n",
        "  pricePerKm = 2.00\n",
        "  bookingOptions = {1:'By selecting Station', 2:'By Train Number'}\n",
        "  bookingHistory = {}\n",
        "\n",
        "class TicketHandling:\n",
        "\n",
        "  def ticketBooking():\n",
        "    pnrNumber = ''\n",
        "    traindata = TrainDetails\n",
        "    numberOfPassangers,ticketPrice,userSelectedTrainNo,selectedCoach,departureTime,arrivalTime,trainName,departureStationName,arrivalStationName = TicketHandling.bookingOptions()\n",
        "    foodOpt = input('\\nPlease enter food option Y/N: ')\n",
        "    finalPrice = ticketPrice\n",
        "    if('Y'== foodOpt.upper()):\n",
        "      foodMenu, foodQty, foodPrice = TicketHandling.foodChoice()\n",
        "      finalPrice = ticketPrice + foodPrice\n",
        "      pnrNumber = TicketHandling.bookingConfirmationWithFood(numberOfPassangers,finalPrice,userSelectedTrainNo,trainName,departureTime,arrivalTime,selectedCoach,foodMenu, foodQty, foodPrice,foodOpt,departureStationName,arrivalStationName)\n",
        "    else:\n",
        "      pnrNumber = TicketHandling.bookingConfirmation(numberOfPassangers,finalPrice,userSelectedTrainNo,trainName,selectedCoach,departureTime,arrivalTime,departureStationName,arrivalStationName)\n",
        "    print('\\nCongrats! Booking confirmed!. Please note the PNR number to check booking details. PNR: '+pnrNumber)\n",
        "\n",
        "  def bookingConfirmationWithFood(numberOfPassangers,finalPrice,userSelectedTrainNo,trainName,departureTime,arrivalTime,selectedCoach,foodMenu, foodQty, foodPrice,foodOpt,departureStationName,arrivalStationName):\n",
        "    userName, userYOB, userAge, pnrNumber = TicketHandling.getBookingUserInfo(userSelectedTrainNo)\n",
        "    print(numberOfPassangers,finalPrice,userSelectedTrainNo,trainName,departureTime,arrivalTime,selectedCoach,foodMenu, foodQty, foodPrice,foodOpt,departureStationName,arrivalStationName)\n",
        "    TrainDetails.bookingHistory.update({pnrNumber:{'trainNo':userSelectedTrainNo, 'trainName':trainName, 'coach':selectedCoach, 'name':userName,'departureTime':departureTime,'arrivalTime':arrivalTime\n",
        "                                                   ,'departureStationName':departureStationName,'arrivalStationName':arrivalStationName,\n",
        "                                                      'age':userAge, 'YOB':userYOB, 'numberOfPassangers':numberOfPassangers, 'foodQtyMenu':str(foodQty) +' ('+foodMenu+')','finalPrice':finalPrice,'bookingStatus':'CONFIRMED'}})\n",
        "    return pnrNumber\n",
        "\n",
        "  def bookingConfirmation(numberOfPassangers,finalPrice,userSelectedTrainNo,trainName,selectedCoach,departureTime,arrivalTime,departureStationName,arrivalStationName):\n",
        "    userName, userYOB, userAge, pnrNumber = TicketHandling.getBookingUserInfo(userSelectedTrainNo)\n",
        "    TrainDetails.bookingHistory.update({pnrNumber:{'trainNo':userSelectedTrainNo, 'trainName':trainName, 'coach':selectedCoach, 'name':userName, 'departureTime':departureTime,'arrivalTime':arrivalTime,\n",
        "                                                   'departureStationName':departureStationName,'arrivalStationName':arrivalStationName,\n",
        "                                                      'age':userAge, 'YOB':userYOB, 'numberOfPassangers':numberOfPassangers, 'finalPrice':finalPrice,'bookingStatus':'CONFIRMED'}})\n",
        "    return pnrNumber\n",
        "\n",
        "  def getBookingUserInfo(userSelectedTrainNo):\n",
        "    userName = input('\\nPlease enter booking name: ')\n",
        "    userYOB = input('\\nPlease enter the YOB: ')\n",
        "    userAge = input('\\nPlease enter the Age: ')\n",
        "    pnrNumber = userName[0:3].upper() + userAge + userYOB + str(userSelectedTrainNo)\n",
        "    return userName, userYOB, userAge, pnrNumber\n",
        "\n",
        "  def ticketCancel():\n",
        "    pnrNo = TicketHandling.getPnrNoFromUser('PNR number')\n",
        "    for i,j in TrainDetails.bookingHistory.items():\n",
        "      if i == pnrNo:\n",
        "        TrainDetails.bookingHistory[i]['bookingStatus'] = 'CANCELLED'\n",
        "        for k,l in TrainDetails.trainData.items():\n",
        "          if k == j['trainNo']:\n",
        "            for m,n in l['availableSeats'].items():\n",
        "              if(m == j['coach']):\n",
        "                TrainDetails.trainData[k]['availableSeats'][m] = n+j['numberOfPassangers']\n",
        "                break\n",
        "\n",
        "  def pnrStatusCheck():\n",
        "    userPnrNumber = TicketHandling.getPnrNoFromUser('PNR number')\n",
        "    print('\\n'+'*'*20+' Booking Details for PNR: '+userPnrNumber+' '+'*'*20)\n",
        "    for i,j in TrainDetails.bookingHistory.items():\n",
        "        if(i==userPnrNumber):\n",
        "          if('foodQtyMenu' in j):\n",
        "            print('\\nName\\t\\t\\t:{name}\\nYOB\\t\\t\\t:{YOB}\\nAge\\t\\t\\t:{age}\\nTrain Number\\t\\t:{trainNo} - ({trainName})\\nDeparture\\t\\t:{departureStationName} (Depature Time: {departureTime})\\nArrival\\t\\t\\t:{arrivalStationName} (Arrival Time: {arrivalTime})\\nCoach\\t\\t\\t:{coach}\\nNumber of Passangers    :{numberOfPassangers}\\nFood Quantity & Menu    :{foodQtyMenu}\\nPayment\\t\\t\\t:Rs. {finalPrice:.2f}\\n\\nBooking Status\\t\\t:{bookingStatus}'.format(**j))\n",
        "          else:\n",
        "            print('\\nName\\t\\t\\t:{name}\\nYOB\\t\\t\\t:{YOB}\\nAge\\t\\t\\t:{age}\\nTrain Number\\t\\t:{trainNo} - ({trainName})\\nDeparture\\t\\t:{departureStationName} (Depature Time: {departureTime})\\nArrival\\t\\t\\t:{arrivalStationName} (Arrival Time: {arrivalTime})\\nCoach\\t\\t\\t:{coach}\\nNumber of Passangers    :{numberOfPassangers}\\nPayment\\t\\t\\t:Rs. {finalPrice:.2f}\\n\\nBooking Status\\t\\t:{bookingStatus}'.format(**j))\n",
        "\n",
        "  def seatAvailabilityCheck():\n",
        "    userOption = int(TicketHandling.getUserOptions('option to check seat availability'))\n",
        "    trainNumbers = []\n",
        "    if userOption == 2:\n",
        "      for i,j in TrainDetails.trainData.items():\n",
        "        trainNumbers.append(i)\n",
        "        print(str(i)+' - ('+j['name']+')')\n",
        "      TicketHandling.displayTrainDetails(TicketHandling.selectedTrainNumber(trainNumbers, 'train'))\n",
        "    elif userOption == 1:\n",
        "      trainNos,totalDistance,departureStationCode,arrivalStationCode = TicketHandling.userSelectedStations()\n",
        "      print(trainNos)\n",
        "      for i in trainNos:\n",
        "        TicketHandling.displayTrainDetails(i)\n",
        "\n",
        "\n",
        "  def getUserOptions(inputString):\n",
        "    for i in TrainDetails.bookingOptions:\n",
        "      print('\\t\\t'+str(i)+': '+TrainDetails.bookingOptions[i])\n",
        "    userOption = int(input('\\nPlease enter the {}: '.format(inputString)))\n",
        "    if userOption not in TrainDetails.bookingOptions:\n",
        "      userOption = int(TicketHandling.getUserOptions('\\nPlease enter the {}: '.format('valid option to check seat availability')))\n",
        "    return userOption\n",
        "\n",
        "  def getPnrNoFromUser(inputStr):\n",
        "    pnrNo = input('Please enter the {} : '.format(inputStr))\n",
        "    if pnrNo not in TrainDetails.bookingHistory:\n",
        "      pnrNo = TicketHandling.getPnrNoFromUser('Please enter the {} : '.format('valid PNR number'))\n",
        "    return pnrNo\n",
        "\n",
        "  def foodChoice():\n",
        "    foodOptions=[]\n",
        "    for i,j in TrainDetails.foodDetails.items():\n",
        "      foodOptions.append(i)\n",
        "      print('{0}: {1} (Rs. {2:.2f} per 1 qty)'.format(i,j['meal'],j['price']))\n",
        "    foodOption,foodQty = TicketHandling.getFoodOptionQty(foodOptions, 'food')\n",
        "    foodPrice = [float(j['price'])*int(foodQty) for i,j in TrainDetails.foodDetails.items() if i==int(foodOption)][0]\n",
        "    foodMenu = [j['meal'] for i,j in TrainDetails.foodDetails.items() if i==int(foodOption)][0]\n",
        "    return foodMenu, foodQty, foodPrice\n",
        "\n",
        "  def getFoodOptionQty(foodOptions, foodStr):\n",
        "    foodOption = int(input('\\nPlease enter the {} option: '.format(foodStr)))\n",
        "    if foodOption not in foodOptions:\n",
        "      foodOption,foodQty = TicketHandling.getFoodOption(foodOptions,'valid food')\n",
        "    foodQty = int(input('\\nPlease enter the food qty: '))\n",
        "    return foodOption,foodQty\n",
        "\n",
        "  def bookingOptions():\n",
        "    for i in TrainDetails.bookingOptions:\n",
        "      print('\\t\\t'+str(i)+': '+TrainDetails.bookingOptions[i])\n",
        "    bookingOption = int(input('\\nPlease enter the booking option: '))\n",
        "\n",
        "    if bookingOption not in TrainDetails.bookingOptions:\n",
        "      bookingOption = int(input('\\nPlease enter the booking option: '))\n",
        "      TicketHandling.ticketBooking()\n",
        "    elif bookingOption == 1:\n",
        "      userSelectedTrainNo,totalDistance,coachOptions,departureTime,arrivalTime,departureStationCode,arrivalStationCode = TicketHandling.bookByStation()\n",
        "    elif bookingOption == 2:\n",
        "      userSelectedTrainNo,totalDistance,coachOptions,departureTime,arrivalTime,departureStationCode,arrivalStationCode = TicketHandling.bookByTrain()\n",
        "    selectedCoach = TicketHandling.getSelectedCoach(coachOptions,'coach')\n",
        "    numberOfPassangers,ticketPrice = TicketHandling.numberOfPassangers(coachOptions,userSelectedTrainNo,selectedCoach,totalDistance)\n",
        "    trainName = [j['name'] for i, j in TrainDetails.trainData.items() if i == userSelectedTrainNo][0]\n",
        "    departureStationName = [j['name'] for i, j in TrainDetails.stationData.items() if i == departureStationCode][0]\n",
        "    arrivalStationName = [j['name'] for i, j in TrainDetails.stationData.items() if i == arrivalStationCode][0]\n",
        "    return numberOfPassangers,ticketPrice,userSelectedTrainNo,selectedCoach,departureTime,arrivalTime,trainName,departureStationName,arrivalStationName\n",
        "\n",
        "  def getSelectedCoach(coachOptions, inputStr):\n",
        "    selectedCoach = input('\\nPlease enter the {} you want to book: '.format(inputStr))\n",
        "    if selectedCoach not in coachOptions:\n",
        "      selectedCoach = TicketHandling.getSelectedCoach(coachOptions,'valid coach')\n",
        "    return selectedCoach\n",
        "\n",
        "  def numberOfPassangers(coachOptions,userSelectedTrainNo,coach,totalDistance):\n",
        "    numberOfPassangers = int(input('\\nPlease enter number of passangers: '))\n",
        "    availableSeats = int([j['seats'] for i,j in coachOptions.items() if i==coach][0])\n",
        "    ticketBaseFare = float([j['baseBare'] for i,j in coachOptions.items() if i ==coach][0])\n",
        "    if(numberOfPassangers) > availableSeats:\n",
        "      print(\"\\nAvailable seats: \"+ str(availableSeats))\n",
        "      numberOfPassangers, ticketPrice = TicketHandling.numberOfPassangers(coachOptions,userSelectedTrainNo,coach,totalDistance)\n",
        "    newAvailableSeat = availableSeats - int(numberOfPassangers)\n",
        "    ticketPrice =  ticketBaseFare + float(totalDistance) * TrainDetails.pricePerKm * int(numberOfPassangers)\n",
        "    for i,j in TrainDetails.trainData.items():\n",
        "      if i == userSelectedTrainNo:\n",
        "        for k,l in j['availableSeats'].items():\n",
        "          if(k == coach):\n",
        "            TrainDetails.trainData[i]['availableSeats'][coach] = newAvailableSeat\n",
        "        break\n",
        "    return int(numberOfPassangers),ticketPrice\n",
        "\n",
        "\n",
        "  def bookByTrain():\n",
        "    trainNumbers = []\n",
        "    for i,j in TrainDetails.trainData.items():\n",
        "      trainNumbers.append(i)\n",
        "      TicketHandling.displayTrainDetails(i)\n",
        "    userTrainNo = TicketHandling.selectedTrainNumber(trainNumbers, 'train')\n",
        "    commontrain, totalDistance,departureStationCode,arrivalStationCode = TicketHandling.userSelectedStations()\n",
        "    coachOptions = TicketHandling.getCoachDetails(userTrainNo)\n",
        "    departureTime = TicketHandling.getDepartureArrivalTime(userTrainNo,departureStationCode,'departureTime')\n",
        "    arrivalTime = TicketHandling.getDepartureArrivalTime(userTrainNo,arrivalStationCode,'arrivalTime')\n",
        "    return userTrainNo,totalDistance,coachOptions,departureTime,arrivalTime,departureStationCode,arrivalStationCode\n",
        "\n",
        "  def bookByStation():\n",
        "    commontrain,totalDistance,departureStationCode,arrivalStationCode = TicketHandling.userSelectedStations()\n",
        "    for i in commontrain:\n",
        "      TicketHandling.displayTrainDetails(i)\n",
        "    userTrainNo = TicketHandling.selectedTrainNumber(commontrain, 'train')\n",
        "    coachOptions = TicketHandling.getCoachDetails(userTrainNo)\n",
        "    departureTime = TicketHandling.getDepartureArrivalTime(userTrainNo,departureStationCode,'departureTime')\n",
        "    arrivalTime = TicketHandling.getDepartureArrivalTime(userTrainNo,arrivalStationCode,'arrivalTime')\n",
        "    return userTrainNo,totalDistance,coachOptions,departureTime,arrivalTime,departureStationCode,arrivalStationCode\n",
        "\n",
        "  def getDepartureArrivalTime(userTrainNo,stationCode,departueArivalText):\n",
        "    for i,j in TrainDetails.stationData.items():\n",
        "      if i == stationCode:\n",
        "        for k, l in j['stoppingTrainNo'].items():\n",
        "          if k==userTrainNo:\n",
        "            departueArivalTime = l[departueArivalText]\n",
        "    return departueArivalTime\n",
        "\n",
        "  def selectedTrainNumber(trainNos, inputStr):\n",
        "    userTrainNo = int(input('\\nPlease enter the {} number : '.format(inputStr)))\n",
        "    if userTrainNo not in trainNos:\n",
        "       userTrainNo = TicketHandling.selectedTrainNumber(trainNos,'valid train')\n",
        "    return userTrainNo\n",
        "\n",
        "  def userSelectedStations():\n",
        "    stationCodes = []\n",
        "    for i,j in TrainDetails.stationData.items():\n",
        "      print(i+': '+j['name'])\n",
        "      stationCodes.append(i)\n",
        "    departureStationCode = TicketHandling.getStationDetails(stationCodes,'departure')\n",
        "    arrivalStationCode = TicketHandling.getStationDetails(stationCodes,'arrival')\n",
        "    print([trNo for trNo,trDet in [sattion_dict['stoppingTrainNo'].items() for station,sattion_dict in TrainDetails.stationData.items() if station == departureStationCode][0]])\n",
        "    print([trNo for trNo,trDet in [sattion_dict['stoppingTrainNo'].items() for station,sattion_dict in TrainDetails.stationData.items() if station == arrivalStationCode][0]])\n",
        "    commontrain = list(set([trNo for trNo,trDet in [sattion_dict['stoppingTrainNo'].items() for station,sattion_dict in TrainDetails.stationData.items() if station == departureStationCode][0]])\n",
        "                        & set([trNo for trNo,trDet in [sattion_dict['stoppingTrainNo'].items() for station,sattion_dict in TrainDetails.stationData.items() if station == arrivalStationCode][0]]))\n",
        "    totalDistance = abs([j['distance'] for i,j in TrainDetails.stationData.items() if i == departureStationCode][0] - [j['distance'] for i,j in TrainDetails.stationData.items() if i == arrivalStationCode][0])\n",
        "    print(departureStationCode, arrivalStationCode, commontrain)\n",
        "    return commontrain,totalDistance,departureStationCode,arrivalStationCode\n",
        "\n",
        "  def getStationDetails(stationCodes, destOrArriv):\n",
        "    stationCode = input('\\nPlease enter the {} station code: '.format(destOrArriv))\n",
        "    if stationCode not in stationCodes:\n",
        "      stationCode = TicketHandling.getStationDetails(stationCodes, 'valid {}'.format(destOrArriv))\n",
        "    return(stationCode)\n",
        "\n",
        "  def displayTrainDetails(trainNo):\n",
        "    print('\\n################ Train Number: '+str(trainNo)+' #################\\n')\n",
        "    for i,j in TrainDetails.trainData.items():\n",
        "      if i==trainNo:\n",
        "        for a,b in j['availableSeats'].items():\n",
        "          for c,d in TrainDetails.trainBaseFare.items():\n",
        "            if(a==c):\n",
        "              print('Coach: '+a+'\\t|| Available seats('+str(b)+') \\t|| Fare: '+str(d)+' Per Adult')\n",
        "\n",
        "  def getCoachDetails(trainNo):\n",
        "    coachOptions = {}\n",
        "    for i,j in TrainDetails.trainData.items():\n",
        "      if i==trainNo:\n",
        "        for a,b in j['availableSeats'].items():\n",
        "          for c,d in TrainDetails.trainBaseFare.items():\n",
        "            if(a==c):\n",
        "              coachOptions.update({a:{'seats':b, 'baseBare':d}})\n",
        "    return(coachOptions)"
      ],
      "metadata": {
        "id": "ziJ3ILr9X-GF"
      },
      "execution_count": 48,
      "outputs": []
    },
    {
      "cell_type": "code",
      "execution_count": 50,
      "metadata": {
        "id": "-y2g7xxrKdKB",
        "outputId": "655d06d0-562f-4df3-a444-3f1ad79f0148",
        "colab": {
          "base_uri": "https://localhost:8080/"
        }
      },
      "outputs": [
        {
          "output_type": "stream",
          "name": "stdout",
          "text": [
            "***********Welcome to simple train booking system***********\n",
            "\t\t1: Ticket Booking\n",
            "\t\t2: Ticket Cancel\n",
            "\t\t3: Check PNR Status\n",
            "\t\t4: Check Seat Availability\n",
            "\n",
            "Please enter the option: 3\n",
            "Please enter the PNR number : PAL271996100001\n",
            "\n",
            "******************** Booking Details for PNR: PAL271996100001 ********************\n",
            "\n",
            "Name\t\t\t:Palani\n",
            "YOB\t\t\t:1996\n",
            "Age\t\t\t:27\n",
            "Train Number\t\t:100001 - (Madurai Express)\n",
            "Departure\t\t\t:Chennai Egmore (Depature Time: 10:10 AM)\n",
            "Arrival\t\t\t:Kovai (Arrival Time: 04:00 AM)\n",
            "Coach\t\t\t:1AC\n",
            "Number of Passangers    :5\n",
            "Payment\t\t\t:Rs. 5450.00\n",
            "\n",
            "Booking Status\t\t:CONFIRMED\n"
          ]
        }
      ],
      "source": [
        "class MenuOptions:\n",
        "  def menu():\n",
        "    ticketHandling = TicketHandling\n",
        "    userOptions = {1:'Ticket Booking', 2:'Ticket Cancel', 3:'Check PNR Status', 4:'Check Seat Availability'}\n",
        "    print('***********Welcome to simple train booking system***********')\n",
        "\n",
        "    for i in userOptions:\n",
        "      print('\\t\\t'+str(i)+': '+userOptions[i])\n",
        "    option = int(input('\\nPlease enter the option: '))\n",
        "\n",
        "    if option == '' or option not in userOptions:\n",
        "      option = int(input('\\nPlease enter the valid option: '))\n",
        "      MenuOptions.menu()\n",
        "    elif option == 1:\n",
        "      ticketHandling.ticketBooking()\n",
        "    elif option == 2:\n",
        "      ticketHandling.ticketCancel()\n",
        "    elif option == 3:\n",
        "      ticketHandling.pnrStatusCheck()\n",
        "    elif option == 4:\n",
        "      ticketHandling.seatAvailabilityCheck()\n",
        "\n",
        "MenuOptions.menu()\n"
      ]
    },
    {
      "cell_type": "code",
      "source": [
        "TrainDetails.trainData"
      ],
      "metadata": {
        "id": "V8eLuDFsvwFO"
      },
      "execution_count": null,
      "outputs": []
    },
    {
      "cell_type": "markdown",
      "source": [
        "5 1050.0 100001 Madurai Express 10:10 AM 10:00 AM 1AC North Indian Veg Meal 5 750.0 y Chennai Egmore Tambaram"
      ],
      "metadata": {
        "id": "fLGrsl88EdtL"
      }
    },
    {
      "cell_type": "code",
      "source": [
        "TrainDetails.bookingHistory"
      ],
      "metadata": {
        "id": "EA6oYf05vyzt"
      },
      "execution_count": null,
      "outputs": []
    },
    {
      "cell_type": "code",
      "source": [
        "class TranData:\n",
        "  def __init__(self,trainNo,trainName,ac_1,ac_2,sl,general,departure,arrival):\n",
        "    self.traindata = {self.trainNo:{'name':self.trainName,'availableSeats':{'1AC':self.ac_1,'2AC':self.ac_2,'Sleeper':self.sl,'General':self.general}}}"
      ],
      "metadata": {
        "id": "aWWASH-ttB9t"
      },
      "execution_count": null,
      "outputs": []
    },
    {
      "cell_type": "markdown",
      "source": [
        "self.trainNo = trainNo\n",
        "    self.trainName = trainName\n",
        "    self.ac_1 = ac_1\n",
        "    self.ac_2 = ac_2\n",
        "    self.sl = sl\n",
        "    self.general = general\n",
        "    self.departure = departure\n",
        "    self.arrival = arrival"
      ],
      "metadata": {
        "id": "gRuODd44z5vu"
      }
    },
    {
      "cell_type": "code",
      "source": [
        "t1 = TranData(100001,'Madurai Express',100,200,300,400,'MS','CBE')\n"
      ],
      "metadata": {
        "id": "0Sb7YjzsxMz4",
        "outputId": "998c99e6-70e4-48b8-9807-e8da9a6223db",
        "colab": {
          "base_uri": "https://localhost:8080/",
          "height": 228
        }
      },
      "execution_count": null,
      "outputs": [
        {
          "output_type": "error",
          "ename": "AttributeError",
          "evalue": "'TranData' object has no attribute 'trainNo'",
          "traceback": [
            "\u001b[0;31m---------------------------------------------------------------------------\u001b[0m",
            "\u001b[0;31mAttributeError\u001b[0m                            Traceback (most recent call last)",
            "\u001b[0;32m<ipython-input-16-d761f95d3e54>\u001b[0m in \u001b[0;36m<cell line: 1>\u001b[0;34m()\u001b[0m\n\u001b[0;32m----> 1\u001b[0;31m \u001b[0mt1\u001b[0m \u001b[0;34m=\u001b[0m \u001b[0mTranData\u001b[0m\u001b[0;34m(\u001b[0m\u001b[0;36m100001\u001b[0m\u001b[0;34m,\u001b[0m\u001b[0;34m'Madurai Express'\u001b[0m\u001b[0;34m,\u001b[0m\u001b[0;36m100\u001b[0m\u001b[0;34m,\u001b[0m\u001b[0;36m200\u001b[0m\u001b[0;34m,\u001b[0m\u001b[0;36m300\u001b[0m\u001b[0;34m,\u001b[0m\u001b[0;36m400\u001b[0m\u001b[0;34m,\u001b[0m\u001b[0;34m'MS'\u001b[0m\u001b[0;34m,\u001b[0m\u001b[0;34m'CBE'\u001b[0m\u001b[0;34m)\u001b[0m\u001b[0;34m\u001b[0m\u001b[0;34m\u001b[0m\u001b[0m\n\u001b[0m",
            "\u001b[0;32m<ipython-input-15-84d6d88c7a58>\u001b[0m in \u001b[0;36m__init__\u001b[0;34m(self, trainNo, trainName, ac_1, ac_2, sl, general, departure, arrival)\u001b[0m\n\u001b[1;32m      1\u001b[0m \u001b[0;32mclass\u001b[0m \u001b[0mTranData\u001b[0m\u001b[0;34m:\u001b[0m\u001b[0;34m\u001b[0m\u001b[0;34m\u001b[0m\u001b[0m\n\u001b[1;32m      2\u001b[0m   \u001b[0;32mdef\u001b[0m \u001b[0m__init__\u001b[0m\u001b[0;34m(\u001b[0m\u001b[0mself\u001b[0m\u001b[0;34m,\u001b[0m\u001b[0mtrainNo\u001b[0m\u001b[0;34m,\u001b[0m\u001b[0mtrainName\u001b[0m\u001b[0;34m,\u001b[0m\u001b[0mac_1\u001b[0m\u001b[0;34m,\u001b[0m\u001b[0mac_2\u001b[0m\u001b[0;34m,\u001b[0m\u001b[0msl\u001b[0m\u001b[0;34m,\u001b[0m\u001b[0mgeneral\u001b[0m\u001b[0;34m,\u001b[0m\u001b[0mdeparture\u001b[0m\u001b[0;34m,\u001b[0m\u001b[0marrival\u001b[0m\u001b[0;34m)\u001b[0m\u001b[0;34m:\u001b[0m\u001b[0;34m\u001b[0m\u001b[0;34m\u001b[0m\u001b[0m\n\u001b[0;32m----> 3\u001b[0;31m     \u001b[0mself\u001b[0m\u001b[0;34m.\u001b[0m\u001b[0mtraindata\u001b[0m \u001b[0;34m=\u001b[0m \u001b[0;34m{\u001b[0m\u001b[0mself\u001b[0m\u001b[0;34m.\u001b[0m\u001b[0mtrainNo\u001b[0m\u001b[0;34m:\u001b[0m\u001b[0;34m{\u001b[0m\u001b[0;34m'name'\u001b[0m\u001b[0;34m:\u001b[0m\u001b[0mself\u001b[0m\u001b[0;34m.\u001b[0m\u001b[0mtrainName\u001b[0m\u001b[0;34m,\u001b[0m\u001b[0;34m'availableSeats'\u001b[0m\u001b[0;34m:\u001b[0m\u001b[0;34m{\u001b[0m\u001b[0;34m'1AC'\u001b[0m\u001b[0;34m:\u001b[0m\u001b[0mself\u001b[0m\u001b[0;34m.\u001b[0m\u001b[0mac_1\u001b[0m\u001b[0;34m,\u001b[0m\u001b[0;34m'2AC'\u001b[0m\u001b[0;34m:\u001b[0m\u001b[0mself\u001b[0m\u001b[0;34m.\u001b[0m\u001b[0mac_2\u001b[0m\u001b[0;34m,\u001b[0m\u001b[0;34m'Sleeper'\u001b[0m\u001b[0;34m:\u001b[0m\u001b[0mself\u001b[0m\u001b[0;34m.\u001b[0m\u001b[0msl\u001b[0m\u001b[0;34m,\u001b[0m\u001b[0;34m'General'\u001b[0m\u001b[0;34m:\u001b[0m\u001b[0mself\u001b[0m\u001b[0;34m.\u001b[0m\u001b[0mgeneral\u001b[0m\u001b[0;34m}\u001b[0m\u001b[0;34m}\u001b[0m\u001b[0;34m}\u001b[0m\u001b[0;34m\u001b[0m\u001b[0;34m\u001b[0m\u001b[0m\n\u001b[0m",
            "\u001b[0;31mAttributeError\u001b[0m: 'TranData' object has no attribute 'trainNo'"
          ]
        }
      ]
    },
    {
      "cell_type": "code",
      "source": [
        "TranData.traindata(100001,'Madurai Express',100,200,300,400,'MS','CBE')"
      ],
      "metadata": {
        "id": "9LM-8rzZxpUJ",
        "outputId": "bb954308-88f7-4672-9e5a-b1e57fd53aa4",
        "colab": {
          "base_uri": "https://localhost:8080/",
          "height": 141
        }
      },
      "execution_count": null,
      "outputs": [
        {
          "output_type": "error",
          "ename": "TypeError",
          "evalue": "'dict' object is not callable",
          "traceback": [
            "\u001b[0;31m---------------------------------------------------------------------------\u001b[0m",
            "\u001b[0;31mTypeError\u001b[0m                                 Traceback (most recent call last)",
            "\u001b[0;32m<ipython-input-14-b1376e202b98>\u001b[0m in \u001b[0;36m<cell line: 1>\u001b[0;34m()\u001b[0m\n\u001b[0;32m----> 1\u001b[0;31m \u001b[0mTranData\u001b[0m\u001b[0;34m.\u001b[0m\u001b[0mtraindata\u001b[0m\u001b[0;34m(\u001b[0m\u001b[0;36m100001\u001b[0m\u001b[0;34m,\u001b[0m\u001b[0;34m'Madurai Express'\u001b[0m\u001b[0;34m,\u001b[0m\u001b[0;36m100\u001b[0m\u001b[0;34m,\u001b[0m\u001b[0;36m200\u001b[0m\u001b[0;34m,\u001b[0m\u001b[0;36m300\u001b[0m\u001b[0;34m,\u001b[0m\u001b[0;36m400\u001b[0m\u001b[0;34m,\u001b[0m\u001b[0;34m'MS'\u001b[0m\u001b[0;34m,\u001b[0m\u001b[0;34m'CBE'\u001b[0m\u001b[0;34m)\u001b[0m\u001b[0;34m\u001b[0m\u001b[0;34m\u001b[0m\u001b[0m\n\u001b[0m",
            "\u001b[0;31mTypeError\u001b[0m: 'dict' object is not callable"
          ]
        }
      ]
    },
    {
      "cell_type": "code",
      "source": [
        "test = [trNo for trNo,trDet in [sattion_dict['stoppingTrainNo'].items() for station,sattion_dict in TrainDetails.stationData.items() if station == 'MS'][0]]\n",
        "test\n",
        ""
      ],
      "metadata": {
        "id": "_uSjHrB2K90_",
        "outputId": "fb9b944b-0387-472d-9ca2-fb9743d7de76",
        "colab": {
          "base_uri": "https://localhost:8080/"
        }
      },
      "execution_count": 47,
      "outputs": [
        {
          "output_type": "execute_result",
          "data": {
            "text/plain": [
              "[100001, 100004]"
            ]
          },
          "metadata": {},
          "execution_count": 47
        }
      ]
    },
    {
      "cell_type": "code",
      "source": [
        "ttt = [bbb['stoppingTrainNo'] for aaa,bbb in TrainDetails.stationData.items() if aaa == 'MS'][0]\n",
        "for yyy, zzz in ttt.items():\n",
        "  print(yyy)"
      ],
      "metadata": {
        "id": "CayZqp4xhh15",
        "outputId": "912e1977-fdb2-4eb0-e158-ba42d49032ef",
        "colab": {
          "base_uri": "https://localhost:8080/"
        }
      },
      "execution_count": 43,
      "outputs": [
        {
          "output_type": "stream",
          "name": "stdout",
          "text": [
            "100001\n",
            "100004\n"
          ]
        }
      ]
    }
  ]
}