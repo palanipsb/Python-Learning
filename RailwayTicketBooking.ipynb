{
  "nbformat": 4,
  "nbformat_minor": 0,
  "metadata": {
    "colab": {
      "provenance": [],
      "authorship_tag": "ABX9TyPweR+A2cdmaNHqJvlX/kt7",
      "include_colab_link": true
    },
    "kernelspec": {
      "name": "python3",
      "display_name": "Python 3"
    },
    "language_info": {
      "name": "python"
    }
  },
  "cells": [
    {
      "cell_type": "markdown",
      "metadata": {
        "id": "view-in-github",
        "colab_type": "text"
      },
      "source": [
        "<a href=\"https://colab.research.google.com/github/palanipsb/Python-Learning/blob/main/RailwayTicketBooking.ipynb\" target=\"_parent\"><img src=\"https://colab.research.google.com/assets/colab-badge.svg\" alt=\"Open In Colab\"/></a>"
      ]
    },
    {
      "cell_type": "code",
      "execution_count": 39,
      "metadata": {
        "id": "-y2g7xxrKdKB",
        "outputId": "02689140-4657-4d78-826e-cc9a1a27f8b2",
        "colab": {
          "base_uri": "https://localhost:8080/"
        }
      },
      "outputs": [
        {
          "name": "stdout",
          "output_type": "stream",
          "text": [
            "***********Welcome to simple train booking system***********\n",
            "\t\t1: Ticket Booking\n",
            "\t\t2: Ticket Cancel\n",
            "\t\t3: Check PNR Status\n",
            "\t\t4: Check Seat Availability\n",
            "\n",
            "Please enter the option: 1\n",
            "\t\t1: By selecting Station\n",
            "\t\t2: By Train Number\n",
            "\n",
            "Please enter the booking option: 1\n",
            "MS: Chennai Egmore\n",
            "TBM: Tambaram\n",
            "CBE: Tambaram\n",
            "\n",
            "Please enter the departure station code: MS\n",
            "\n",
            "Please enter the arrival station code: TBM\n"
          ]
        }
      ],
      "source": [
        "class TrainDetails:\n",
        "  trainData = {100001:{'name':'Madurai Express', 'availableSeats':{'1AC':100, '2AC':150, 'Sleeper':300, 'General':100}, 'departureStation':'MS', 'destinationStation':'MDU'},\n",
        "               100002:{'name':'Kovai Supper Fast Express', 'availableSeats':{'1AC':100, '2AC':150, 'Sleeper':300, 'General':100}, 'departureStation':'MAS', 'destinationStation':'CBE'},\n",
        "               100003:{'name':'Banglore Express', 'availableSeats':{'1AC':50, '2AC':100, 'Semi-Sleeper':300}, 'departureStation':'MAS', 'destinationStation':'SBC'},\n",
        "               100004:{'name':'Kanyakumari Passagnger', 'availableSeats':{'1AC':250, '2AC':350, 'Sleeper':400, 'General':200}, 'departureStation':'MS', 'destinationStation':'CAPE'},}\n",
        "  trainFare = {'1AC':2000.00, '2AC':1500.00, 'Sleeper':850.00,  'Semi-Sleeper':500, 'General':250}\n",
        "  stationData = {'MS':{'name':'Chennai Egmore', 'stoppingTrainNo':[100001,100004]},\n",
        "                 'TBM':{'name':'Tambaram', 'stoppingTrainNo':[100001,100004]},\n",
        "                 'CBE':{'name':'Tambaram', 'stoppingTrainNo':[100002,100003]}}\n",
        "  foodDetails = {1:{'meal':'South Indian Breakfast','price':100.00},\n",
        "                  2:{'meal':'North Indian Breakfast','price':80.00},\n",
        "                  3:{'meal':'South Indian Veg Meal','price':200.00},\n",
        "                  4:{'meal':'South Indian Non Veg Meal','price':250.00},\n",
        "                  5:{'meal':'North Indian Veg Meal','price':150.00},\n",
        "                  6:{'meal':'North Indian Non Veg Meal','price':180.00},\n",
        "                  7:{'meal':'South Indian Dinner','price':140.00},\n",
        "                  8:{'meal':'North Indian Dinner','price':120.00}}\n",
        "  pass\n",
        "\n",
        "class TicketHandling:\n",
        "  trainDetails = TrainDetails()\n",
        "  def __init__(self,trainNumber,trainName, destinationStation,arivalStation,dateofTravel):\n",
        "    self.trainNumber = trainNumber\n",
        "    self.trainName = trainName\n",
        "    self.destinationStation = destinationStation\n",
        "    self.arivalStation = arivalStation\n",
        "    self.dateofTravel = dateofTravel\n",
        "\n",
        "  def ticketBooking():\n",
        "    bookingOptions = {1:'By selecting Station', 2:'By Train Number'}\n",
        "    for i in bookingOptions:\n",
        "      print('\\t\\t'+str(i)+': '+bookingOptions[i])\n",
        "    bookingOption = int(input('\\nPlease enter the booking option: '))\n",
        "\n",
        "    if bookingOption == '' or bookingOption not in range(2):\n",
        "      bookingOption = int(input('\\nPlease enter the booking option: '))\n",
        "      TicketHandling.ticketBooking()\n",
        "    elif bookingOption == 1:\n",
        "      TicketHandling.bookByStation()\n",
        "    elif bookingOption == 2:\n",
        "      TicketHandling.bookByTrain()\n",
        "\n",
        "  def bookByStation():\n",
        "    stationCodes = []\n",
        "    for i,j in TrainDetails.stationData.items():\n",
        "      print(i+': '+j['name'])\n",
        "      stationCodes.append(i)\n",
        "    departureStationCode = input('\\nPlease enter the departure station code: ')\n",
        "    if departureStationCode not in stationCodes:\n",
        "      departureStationCode = input('\\nPlease enter the valid departure station code: ')\n",
        "      TicketHandling.bookByStation()\n",
        "    arrivalStationCode = input('\\nPlease enter the arrival station code: ')\n",
        "    if arrivalStationCode not in stationCodes:\n",
        "      arrivalStationCode = input('\\nPlease enter the valid arrival station code: ')\n",
        "      TicketHandling.bookByStation()\n",
        "\n",
        "    commontrain = list(set([j['stoppingTrainNo'] for i,j in TrainDetails.stationData.items() if i == departureStationCode][0]) & set([j['stoppingTrainNo'] for i,j in TrainDetails.stationData.items() if i == arrivalStationCode][0]))\n",
        "    for i in commontrain:\n",
        "      TicketHandling.displayTrainDetails(i)\n",
        "\n",
        "  def displayTrainDetails(trainNo):\n",
        "    for i,j in TrainDetails.trainData.items():\n",
        "      if i==trainNo:\n",
        "        trainNumber = i\n",
        "        trainName = j['name']\n",
        "        for key,value in set(j['availableSeats'].items()).intersection(set(TrainDetails.trainFare.items())):\n",
        "          print(key,value)\n",
        "\n",
        "class MenuOptions:\n",
        "  def menu():\n",
        "    ticketHandling = TicketHandling\n",
        "    userOptions = {1:'Ticket Booking', 2:'Ticket Cancel', 3:'Check PNR Status', 4:'Check Seat Availability'}\n",
        "    print('***********Welcome to simple train booking system***********')\n",
        "\n",
        "    for i in userOptions:\n",
        "      print('\\t\\t'+str(i)+': '+userOptions[i])\n",
        "    option = int(input('\\nPlease enter the option: '))\n",
        "\n",
        "    if option == '' or option not in range(4):\n",
        "      option = int(input('\\nPlease enter the valid option: '))\n",
        "      MenuOptions.menu()\n",
        "    elif option == 1:\n",
        "      ticketHandling.ticketBooking()\n",
        "    elif option == 2:\n",
        "      ticketHandling.ticketCancel()\n",
        "    elif option == 3:\n",
        "      ticketHandling.pnrStatusCheck()\n",
        "    elif option == 4:\n",
        "      ticketHandling.seatAvailabilityCheck()\n",
        "\n",
        "MenuOptions.menu()\n",
        ""
      ]
    }
  ]
}