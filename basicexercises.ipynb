{
  "cells": [
    {
      "cell_type": "markdown",
      "metadata": {
        "id": "view-in-github",
        "colab_type": "text"
      },
      "source": [
        "<a href=\"https://colab.research.google.com/github/palanipsb/Python-Learning/blob/main/basicexercises.ipynb\" target=\"_parent\"><img src=\"https://colab.research.google.com/assets/colab-badge.svg\" alt=\"Open In Colab\"/></a>"
      ]
    },
    {
      "cell_type": "code",
      "execution_count": null,
      "metadata": {
        "id": "zwFnJsE6vjf8"
      },
      "outputs": [],
      "source": [
        "a = 10\n",
        "b = 'Palanivel Subramani'"
      ]
    },
    {
      "cell_type": "code",
      "source": [
        "class BankAccount:\n",
        "  transactions = {}\n",
        "  def __init__(self, account_number, balance):\n",
        "      self.account_number = account_number\n",
        "      self.balance = balance\n",
        "      self.transactions.update({self.account_number:{'balance':self.balance}})"
      ],
      "metadata": {
        "id": "P4MEPi4xJGNG"
      },
      "execution_count": 61,
      "outputs": []
    },
    {
      "cell_type": "code",
      "source": [
        "class BankTransaction:\n",
        "  def __init(selfGlob):\n",
        "    pass\n",
        "  global transact\n",
        "  transact = BankAccount\n",
        "\n",
        "  def deposit(self, account_number, amount):\n",
        "    self.account_number = account_number\n",
        "    self.amount = amount\n",
        "    self.balance = transact.transactions[self.account_number]['balance']\n",
        "    self.balance += self.amount\n",
        "    transact.transactions.update({self.account_number:{'balance':self.balance}})\n",
        "\n",
        "  def withdraw(self,account_number, amount):\n",
        "    self.account_number = account_number\n",
        "    self.amount = amount\n",
        "    self.balance = transact.transactions[self.account_number]['balance']\n",
        "    if self.amount > self.balance:\n",
        "        raise ValueError(\"Not enough funds\")\n",
        "    self.balance -= self.amount\n",
        "    transact.transactions.update({self.account_number:{'balance':self.balance}})\n",
        "\n",
        "  def display(self,account_number):\n",
        "    print(account_number)\n",
        "    print(transact.transactions)\n",
        "    print(transact.transactions[account_number]['balance'])"
      ],
      "metadata": {
        "id": "aBg7qfRTrlyE"
      },
      "execution_count": 62,
      "outputs": []
    },
    {
      "cell_type": "code",
      "source": [
        "class MenuOptions(BankTransaction):\n",
        "\n",
        "  def menu(self,option):\n",
        "    if option == 1:\n",
        "      self.display(123456)\n"
      ],
      "metadata": {
        "id": "7vRgPhkrsJXX"
      },
      "execution_count": 56,
      "outputs": []
    },
    {
      "cell_type": "code",
      "source": [
        "print(',{} '.format([1,2,3]))"
      ],
      "metadata": {
        "id": "LwBhIO0k3WVe",
        "outputId": "9933e1c3-6408-4196-b14b-119bea561d45",
        "colab": {
          "base_uri": "https://localhost:8080/"
        }
      },
      "execution_count": 64,
      "outputs": [
        {
          "output_type": "stream",
          "name": "stdout",
          "text": [
            ",[1, 2, 3] \n"
          ]
        }
      ]
    },
    {
      "cell_type": "code",
      "source": [
        "my_account = BankAccount(123456, 1000)\n",
        "my_account2 = BankAccount(123457, 800)"
      ],
      "metadata": {
        "id": "AgZs8sRjJJ6m"
      },
      "execution_count": 57,
      "outputs": []
    },
    {
      "cell_type": "code",
      "source": [
        "bTrans = BankTransaction()\n",
        "bTrans.display(123456)"
      ],
      "metadata": {
        "id": "dUgsHtCsJlb4",
        "outputId": "e2ccf04b-0559-44a8-e580-221091d02581",
        "colab": {
          "base_uri": "https://localhost:8080/"
        }
      },
      "execution_count": 58,
      "outputs": [
        {
          "output_type": "stream",
          "name": "stdout",
          "text": [
            "123456\n",
            "{123456: {'balance': 1000}, 123457: {'balance': 800}}\n",
            "1000\n"
          ]
        }
      ]
    },
    {
      "cell_type": "code",
      "source": [
        "mn = MenuOptions()\n",
        "mn.menu(1)"
      ],
      "metadata": {
        "id": "w2hmR35JvML2",
        "outputId": "93bed4b8-5bc8-44d5-ad50-06f7e5d08dc0",
        "colab": {
          "base_uri": "https://localhost:8080/"
        }
      },
      "execution_count": 59,
      "outputs": [
        {
          "output_type": "stream",
          "name": "stdout",
          "text": [
            "123456\n",
            "{123456: {'balance': 1000}, 123457: {'balance': 800}}\n",
            "1000\n"
          ]
        }
      ]
    },
    {
      "cell_type": "code",
      "source": [
        "my_account.transactions[123456]"
      ],
      "metadata": {
        "id": "__suCC4puqsa",
        "outputId": "cb89c107-420e-4f9c-ad25-fe81a79fcfba",
        "colab": {
          "base_uri": "https://localhost:8080/"
        }
      },
      "execution_count": 17,
      "outputs": [
        {
          "output_type": "execute_result",
          "data": {
            "text/plain": [
              "{'balance': 1000}"
            ]
          },
          "metadata": {},
          "execution_count": 17
        }
      ]
    },
    {
      "cell_type": "code",
      "source": [
        "bTrans.deposit(123456,100)\n",
        "bTrans.withdraw(123457,50)"
      ],
      "metadata": {
        "id": "8pmdR_VdJNa2",
        "outputId": "008e1527-cadf-405d-8bef-2d7d93ad8922",
        "colab": {
          "base_uri": "https://localhost:8080/",
          "height": 280
        }
      },
      "execution_count": 60,
      "outputs": [
        {
          "output_type": "error",
          "ename": "AttributeError",
          "evalue": "'BankTransaction' object has no attribute 'transact'",
          "traceback": [
            "\u001b[0;31m---------------------------------------------------------------------------\u001b[0m",
            "\u001b[0;31mAttributeError\u001b[0m                            Traceback (most recent call last)",
            "\u001b[0;32m<ipython-input-60-e3e4083b3584>\u001b[0m in \u001b[0;36m<cell line: 1>\u001b[0;34m()\u001b[0m\n\u001b[0;32m----> 1\u001b[0;31m \u001b[0mbTrans\u001b[0m\u001b[0;34m.\u001b[0m\u001b[0mdeposit\u001b[0m\u001b[0;34m(\u001b[0m\u001b[0;36m123456\u001b[0m\u001b[0;34m,\u001b[0m\u001b[0;36m100\u001b[0m\u001b[0;34m)\u001b[0m\u001b[0;34m\u001b[0m\u001b[0;34m\u001b[0m\u001b[0m\n\u001b[0m\u001b[1;32m      2\u001b[0m \u001b[0mbTrans\u001b[0m\u001b[0;34m.\u001b[0m\u001b[0mwithdraw\u001b[0m\u001b[0;34m(\u001b[0m\u001b[0;36m123457\u001b[0m\u001b[0;34m,\u001b[0m\u001b[0;36m50\u001b[0m\u001b[0;34m)\u001b[0m\u001b[0;34m\u001b[0m\u001b[0;34m\u001b[0m\u001b[0m\n",
            "\u001b[0;32m<ipython-input-55-f1524c91aef1>\u001b[0m in \u001b[0;36mdeposit\u001b[0;34m(self, account_number, amount)\u001b[0m\n\u001b[1;32m      8\u001b[0m     \u001b[0mself\u001b[0m\u001b[0;34m.\u001b[0m\u001b[0maccount_number\u001b[0m \u001b[0;34m=\u001b[0m \u001b[0maccount_number\u001b[0m\u001b[0;34m\u001b[0m\u001b[0;34m\u001b[0m\u001b[0m\n\u001b[1;32m      9\u001b[0m     \u001b[0mself\u001b[0m\u001b[0;34m.\u001b[0m\u001b[0mamount\u001b[0m \u001b[0;34m=\u001b[0m \u001b[0mamount\u001b[0m\u001b[0;34m\u001b[0m\u001b[0;34m\u001b[0m\u001b[0m\n\u001b[0;32m---> 10\u001b[0;31m     \u001b[0mself\u001b[0m\u001b[0;34m.\u001b[0m\u001b[0mbalance\u001b[0m \u001b[0;34m=\u001b[0m \u001b[0mself\u001b[0m\u001b[0;34m.\u001b[0m\u001b[0mtransact\u001b[0m\u001b[0;34m.\u001b[0m\u001b[0mtransactions\u001b[0m\u001b[0;34m[\u001b[0m\u001b[0mself\u001b[0m\u001b[0;34m.\u001b[0m\u001b[0maccount_number\u001b[0m\u001b[0;34m]\u001b[0m\u001b[0;34m[\u001b[0m\u001b[0;34m'balance'\u001b[0m\u001b[0;34m]\u001b[0m\u001b[0;34m\u001b[0m\u001b[0;34m\u001b[0m\u001b[0m\n\u001b[0m\u001b[1;32m     11\u001b[0m     \u001b[0mself\u001b[0m\u001b[0;34m.\u001b[0m\u001b[0mbalance\u001b[0m \u001b[0;34m+=\u001b[0m \u001b[0mself\u001b[0m\u001b[0;34m.\u001b[0m\u001b[0mamount\u001b[0m\u001b[0;34m\u001b[0m\u001b[0;34m\u001b[0m\u001b[0m\n\u001b[1;32m     12\u001b[0m     \u001b[0mself\u001b[0m\u001b[0;34m.\u001b[0m\u001b[0mtransact\u001b[0m\u001b[0;34m.\u001b[0m\u001b[0mtransactions\u001b[0m\u001b[0;34m.\u001b[0m\u001b[0mupdate\u001b[0m\u001b[0;34m(\u001b[0m\u001b[0;34m{\u001b[0m\u001b[0mself\u001b[0m\u001b[0;34m.\u001b[0m\u001b[0maccount_number\u001b[0m\u001b[0;34m:\u001b[0m\u001b[0;34m{\u001b[0m\u001b[0;34m'balance'\u001b[0m\u001b[0;34m:\u001b[0m\u001b[0mself\u001b[0m\u001b[0;34m.\u001b[0m\u001b[0mbalance\u001b[0m\u001b[0;34m}\u001b[0m\u001b[0;34m}\u001b[0m\u001b[0;34m)\u001b[0m\u001b[0;34m\u001b[0m\u001b[0;34m\u001b[0m\u001b[0m\n",
            "\u001b[0;31mAttributeError\u001b[0m: 'BankTransaction' object has no attribute 'transact'"
          ]
        }
      ]
    },
    {
      "cell_type": "code",
      "source": [
        "my_account3 = BankAccount\n",
        "my_account3.transactions"
      ],
      "metadata": {
        "id": "sMGrX7LyLV7C",
        "outputId": "e9eff7ac-0337-4dc1-ac70-1d8251a74ae2",
        "colab": {
          "base_uri": "https://localhost:8080/"
        }
      },
      "execution_count": null,
      "outputs": [
        {
          "output_type": "execute_result",
          "data": {
            "text/plain": [
              "{'123456': {'balance': 1150}, '123457': {'balance': 850}}"
            ]
          },
          "metadata": {},
          "execution_count": 42
        }
      ]
    },
    {
      "cell_type": "code",
      "source": [
        "print(dir(str))"
      ],
      "metadata": {
        "colab": {
          "base_uri": "https://localhost:8080/"
        },
        "id": "1mz2uIw4GwRd",
        "outputId": "e1856ad2-1f44-409b-f6a7-f5c775f9a8a8"
      },
      "execution_count": null,
      "outputs": [
        {
          "output_type": "stream",
          "name": "stdout",
          "text": [
            "['__add__', '__class__', '__contains__', '__delattr__', '__dir__', '__doc__', '__eq__', '__format__', '__ge__', '__getattribute__', '__getitem__', '__getnewargs__', '__gt__', '__hash__', '__init__', '__init_subclass__', '__iter__', '__le__', '__len__', '__lt__', '__mod__', '__mul__', '__ne__', '__new__', '__reduce__', '__reduce_ex__', '__repr__', '__rmod__', '__rmul__', '__setattr__', '__sizeof__', '__str__', '__subclasshook__', 'capitalize', 'casefold', 'center', 'count', 'encode', 'endswith', 'expandtabs', 'find', 'format', 'format_map', 'index', 'isalnum', 'isalpha', 'isascii', 'isdecimal', 'isdigit', 'isidentifier', 'islower', 'isnumeric', 'isprintable', 'isspace', 'istitle', 'isupper', 'join', 'ljust', 'lower', 'lstrip', 'maketrans', 'partition', 'removeprefix', 'removesuffix', 'replace', 'rfind', 'rindex', 'rjust', 'rpartition', 'rsplit', 'rstrip', 'split', 'splitlines', 'startswith', 'strip', 'swapcase', 'title', 'translate', 'upper', 'zfill']\n"
          ]
        }
      ]
    },
    {
      "cell_type": "code",
      "source": [
        "b.__len__()"
      ],
      "metadata": {
        "colab": {
          "base_uri": "https://localhost:8080/"
        },
        "id": "RyP3nAafG4rt",
        "outputId": "2dce9482-ab8b-4af5-dfa7-c40bb70e64e8"
      },
      "execution_count": null,
      "outputs": [
        {
          "output_type": "execute_result",
          "data": {
            "text/plain": [
              "19"
            ]
          },
          "metadata": {},
          "execution_count": 6
        }
      ]
    },
    {
      "cell_type": "code",
      "source": [
        "help(str.__add__)"
      ],
      "metadata": {
        "colab": {
          "base_uri": "https://localhost:8080/"
        },
        "id": "nc1oXPlnIEGs",
        "outputId": "2e25c476-56b5-4f33-ffb1-63cecdaac618"
      },
      "execution_count": null,
      "outputs": [
        {
          "output_type": "stream",
          "name": "stdout",
          "text": [
            "Help on wrapper_descriptor:\n",
            "\n",
            "__add__(self, value, /)\n",
            "    Return self+value.\n",
            "\n"
          ]
        }
      ]
    },
    {
      "cell_type": "code",
      "source": [
        "'Py' 'thon'"
      ],
      "metadata": {
        "id": "H5_-7R2fimV6",
        "outputId": "f852415f-521f-4308-a0d2-e9c62f2f2bcf",
        "colab": {
          "base_uri": "https://localhost:8080/",
          "height": 35
        }
      },
      "execution_count": null,
      "outputs": [
        {
          "output_type": "execute_result",
          "data": {
            "text/plain": [
              "'Python'"
            ],
            "application/vnd.google.colaboratory.intrinsic+json": {
              "type": "string"
            }
          },
          "metadata": {},
          "execution_count": 9
        }
      ]
    },
    {
      "cell_type": "code",
      "source": [
        "a = 'Py'\n",
        "b = 'thon'"
      ],
      "metadata": {
        "id": "6U4CcBOGOjpX"
      },
      "execution_count": null,
      "outputs": []
    },
    {
      "cell_type": "code",
      "source": [
        "c = 'Sy' b\n",
        "c"
      ],
      "metadata": {
        "id": "13V7oKD4O5yI",
        "outputId": "ac495ccf-f5f5-44c5-fe3f-25798126cc1d",
        "colab": {
          "base_uri": "https://localhost:8080/",
          "height": 106
        }
      },
      "execution_count": null,
      "outputs": [
        {
          "output_type": "error",
          "ename": "SyntaxError",
          "evalue": "invalid syntax (<ipython-input-5-b56e6183828d>, line 1)",
          "traceback": [
            "\u001b[0;36m  File \u001b[0;32m\"<ipython-input-5-b56e6183828d>\"\u001b[0;36m, line \u001b[0;32m1\u001b[0m\n\u001b[0;31m    c = 'Sy' b\u001b[0m\n\u001b[0m             ^\u001b[0m\n\u001b[0;31mSyntaxError\u001b[0m\u001b[0;31m:\u001b[0m invalid syntax\n"
          ]
        }
      ]
    },
    {
      "cell_type": "code",
      "source": [
        "print(dir(tuple))"
      ],
      "metadata": {
        "id": "HdoVoSbPLiXO",
        "outputId": "e7361022-ae84-47b7-ebdc-640b077b7537",
        "colab": {
          "base_uri": "https://localhost:8080/"
        }
      },
      "execution_count": null,
      "outputs": [
        {
          "output_type": "stream",
          "name": "stdout",
          "text": [
            "['__add__', '__class__', '__class_getitem__', '__contains__', '__delattr__', '__dir__', '__doc__', '__eq__', '__format__', '__ge__', '__getattribute__', '__getitem__', '__getnewargs__', '__gt__', '__hash__', '__init__', '__init_subclass__', '__iter__', '__le__', '__len__', '__lt__', '__mul__', '__ne__', '__new__', '__reduce__', '__reduce_ex__', '__repr__', '__rmul__', '__setattr__', '__sizeof__', '__str__', '__subclasshook__', 'count', 'index']\n"
          ]
        }
      ]
    },
    {
      "cell_type": "code",
      "source": [
        "m,n = [5,6],(7,8)"
      ],
      "metadata": {
        "id": "6N7chBjhXpTN"
      },
      "execution_count": null,
      "outputs": []
    },
    {
      "cell_type": "code",
      "source": [
        "result = []\n",
        "for i in [1,2,3,4,5]:\n",
        "  result.append(i*i)\n",
        "result"
      ],
      "metadata": {
        "id": "J66f-LW_XvGa",
        "outputId": "00943cc0-d6d1-4436-9834-97d7152e3cc8",
        "colab": {
          "base_uri": "https://localhost:8080/"
        }
      },
      "execution_count": null,
      "outputs": [
        {
          "output_type": "execute_result",
          "data": {
            "text/plain": [
              "[1, 4, 9, 16, 25]"
            ]
          },
          "metadata": {},
          "execution_count": 13
        }
      ]
    },
    {
      "cell_type": "code",
      "source": [
        "result = []\n",
        "result2 = []\n",
        "a = 'python'\n",
        "b = 'learn'\n",
        "result=[i+j for i in a for j in b]\n",
        "result\n",
        "result2=([i[1] for i in result])\n",
        "print(result2)"
      ],
      "metadata": {
        "id": "SkJ7y6FpdUwM",
        "outputId": "932ddd24-5c7c-4942-dd10-cd2a9565b0b8",
        "colab": {
          "base_uri": "https://localhost:8080/"
        }
      },
      "execution_count": null,
      "outputs": [
        {
          "output_type": "stream",
          "name": "stdout",
          "text": [
            "['l', 'e', 'a', 'r', 'n', 'l', 'e', 'a', 'r', 'n', 'l', 'e', 'a', 'r', 'n', 'l', 'e', 'a', 'r', 'n', 'l', 'e', 'a', 'r', 'n', 'l', 'e', 'a', 'r', 'n']\n"
          ]
        }
      ]
    },
    {
      "cell_type": "code",
      "source": [
        "result ={['hi','pen'][i]:[400,200,300][i] for i in range(len(['hi','pen']))}\n",
        "print(result)"
      ],
      "metadata": {
        "id": "yt46dSVvg7yT",
        "outputId": "439ead11-f72d-43aa-8d3d-e2a4c97e1193",
        "colab": {
          "base_uri": "https://localhost:8080/"
        }
      },
      "execution_count": null,
      "outputs": [
        {
          "output_type": "stream",
          "name": "stdout",
          "text": [
            "{'hi': 400, 'pen': 200}\n"
          ]
        }
      ]
    },
    {
      "cell_type": "code",
      "source": [
        "for i,j in result.items():\n",
        "  print(i)\n",
        "  print(j)"
      ],
      "metadata": {
        "id": "K435TUvUyZjI",
        "outputId": "fdf6783a-db1a-4d80-df16-258c6fac166a",
        "colab": {
          "base_uri": "https://localhost:8080/"
        }
      },
      "execution_count": null,
      "outputs": [
        {
          "output_type": "stream",
          "name": "stdout",
          "text": [
            "hi\n",
            "400\n",
            "pen\n",
            "200\n"
          ]
        }
      ]
    },
    {
      "cell_type": "code",
      "source": [],
      "metadata": {
        "id": "c6irxC7TYJG8"
      },
      "execution_count": null,
      "outputs": []
    },
    {
      "cell_type": "code",
      "source": [
        "cityDetails = []\n",
        "bookingHistory = []\n",
        "foodPrice = 0\n",
        "trainAvaiabilityDetails={'Chennai':{'availableSeats':10,'fare':200.00},\n",
        "             'Arakkonam':{'availableSeats':5,'fare':300.00},\n",
        "             'Coimbatore':{'availableSeats':25,'fare':500.00},\n",
        "             'Madurai':{'availableSeats':15,'fare':600.00},\n",
        "             'Salem':{'availableSeats':4,'fare':750.00},\n",
        "             'Erode':{'availableSeats':8,'fare':610.00},\n",
        "             'Tiruppur':{'availableSeats':7,'fare':520.00},\n",
        "             'Villupuram':{'availableSeats':6,'fare':700.00},\n",
        "             'Tiruchy':{'availableSeats':4,'fare':530.00}}\n",
        "foodDetails = {1:{'meal':'South Indian Breakfast','price':100.00},\n",
        "               2:{'meal':'North Indian Breakfast','price':80.00},\n",
        "               3:{'meal':'South Indian Veg Meal','price':200.00},\n",
        "               4:{'meal':'South Indian Non Veg Meal','price':250.00},\n",
        "               5:{'meal':'North Indian Veg Meal','price':150.00},\n",
        "               6:{'meal':'North Indian Non Veg Meal','price':180.00},\n",
        "               7:{'meal':'South Indian Dinner','price':140.00},\n",
        "               8:{'meal':'North Indian Dinner','price':120.00}}\n",
        "\n",
        "for i in trainAvaiabilityDetails:\n",
        "  cityDetails.append(i)\n",
        "\n",
        "print('***********Welcome to simple train booking system***********')\n",
        "\n",
        "print('Available departure Cities: ')\n",
        "for i in cityDetails:\n",
        "  print(i, end=', ')\n",
        "\n",
        "departure = input('\\nPlease enter the departure city: ')\n",
        "if departure in cityDetails:\n",
        "  cityDetails.remove(departure)\n",
        "else:\n",
        "  departure = input('\\nPlease enter the valid departure city: ')\n",
        "\n",
        "print('Available destination Cities: ')\n",
        "for i,j in trainAvaiabilityDetails.items():\n",
        "  if i!=departure:\n",
        "    print('City : {0} (Available Seats: {1}; Fare: Rs. {2:.2f} per 1)'.format(i,j['availableSeats'],j['fare']))\n",
        "\n",
        "destination = input('\\nPlease enter the destination city Name: ')\n",
        "if destination not in cityDetails:\n",
        "  destination = input('\\nPlease enter the valid destination city: ')\n",
        "\n",
        "numberOfPassangers = input('\\nPlease enter number of passangers: ')\n",
        "availableSeats = int([j['availableSeats'] for i,j in trainAvaiabilityDetails.items() if i == destination][0])\n",
        "if(int(numberOfPassangers)) > availableSeats:\n",
        "  print(\"\\nAvailable seats: \"+ str(availableSeats))\n",
        "  numberOfPassangers = input('\\nPlease enter a valid number of passangers: ')\n",
        "newAvailableSeat = availableSeats - int(numberOfPassangers)\n",
        "for i,j in trainAvaiabilityDetails.items():\n",
        "  if i == destination:\n",
        "    trainAvaiabilityDetails[i]['availableSeats'] = newAvailableSeat\n",
        "    break\n",
        "\n",
        "foodOpt = input('\\nPlease enter food option Y/N: ')\n",
        "if('Y'== foodOpt.upper()):\n",
        "  for i,j in foodDetails.items():\n",
        "    print('{0}: {1} (Rs. {2:.2f})'.format(i,j['meal'],j['price']))\n",
        "  option = input('\\nPlease choose the option from the above menu: ')\n",
        "  numberOfFood = input('\\nPlease enter the quantity: ')\n",
        "  foodPrice = [float(j['price'])*int(numberOfFood) for i,j in foodDetails.items() if i==int(option)][0]\n",
        "  foodMenu = [j['meal'] for i,j in foodDetails.items() if i==int(option)][0]\n",
        "\n",
        "finalPrice = [float(j['fare'])*int(numberOfPassangers) for i,j in trainAvaiabilityDetails.items() if i == destination][0]+foodPrice\n",
        "\n",
        "name = input('\\nPlease enter the booking person''s name: ')\n",
        "age = input('\\nPlease enter the person''s age: ')\n",
        "pnrNumber = destination[0:3].upper()+name.upper() + age\n",
        "if('Y'==foodOpt.upper()):\n",
        "  bookingConfirmation = {pnrNumber:{'name':name, 'age':age, 'numberOfPassangers':numberOfPassangers, 'foodQtyMenu':numberOfFood +' ('+foodMenu+')','finalPrice':finalPrice}}\n",
        "else:\n",
        "  bookingConfirmation = {pnrNumber:{'name':name, 'age':age, 'numberOfPassangers':numberOfPassangers,'finalPrice':finalPrice}}\n",
        "bookingHistory.append(bookingConfirmation)\n",
        "print('\\nCongrats! Booking confirmed!. Please note the PNR number to check booking details. PNR: '+pnrNumber)\n",
        "\n",
        "userPnrNumber = input('\\nPlease enter the PNR number for booking details: ')\n",
        "print('\\n'+'*'*20+' Booking Details for PNR: '+userPnrNumber+' '+'*'*20)\n",
        "for i in bookingHistory:\n",
        "  for j,k in i.items():\n",
        "    if(j==userPnrNumber):\n",
        "      if('foodQtyMenu' in k):\n",
        "        print('\\nName\\t\\t\\t:{name}\\nAge\\t\\t\\t:{age}\\nNumber of Passangers    :{numberOfPassangers}\\nFood Quantity & Menu    :{foodQtyMenu}\\nPayment\\t\\t\\t:Rs. {finalPrice:.2f}'.format(**k))\n",
        "      else:\n",
        "        print('\\nName\\t\\t\\t:{name}\\nAge\\t\\t\\t:{age}\\nNumber of Passangers    :{numberOfPassangers}\\nPayment\\t\\t\\t:Rs. {finalPrice:.2f}'.format(**k))"
      ],
      "metadata": {
        "id": "P29CHhJqdQhg",
        "outputId": "ed59c556-f48f-4f10-9b8b-90faacc51755",
        "colab": {
          "base_uri": "https://localhost:8080/"
        }
      },
      "execution_count": null,
      "outputs": [
        {
          "output_type": "stream",
          "name": "stdout",
          "text": [
            "***********Welcome to simple train booking system***********\n",
            "Available departure Cities: \n",
            "Chennai, Arakkonam, Coimbatore, Madurai, Salem, Erode, Tiruppur, Villupuram, Tiruchy, \n",
            "Please enter the departure city: Chennai\n",
            "Available destination Cities: \n",
            "City : Arakkonam (Available Seats: 5; Fare: Rs. 300.00 per 1)\n",
            "City : Coimbatore (Available Seats: 25; Fare: Rs. 500.00 per 1)\n",
            "City : Madurai (Available Seats: 15; Fare: Rs. 600.00 per 1)\n",
            "City : Salem (Available Seats: 4; Fare: Rs. 750.00 per 1)\n",
            "City : Erode (Available Seats: 8; Fare: Rs. 610.00 per 1)\n",
            "City : Tiruppur (Available Seats: 7; Fare: Rs. 520.00 per 1)\n",
            "City : Villupuram (Available Seats: 6; Fare: Rs. 700.00 per 1)\n",
            "City : Tiruchy (Available Seats: 4; Fare: Rs. 530.00 per 1)\n",
            "\n",
            "Please enter the destination city Name: Salem\n",
            "\n",
            "Please enter number of passangers: 3\n",
            "\n",
            "Please enter food option Y/N: n\n",
            "\n",
            "Please enter the booking persons name: Palani\n",
            "\n",
            "Please enter the persons age: 28\n",
            "\n",
            "Congrats! Booking confirmed!. Please note the PNR number to check booking details. PNR: SALPALANI28\n",
            "\n",
            "Please enter the PNR number for booking details: SALPALANI28\n",
            "\n",
            "******************** Booking Details for PNR: SALPALANI28 ********************\n",
            "\n",
            "Name\t\t\t:Palani\n",
            "Age\t\t\t:28\n",
            "Number of Passangers    :3\n",
            "Payment\t\t\t:Rs. 2250.00\n"
          ]
        }
      ]
    }
  ],
  "metadata": {
    "colab": {
      "name": "Welcome To Colaboratory",
      "provenance": [],
      "include_colab_link": true
    },
    "kernelspec": {
      "display_name": "Python 3",
      "name": "python3"
    }
  },
  "nbformat": 4,
  "nbformat_minor": 0
}