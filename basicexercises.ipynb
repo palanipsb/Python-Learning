{
  "cells": [
    {
      "cell_type": "markdown",
      "metadata": {
        "id": "view-in-github",
        "colab_type": "text"
      },
      "source": [
        "<a href=\"https://colab.research.google.com/github/palanipsb/Python-Learning/blob/main/basicexercises.ipynb\" target=\"_parent\"><img src=\"https://colab.research.google.com/assets/colab-badge.svg\" alt=\"Open In Colab\"/></a>"
      ]
    },
    {
      "cell_type": "code",
      "execution_count": null,
      "metadata": {
        "id": "zwFnJsE6vjf8"
      },
      "outputs": [],
      "source": [
        "a = 10\n",
        "b = 'Palanivel Subramani'"
      ]
    },
    {
      "cell_type": "code",
      "source": [
        "print(dir(str))"
      ],
      "metadata": {
        "colab": {
          "base_uri": "https://localhost:8080/"
        },
        "id": "1mz2uIw4GwRd",
        "outputId": "e1856ad2-1f44-409b-f6a7-f5c775f9a8a8"
      },
      "execution_count": null,
      "outputs": [
        {
          "output_type": "stream",
          "name": "stdout",
          "text": [
            "['__add__', '__class__', '__contains__', '__delattr__', '__dir__', '__doc__', '__eq__', '__format__', '__ge__', '__getattribute__', '__getitem__', '__getnewargs__', '__gt__', '__hash__', '__init__', '__init_subclass__', '__iter__', '__le__', '__len__', '__lt__', '__mod__', '__mul__', '__ne__', '__new__', '__reduce__', '__reduce_ex__', '__repr__', '__rmod__', '__rmul__', '__setattr__', '__sizeof__', '__str__', '__subclasshook__', 'capitalize', 'casefold', 'center', 'count', 'encode', 'endswith', 'expandtabs', 'find', 'format', 'format_map', 'index', 'isalnum', 'isalpha', 'isascii', 'isdecimal', 'isdigit', 'isidentifier', 'islower', 'isnumeric', 'isprintable', 'isspace', 'istitle', 'isupper', 'join', 'ljust', 'lower', 'lstrip', 'maketrans', 'partition', 'removeprefix', 'removesuffix', 'replace', 'rfind', 'rindex', 'rjust', 'rpartition', 'rsplit', 'rstrip', 'split', 'splitlines', 'startswith', 'strip', 'swapcase', 'title', 'translate', 'upper', 'zfill']\n"
          ]
        }
      ]
    },
    {
      "cell_type": "code",
      "source": [
        "b.__len__()"
      ],
      "metadata": {
        "colab": {
          "base_uri": "https://localhost:8080/"
        },
        "id": "RyP3nAafG4rt",
        "outputId": "2dce9482-ab8b-4af5-dfa7-c40bb70e64e8"
      },
      "execution_count": null,
      "outputs": [
        {
          "output_type": "execute_result",
          "data": {
            "text/plain": [
              "19"
            ]
          },
          "metadata": {},
          "execution_count": 6
        }
      ]
    },
    {
      "cell_type": "code",
      "source": [
        "help(str.__add__)"
      ],
      "metadata": {
        "colab": {
          "base_uri": "https://localhost:8080/"
        },
        "id": "nc1oXPlnIEGs",
        "outputId": "2e25c476-56b5-4f33-ffb1-63cecdaac618"
      },
      "execution_count": null,
      "outputs": [
        {
          "output_type": "stream",
          "name": "stdout",
          "text": [
            "Help on wrapper_descriptor:\n",
            "\n",
            "__add__(self, value, /)\n",
            "    Return self+value.\n",
            "\n"
          ]
        }
      ]
    },
    {
      "cell_type": "code",
      "source": [
        "'Py' 'thon'"
      ],
      "metadata": {
        "id": "H5_-7R2fimV6",
        "outputId": "f852415f-521f-4308-a0d2-e9c62f2f2bcf",
        "colab": {
          "base_uri": "https://localhost:8080/",
          "height": 35
        }
      },
      "execution_count": null,
      "outputs": [
        {
          "output_type": "execute_result",
          "data": {
            "text/plain": [
              "'Python'"
            ],
            "application/vnd.google.colaboratory.intrinsic+json": {
              "type": "string"
            }
          },
          "metadata": {},
          "execution_count": 9
        }
      ]
    },
    {
      "cell_type": "code",
      "source": [
        "a = 'Py'\n",
        "b = 'thon'"
      ],
      "metadata": {
        "id": "6U4CcBOGOjpX"
      },
      "execution_count": null,
      "outputs": []
    },
    {
      "cell_type": "code",
      "source": [
        "c = 'Sy' b\n",
        "c"
      ],
      "metadata": {
        "id": "13V7oKD4O5yI",
        "outputId": "ac495ccf-f5f5-44c5-fe3f-25798126cc1d",
        "colab": {
          "base_uri": "https://localhost:8080/",
          "height": 106
        }
      },
      "execution_count": null,
      "outputs": [
        {
          "output_type": "error",
          "ename": "SyntaxError",
          "evalue": "invalid syntax (<ipython-input-5-b56e6183828d>, line 1)",
          "traceback": [
            "\u001b[0;36m  File \u001b[0;32m\"<ipython-input-5-b56e6183828d>\"\u001b[0;36m, line \u001b[0;32m1\u001b[0m\n\u001b[0;31m    c = 'Sy' b\u001b[0m\n\u001b[0m             ^\u001b[0m\n\u001b[0;31mSyntaxError\u001b[0m\u001b[0;31m:\u001b[0m invalid syntax\n"
          ]
        }
      ]
    },
    {
      "cell_type": "code",
      "source": [
        "print(dir(tuple))"
      ],
      "metadata": {
        "id": "HdoVoSbPLiXO",
        "outputId": "e7361022-ae84-47b7-ebdc-640b077b7537",
        "colab": {
          "base_uri": "https://localhost:8080/"
        }
      },
      "execution_count": null,
      "outputs": [
        {
          "output_type": "stream",
          "name": "stdout",
          "text": [
            "['__add__', '__class__', '__class_getitem__', '__contains__', '__delattr__', '__dir__', '__doc__', '__eq__', '__format__', '__ge__', '__getattribute__', '__getitem__', '__getnewargs__', '__gt__', '__hash__', '__init__', '__init_subclass__', '__iter__', '__le__', '__len__', '__lt__', '__mul__', '__ne__', '__new__', '__reduce__', '__reduce_ex__', '__repr__', '__rmul__', '__setattr__', '__sizeof__', '__str__', '__subclasshook__', 'count', 'index']\n"
          ]
        }
      ]
    },
    {
      "cell_type": "code",
      "source": [
        "m,n = [5,6],(7,8)"
      ],
      "metadata": {
        "id": "6N7chBjhXpTN"
      },
      "execution_count": null,
      "outputs": []
    },
    {
      "cell_type": "code",
      "source": [
        "result = []\n",
        "for i in [1,2,3,4,5]:\n",
        "  result.append(i*i)\n",
        "result"
      ],
      "metadata": {
        "id": "J66f-LW_XvGa",
        "outputId": "00943cc0-d6d1-4436-9834-97d7152e3cc8",
        "colab": {
          "base_uri": "https://localhost:8080/"
        }
      },
      "execution_count": null,
      "outputs": [
        {
          "output_type": "execute_result",
          "data": {
            "text/plain": [
              "[1, 4, 9, 16, 25]"
            ]
          },
          "metadata": {},
          "execution_count": 13
        }
      ]
    },
    {
      "cell_type": "code",
      "source": [
        "result = []\n",
        "result2 = []\n",
        "a = 'python'\n",
        "b = 'learn'\n",
        "result=[i+j for i in a for j in b]\n",
        "result\n",
        "result2=([i[1] for i in result])\n",
        "print(result2)"
      ],
      "metadata": {
        "id": "SkJ7y6FpdUwM",
        "outputId": "932ddd24-5c7c-4942-dd10-cd2a9565b0b8",
        "colab": {
          "base_uri": "https://localhost:8080/"
        }
      },
      "execution_count": null,
      "outputs": [
        {
          "output_type": "stream",
          "name": "stdout",
          "text": [
            "['l', 'e', 'a', 'r', 'n', 'l', 'e', 'a', 'r', 'n', 'l', 'e', 'a', 'r', 'n', 'l', 'e', 'a', 'r', 'n', 'l', 'e', 'a', 'r', 'n', 'l', 'e', 'a', 'r', 'n']\n"
          ]
        }
      ]
    },
    {
      "cell_type": "code",
      "source": [
        "result ={['hi','pen'][i]:[400,200,300][i] for i in range(len(['hi','pen']))}\n",
        "print(result)"
      ],
      "metadata": {
        "id": "yt46dSVvg7yT",
        "outputId": "439ead11-f72d-43aa-8d3d-e2a4c97e1193",
        "colab": {
          "base_uri": "https://localhost:8080/"
        }
      },
      "execution_count": null,
      "outputs": [
        {
          "output_type": "stream",
          "name": "stdout",
          "text": [
            "{'hi': 400, 'pen': 200}\n"
          ]
        }
      ]
    },
    {
      "cell_type": "code",
      "source": [
        "for i,j in result.items():\n",
        "  print(i)\n",
        "  print(j)"
      ],
      "metadata": {
        "id": "K435TUvUyZjI",
        "outputId": "fdf6783a-db1a-4d80-df16-258c6fac166a",
        "colab": {
          "base_uri": "https://localhost:8080/"
        }
      },
      "execution_count": null,
      "outputs": [
        {
          "output_type": "stream",
          "name": "stdout",
          "text": [
            "hi\n",
            "400\n",
            "pen\n",
            "200\n"
          ]
        }
      ]
    },
    {
      "cell_type": "code",
      "source": [
        "cityDetails = []\n",
        "bookingHistory = []\n",
        "foodPrice = 1\n",
        "trainAvaiabilityDetails={'Chennai':{'availableSeats':10,'fare':200.00},\n",
        "             'Arakkonam':{'availableSeats':5,'fare':300.00},\n",
        "             'Coimbatore':{'availableSeats':25,'fare':500.00},\n",
        "             'Madurai':{'availableSeats':15,'fare':600.00},\n",
        "             'Salem':{'availableSeats':4,'fare':750.00},\n",
        "             'Erode':{'availableSeats':8,'fare':610.00},\n",
        "             'Tiruppur':{'availableSeats':7,'fare':520.00},\n",
        "             'Villupuram':{'availableSeats':6,'fare':700.00},\n",
        "             'Tiruchy':{'availableSeats':4,'fare':530.00}}\n",
        "foodDetails = {1:{'meal':'South Indian Breakfast','price':100.00},\n",
        "               2:{'meal':'North Indian Breakfast','price':80.00},\n",
        "               3:{'meal':'South Indian Veg Meal','price':200.00},\n",
        "               4:{'meal':'South Indian Non Veg Meal','price':250.00},\n",
        "               5:{'meal':'North Indian Veg Meal','price':150.00},\n",
        "               6:{'meal':'North Indian Non Veg Meal','price':180.00},\n",
        "               7:{'meal':'South Indian Dinner','price':140.00},\n",
        "               8:{'meal':'North Indian Dinner','price':120.00}}\n",
        "\n",
        "for i in trainAvaiabilityDetails:\n",
        "  cityDetails.append(i)\n",
        "\n",
        "print('***********Welcome to simple train booking system***********')\n",
        "\n",
        "print('Available departure Cities: ')\n",
        "for i in cityDetails:\n",
        "  print(i, end=', ')\n",
        "\n",
        "departure = input('\\nPlease enter the departure city: ')\n",
        "if departure in cityDetails:\n",
        "  cityDetails.remove(departure)\n",
        "else:\n",
        "  departure = input('\\nPlease enter the valid departure city: ')\n",
        "\n",
        "print('Available destination Cities: ')\n",
        "for i,j in trainAvaiabilityDetails.items():\n",
        "  if i!=departure:\n",
        "    print('City Name: '+i+' (Available Seats: '+str(j['availableSeats'])+') ; (Fare: Rs. '+str(j['fare'])+' per head)')\n",
        "\n",
        "destination = input('\\nPlease enter the destination city Name: ')\n",
        "if destination not in cityDetails:\n",
        "  destination = input('\\nPlease enter the valid destination city: ')\n",
        "\n",
        "numberOfPassangers = input('\\nPlease enter number of passangers: ')\n",
        "availableSeats = int([j['availableSeats'] for i,j in trainAvaiabilityDetails.items() if i == destination][0])\n",
        "if(int(numberOfPassangers)) > availableSeats:\n",
        "  print(\"\\nAvailable seats: \"+ str(availableSeats))\n",
        "  numberOfPassangers = input('\\nPlease enter a valid number of passangers: ')\n",
        "newAvailableSeat = availableSeats - int(numberOfPassangers)\n",
        "for i,j in trainAvaiabilityDetails.items():\n",
        "  if i == destination:\n",
        "    trainAvaiabilityDetails[i]['availableSeats'] = newAvailableSeat\n",
        "    break\n",
        "\n",
        "foodOpt = input('\\nPlease enter food option Y/N: ')\n",
        "if('Y'== foodOpt.upper()):\n",
        "  for i,j in foodDetails.items():\n",
        "    print(str(i)+': '+j['meal']+'(Rs. '+str(j['price'])+')')\n",
        "  option = input('\\nPlease choose the option from the above menu: ')\n",
        "  numberOfFood = input('\\nPlease enter the quantity: ')\n",
        "  foodPrice = [float(j['price'])*int(numberOfFood) for i,j in foodDetails.items() if i==int(option)][0]\n",
        "  foodMenu = [j['meal'] for i,j in foodDetails.items() if i==int(option)][0]\n",
        "\n",
        "finalPrice = [float(j['fare'])*int(numberOfPassangers) for i,j in trainAvaiabilityDetails.items() if i == destination][0]+foodPrice\n",
        "\n",
        "name = input('\\nPlease enter the booking person''s name: ')\n",
        "age = input('\\nPlease enter the person''s age: ')\n",
        "pnrNumber = name.upper() + age\n",
        "if('Y'==foodOpt.upper()):\n",
        "  bookingConfirmation = {pnrNumber:{'name':name, 'age':age, 'numberOfPassangers':numberOfPassangers, 'foodQtyMenu':numberOfFood +' ('+foodMenu+')','finalPrice':finalPrice}}\n",
        "else:\n",
        "  bookingConfirmation = {pnrNumber:{'name':name, 'age':age, 'numberOfPassangers':numberOfPassangers,'finalPrice':finalPrice}}\n",
        "bookingHistory.append(bookingConfirmation)\n",
        "print('\\nCongrats! Booking confirmed!. Please note the PNR number to check booking details. PNR: '+pnrNumber)\n",
        "\n",
        "userPnrNumber = input('\\nPlease enter the PNR number for booking details: ')\n",
        "print('\\n****************Booking Details for PNR: '+userPnrNumber+' ******************')\n",
        "for i in bookingHistory:\n",
        "  for j,k in i.items():\n",
        "    if(j==userPnrNumber):\n",
        "      if('foodQtyMenu' in k):\n",
        "        print('\\nName                 :{name}\\nAge                  :{age}\\nNumber of Passangers :{numberOfPassangers}\\nFood Quantity & Menu :{foodQtyMenu}\\nPayment              :Rs. {finalPrice}'.format(**k))\n",
        "      else:\n",
        "        print('\\nName                 :{name}\\nAge                  :{age}\\nNumber of Passangers :{numberOfPassangers}\\nPayment              :Rs. {finalPrice}'.format(**k))"
      ],
      "metadata": {
        "id": "P29CHhJqdQhg",
        "outputId": "533569c6-1b92-44fe-ba8f-233a68775a0f",
        "colab": {
          "base_uri": "https://localhost:8080/"
        }
      },
      "execution_count": null,
      "outputs": [
        {
          "output_type": "stream",
          "name": "stdout",
          "text": [
            "***********Welcome to simple train booking system***********\n",
            "Available departure Cities: \n",
            "Chennai, Arakkonam, Coimbatore, Madurai, Salem, Erode, Tiruppur, Villupuram, Tiruchy, \n",
            "Please enter the departure city: Chennai\n",
            "Available destination Cities: \n",
            "City Name: Arakkonam (Available Seats: 5) ; (Fare: Rs. 300.0 per head)\n",
            "City Name: Coimbatore (Available Seats: 25) ; (Fare: Rs. 500.0 per head)\n",
            "City Name: Madurai (Available Seats: 15) ; (Fare: Rs. 600.0 per head)\n",
            "City Name: Salem (Available Seats: 4) ; (Fare: Rs. 750.0 per head)\n",
            "City Name: Erode (Available Seats: 8) ; (Fare: Rs. 610.0 per head)\n",
            "City Name: Tiruppur (Available Seats: 7) ; (Fare: Rs. 520.0 per head)\n",
            "City Name: Villupuram (Available Seats: 6) ; (Fare: Rs. 700.0 per head)\n",
            "City Name: Tiruchy (Available Seats: 4) ; (Fare: Rs. 530.0 per head)\n",
            "\n",
            "Please enter the destination city Name: Salem\n",
            "\n",
            "Please enter number of passangers: 2\n",
            "\n",
            "Please enter food option Y/N: Y\n",
            "1: South Indian Breakfast(Rs. 100.0)\n",
            "2: North Indian Breakfast(Rs. 80.0)\n",
            "3: South Indian Veg Meal(Rs. 200.0)\n",
            "4: South Indian Non Veg Meal(Rs. 250.0)\n",
            "5: North Indian Veg Meal(Rs. 150.0)\n",
            "6: North Indian Non Veg Meal(Rs. 180.0)\n",
            "7: South Indian Dinner(Rs. 140.0)\n",
            "8: North Indian Dinner(Rs. 120.0)\n",
            "\n",
            "Please choose the option from menu: 4\n",
            "Please enter the quantity: 2\n",
            "\n",
            "Please enter the booking persons name: Palani\n",
            "\n",
            "Please enter the persons age: 32\n",
            "\n",
            "Congrats! Booking confirmed!. Please note the PNR number to check booking details. PNR: PALANI32\n",
            "\n",
            "Please enter the PNR number for booking details: PALANI32\n",
            "\n",
            "****************Booking Details for PNR: PALANI32 ******************\n",
            "\n",
            "Name                 :Palani\n",
            "Age                  :32\n",
            "Number of Passangers :2\n",
            "Food Quantity & Menu :2 (South Indian Non Veg Meal)\n",
            "Payment              :Rs. 2000.0\n"
          ]
        }
      ]
    }
  ],
  "metadata": {
    "colab": {
      "name": "Welcome To Colaboratory",
      "provenance": [],
      "include_colab_link": true
    },
    "kernelspec": {
      "display_name": "Python 3",
      "name": "python3"
    }
  },
  "nbformat": 4,
  "nbformat_minor": 0
}