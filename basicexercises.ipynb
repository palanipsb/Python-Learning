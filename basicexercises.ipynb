{
  "cells": [
    {
      "cell_type": "markdown",
      "metadata": {
        "id": "view-in-github",
        "colab_type": "text"
      },
      "source": [
        "<a href=\"https://colab.research.google.com/github/palanipsb/Python-Learning/blob/main/basicexercises.ipynb\" target=\"_parent\"><img src=\"https://colab.research.google.com/assets/colab-badge.svg\" alt=\"Open In Colab\"/></a>"
      ]
    },
    {
      "cell_type": "code",
      "execution_count": null,
      "metadata": {
        "id": "zwFnJsE6vjf8"
      },
      "outputs": [],
      "source": [
        "a = 10\n",
        "b = 'Palanivel Subramani'"
      ]
    },
    {
      "cell_type": "code",
      "source": [
        "print(dir(str))"
      ],
      "metadata": {
        "colab": {
          "base_uri": "https://localhost:8080/"
        },
        "id": "1mz2uIw4GwRd",
        "outputId": "e1856ad2-1f44-409b-f6a7-f5c775f9a8a8"
      },
      "execution_count": null,
      "outputs": [
        {
          "output_type": "stream",
          "name": "stdout",
          "text": [
            "['__add__', '__class__', '__contains__', '__delattr__', '__dir__', '__doc__', '__eq__', '__format__', '__ge__', '__getattribute__', '__getitem__', '__getnewargs__', '__gt__', '__hash__', '__init__', '__init_subclass__', '__iter__', '__le__', '__len__', '__lt__', '__mod__', '__mul__', '__ne__', '__new__', '__reduce__', '__reduce_ex__', '__repr__', '__rmod__', '__rmul__', '__setattr__', '__sizeof__', '__str__', '__subclasshook__', 'capitalize', 'casefold', 'center', 'count', 'encode', 'endswith', 'expandtabs', 'find', 'format', 'format_map', 'index', 'isalnum', 'isalpha', 'isascii', 'isdecimal', 'isdigit', 'isidentifier', 'islower', 'isnumeric', 'isprintable', 'isspace', 'istitle', 'isupper', 'join', 'ljust', 'lower', 'lstrip', 'maketrans', 'partition', 'removeprefix', 'removesuffix', 'replace', 'rfind', 'rindex', 'rjust', 'rpartition', 'rsplit', 'rstrip', 'split', 'splitlines', 'startswith', 'strip', 'swapcase', 'title', 'translate', 'upper', 'zfill']\n"
          ]
        }
      ]
    },
    {
      "cell_type": "code",
      "source": [
        "b.__len__()"
      ],
      "metadata": {
        "colab": {
          "base_uri": "https://localhost:8080/"
        },
        "id": "RyP3nAafG4rt",
        "outputId": "2dce9482-ab8b-4af5-dfa7-c40bb70e64e8"
      },
      "execution_count": null,
      "outputs": [
        {
          "output_type": "execute_result",
          "data": {
            "text/plain": [
              "19"
            ]
          },
          "metadata": {},
          "execution_count": 6
        }
      ]
    },
    {
      "cell_type": "code",
      "source": [
        "help(str.__add__)"
      ],
      "metadata": {
        "colab": {
          "base_uri": "https://localhost:8080/"
        },
        "id": "nc1oXPlnIEGs",
        "outputId": "2e25c476-56b5-4f33-ffb1-63cecdaac618"
      },
      "execution_count": null,
      "outputs": [
        {
          "output_type": "stream",
          "name": "stdout",
          "text": [
            "Help on wrapper_descriptor:\n",
            "\n",
            "__add__(self, value, /)\n",
            "    Return self+value.\n",
            "\n"
          ]
        }
      ]
    },
    {
      "cell_type": "code",
      "source": [
        "'Py' 'thon'"
      ],
      "metadata": {
        "id": "H5_-7R2fimV6",
        "outputId": "f852415f-521f-4308-a0d2-e9c62f2f2bcf",
        "colab": {
          "base_uri": "https://localhost:8080/",
          "height": 35
        }
      },
      "execution_count": null,
      "outputs": [
        {
          "output_type": "execute_result",
          "data": {
            "text/plain": [
              "'Python'"
            ],
            "application/vnd.google.colaboratory.intrinsic+json": {
              "type": "string"
            }
          },
          "metadata": {},
          "execution_count": 9
        }
      ]
    },
    {
      "cell_type": "code",
      "source": [
        "a = 'Py'\n",
        "b = 'thon'"
      ],
      "metadata": {
        "id": "6U4CcBOGOjpX"
      },
      "execution_count": null,
      "outputs": []
    },
    {
      "cell_type": "code",
      "source": [
        "c = 'Sy' b\n",
        "c"
      ],
      "metadata": {
        "id": "13V7oKD4O5yI",
        "outputId": "ac495ccf-f5f5-44c5-fe3f-25798126cc1d",
        "colab": {
          "base_uri": "https://localhost:8080/",
          "height": 106
        }
      },
      "execution_count": null,
      "outputs": [
        {
          "output_type": "error",
          "ename": "SyntaxError",
          "evalue": "invalid syntax (<ipython-input-5-b56e6183828d>, line 1)",
          "traceback": [
            "\u001b[0;36m  File \u001b[0;32m\"<ipython-input-5-b56e6183828d>\"\u001b[0;36m, line \u001b[0;32m1\u001b[0m\n\u001b[0;31m    c = 'Sy' b\u001b[0m\n\u001b[0m             ^\u001b[0m\n\u001b[0;31mSyntaxError\u001b[0m\u001b[0;31m:\u001b[0m invalid syntax\n"
          ]
        }
      ]
    },
    {
      "cell_type": "code",
      "source": [
        "print(dir(tuple))"
      ],
      "metadata": {
        "id": "HdoVoSbPLiXO",
        "outputId": "e7361022-ae84-47b7-ebdc-640b077b7537",
        "colab": {
          "base_uri": "https://localhost:8080/"
        }
      },
      "execution_count": null,
      "outputs": [
        {
          "output_type": "stream",
          "name": "stdout",
          "text": [
            "['__add__', '__class__', '__class_getitem__', '__contains__', '__delattr__', '__dir__', '__doc__', '__eq__', '__format__', '__ge__', '__getattribute__', '__getitem__', '__getnewargs__', '__gt__', '__hash__', '__init__', '__init_subclass__', '__iter__', '__le__', '__len__', '__lt__', '__mul__', '__ne__', '__new__', '__reduce__', '__reduce_ex__', '__repr__', '__rmul__', '__setattr__', '__sizeof__', '__str__', '__subclasshook__', 'count', 'index']\n"
          ]
        }
      ]
    },
    {
      "cell_type": "code",
      "source": [
        "m,n = [5,6],(7,8)"
      ],
      "metadata": {
        "id": "6N7chBjhXpTN"
      },
      "execution_count": null,
      "outputs": []
    },
    {
      "cell_type": "code",
      "source": [
        "result = []\n",
        "for i in [1,2,3,4,5]:\n",
        "  result.append(i*i)\n",
        "result"
      ],
      "metadata": {
        "id": "J66f-LW_XvGa",
        "outputId": "00943cc0-d6d1-4436-9834-97d7152e3cc8",
        "colab": {
          "base_uri": "https://localhost:8080/"
        }
      },
      "execution_count": null,
      "outputs": [
        {
          "output_type": "execute_result",
          "data": {
            "text/plain": [
              "[1, 4, 9, 16, 25]"
            ]
          },
          "metadata": {},
          "execution_count": 13
        }
      ]
    },
    {
      "cell_type": "code",
      "source": [
        "cityDetails = []\n",
        "bookingHistory = []\n",
        "trainAvaiabilityDetails={1:{'city':'Chennai','availableSeats':10,'price':200},\n",
        "             2:{'city':'Arakkonam','availableSeats':5,'price':300},\n",
        "             3:{'city':'Coimbatore','availableSeats':25,'price':500},\n",
        "             4:{'city':'Madurai','availableSeats':15,'price':600},\n",
        "             5:{'city':'Salem','availableSeats':4,'price':750},\n",
        "             6:{'city':'Erode','availableSeats':8,'price':610},\n",
        "             7:{'city':'Tiruppur','availableSeats':7,'price':520},\n",
        "             8:{'city':'Villupuram','availableSeats':6,'price':700},\n",
        "             9:{'city':'Tiruchy','availableSeats':4,'price':530}}\n",
        "\n",
        "for i,j in trainAvaiabilityDetails.items():\n",
        "  cityDetails.append(j['city'])\n",
        "\n",
        "print('***********Welcome to simple train booking system***********')\n",
        "\n",
        "print('Available departure Cities: ')\n",
        "for i in cityDetails:\n",
        "  print(i, end=', ')\n",
        "\n",
        "departure = input('\\nPlease enter the departure city: ')\n",
        "if departure in cityDetails:\n",
        "  cityDetails.remove(departure)\n",
        "else:\n",
        "  departure = input('\\nPlease enter the valid departure city: ')\n",
        "\n",
        "print('Available destination Cities: ')\n",
        "for i in cityDetails:\n",
        "  print(i, end=', ')\n",
        "\n",
        "destination = input('\\nPlease enter the destination city: ')\n",
        "\n",
        "if destination in cityDetails:\n",
        "  cityDetails.remove(destination)\n",
        "else:\n",
        "  destination = input('\\nPlease enter the valid destination city: ')\n",
        "\n",
        "numberOfPassangers = input('\\nPlease enter number of passangers: ')\n",
        "availableSeats = int([j['availableSeats'] for i,j in trainAvaiabilityDetails.items() if j['city'] == destination][0])\n",
        "if(int(numberOfPassangers)) > availableSeats:\n",
        "  print(\"\\nAvailable seats: \"+ str(availableSeats))\n",
        "  numberOfPassangers = input('\\nPlease enter a valid number of passangers: ')\n",
        "newAvailableSeat = availableSeats - int(numberOfPassangers)\n",
        "for i,j in trainAvaiabilityDetails.items():\n",
        "  if j['city'] == 'Salem':\n",
        "    trainAvaiabilityDetails[i]['availableSeats'] = newAvailableSeat\n",
        "    break\n",
        "\n",
        "finalPrice = int([j['price'] for i,j in trainAvaiabilityDetails.items() if j['city'] == destination][0])*int(numberOfPassangers)\n",
        "\n",
        "name = input('\\nPlease enter the booking person''s name: ')\n",
        "age = input('\\nPlease enter the person''s age: ')\n",
        "pnrNumber = name.upper() + age\n",
        "bookingConfirmation = {pnrNumber:{'name':name, 'age':age, 'numberOfPassangers':numberOfPassangers,'finalPrice':finalPrice}}\n",
        "bookingHistory.append(bookingConfirmation)\n",
        "print('\\nCongrats! Booking confirmed!. Please note the PNR number to check booking details. PNR: '+pnrNumber)\n",
        "\n",
        "userPnrNumber = input('\\nPlease enter the PNR number for booking details: ')\n",
        "print('Booking Details: ')\n",
        "for i in bookingHistory:\n",
        "  for j,k in i.items():\n",
        "    if(j==userPnrNumber):\n",
        "      print('Name: {name}\\nAge: {age}\\nNumber of Passangers: {numberOfPassangers}\\nPayment :Rs {finalPrice}'.format(**k))"
      ],
      "metadata": {
        "id": "58PcuWRWrJgD",
        "outputId": "8d076390-6777-4066-d434-cfcd8f3e806c",
        "colab": {
          "base_uri": "https://localhost:8080/"
        }
      },
      "execution_count": 147,
      "outputs": [
        {
          "output_type": "stream",
          "name": "stdout",
          "text": [
            "***********Welcome to simple train booking system***********\n",
            "Available departure Cities: \n",
            "Chennai, Arakkonam, Coimbatore, Madurai, Salem, Erode, Tiruppur, Villupuram, Tiruchy, \n",
            "Please enter the departure city: Chennai\n",
            "Available destination Cities: \n",
            "Arakkonam, Coimbatore, Madurai, Salem, Erode, Tiruppur, Villupuram, Tiruchy, \n",
            "Please enter the destination city: Salem\n",
            "\n",
            "Please enter number of passangers: 2\n",
            "\n",
            "Please enter the booking persons name: Palani\n",
            "\n",
            "Please enter the persons age: 32\n",
            "\n",
            "Congrats! Booking confirmed!. Please note the PNR number to check booking details. PNR: PALANI32\n",
            "\n",
            "Please enter the PNR number for booking details: PALANI32\n",
            "Booking Details: \n",
            "Name: Palani\n",
            "Age: 32\n",
            "Number of Passangers: 2\n",
            "Payment :Rs 1500\n"
          ]
        }
      ]
    }
  ],
  "metadata": {
    "colab": {
      "name": "Welcome To Colaboratory",
      "provenance": [],
      "include_colab_link": true
    },
    "kernelspec": {
      "display_name": "Python 3",
      "name": "python3"
    }
  },
  "nbformat": 4,
  "nbformat_minor": 0
}