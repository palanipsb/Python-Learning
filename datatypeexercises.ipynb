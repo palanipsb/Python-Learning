{
  "nbformat": 4,
  "nbformat_minor": 0,
  "metadata": {
    "colab": {
      "provenance": [],
      "authorship_tag": "ABX9TyOvyMaTOWVXvPH6DevzLl8j",
      "include_colab_link": true
    },
    "kernelspec": {
      "name": "python3",
      "display_name": "Python 3"
    },
    "language_info": {
      "name": "python"
    }
  },
  "cells": [
    {
      "cell_type": "markdown",
      "metadata": {
        "id": "view-in-github",
        "colab_type": "text"
      },
      "source": [
        "<a href=\"https://colab.research.google.com/github/palanipsb/Python-Learning/blob/main/datatypeexercises.ipynb\" target=\"_parent\"><img src=\"https://colab.research.google.com/assets/colab-badge.svg\" alt=\"Open In Colab\"/></a>"
      ]
    },
    {
      "cell_type": "code",
      "execution_count": null,
      "metadata": {
        "id": "w7tAjNYjujnE"
      },
      "outputs": [],
      "source": [
        "String1 = 'I\\'m a \"Geek\"'\n",
        "print(\"Initial String with use of Triple Quotes: \")\n",
        "print(String1)"
      ]
    },
    {
      "cell_type": "code",
      "source": [
        "String1 = \"Hi\\tGeeks\"\n",
        "print(\"\\nTab: \")\n",
        "print(String1)"
      ],
      "metadata": {
        "id": "ZeIWO5zLGnIo",
        "outputId": "f932bf89-4c42-411d-b971-d8d314964b78",
        "colab": {
          "base_uri": "https://localhost:8080/"
        }
      },
      "execution_count": 4,
      "outputs": [
        {
          "output_type": "stream",
          "name": "stdout",
          "text": [
            "\n",
            "Tab: \n",
            "Hi\tGeeks\n"
          ]
        }
      ]
    },
    {
      "cell_type": "code",
      "source": [
        "String1 = \"{0:b}\".format(16)\n",
        "print(\"\\nBinary representation of 16 is \")\n",
        "print(String1)"
      ],
      "metadata": {
        "id": "Z58dYfbONCcv",
        "outputId": "ee556610-7403-4e36-d6c7-414e6301760c",
        "colab": {
          "base_uri": "https://localhost:8080/"
        }
      },
      "execution_count": 5,
      "outputs": [
        {
          "output_type": "stream",
          "name": "stdout",
          "text": [
            "\n",
            "Binary representation of 16 is \n",
            "10000\n"
          ]
        }
      ]
    },
    {
      "cell_type": "code",
      "source": [
        "String1 = \"{0:e}\".format(2)\n",
        "print(\"\\nExponent representation of 165.6458 is \")\n",
        "print(String1)"
      ],
      "metadata": {
        "id": "9wVGi-e1NKTy",
        "outputId": "b45c17a7-783e-4f15-d779-cfc38052d2dc",
        "colab": {
          "base_uri": "https://localhost:8080/"
        }
      },
      "execution_count": 7,
      "outputs": [
        {
          "output_type": "stream",
          "name": "stdout",
          "text": [
            "\n",
            "Exponent representation of 165.6458 is \n",
            "2.000000e+00\n"
          ]
        }
      ]
    },
    {
      "cell_type": "code",
      "source": [
        "String1 = \"{0:.2f}\".format(1/6)\n",
        "print(\"\\none-sixth is : \")\n",
        "print(String1)"
      ],
      "metadata": {
        "id": "qzKk2ktwNRkO",
        "outputId": "79aa1b57-a3b2-40b6-cfbf-bd4adefff049",
        "colab": {
          "base_uri": "https://localhost:8080/"
        }
      },
      "execution_count": 8,
      "outputs": [
        {
          "output_type": "stream",
          "name": "stdout",
          "text": [
            "\n",
            "one-sixth is : \n",
            "0.17\n"
          ]
        }
      ]
    },
    {
      "cell_type": "code",
      "source": [
        "String1 = \"|{:<5}|{:^10}|{:>10}|\".format('Geeks',\n",
        "                                          'for',\n",
        "                                          'Geeks')\n",
        "print(\"\\nLeft, center and right alignment with Formatting: \")\n",
        "print(String1)"
      ],
      "metadata": {
        "id": "LuY7Z5pPNoor",
        "outputId": "8f239b4f-98fd-4a9a-ff78-a35a45520bfb",
        "colab": {
          "base_uri": "https://localhost:8080/"
        }
      },
      "execution_count": 11,
      "outputs": [
        {
          "output_type": "stream",
          "name": "stdout",
          "text": [
            "\n",
            "Left, center and right alignment with Formatting: \n",
            "|Geeks|   for    |     Geeks|\n"
          ]
        }
      ]
    },
    {
      "cell_type": "code",
      "source": [
        "String1 = \"\\n{0:^16} was founded in {1:<4}!\".format(\"GeeksforGeeks\",\n",
        "                                                    2009)\n",
        "print(String1)"
      ],
      "metadata": {
        "id": "a2-nwYOEN10c",
        "outputId": "99f75964-7888-4e81-d08a-6761c5e03bac",
        "colab": {
          "base_uri": "https://localhost:8080/"
        }
      },
      "execution_count": 12,
      "outputs": [
        {
          "output_type": "stream",
          "name": "stdout",
          "text": [
            "\n",
            " GeeksforGeeks   was founded in 2009!\n"
          ]
        }
      ]
    },
    {
      "cell_type": "code",
      "source": [
        "strPrice = \"test\".format(1)\n",
        "print(strPrice)"
      ],
      "metadata": {
        "id": "GCI-_YM3QWgE",
        "outputId": "f35055a6-20c9-47ce-a106-0d3f0b127d46",
        "colab": {
          "base_uri": "https://localhost:8080/"
        }
      },
      "execution_count": 14,
      "outputs": [
        {
          "output_type": "stream",
          "name": "stdout",
          "text": [
            "test\n"
          ]
        }
      ]
    },
    {
      "cell_type": "code",
      "source": [
        "testStr = 'palani'\n",
        "print(testStr[0:10])"
      ],
      "metadata": {
        "id": "NOd5MmO2c75j",
        "outputId": "bd99aab8-aae4-44bf-ac06-cc0804915d91",
        "colab": {
          "base_uri": "https://localhost:8080/"
        }
      },
      "execution_count": 15,
      "outputs": [
        {
          "output_type": "stream",
          "name": "stdout",
          "text": [
            "palani\n"
          ]
        }
      ]
    },
    {
      "cell_type": "code",
      "source": [
        "String1 = \"I'm a \\\"Geek\\\"\"\n",
        "print(\"\\nEscaping Double Quotes: \")\n",
        "print(String1)"
      ],
      "metadata": {
        "id": "KHGtHAYLGZqZ"
      },
      "execution_count": null,
      "outputs": []
    }
  ]
}