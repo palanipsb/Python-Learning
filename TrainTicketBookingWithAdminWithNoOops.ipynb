{
  "nbformat": 4,
  "nbformat_minor": 0,
  "metadata": {
    "colab": {
      "provenance": [],
      "authorship_tag": "ABX9TyNnRCewvZCjdYpvaHCtv7BY",
      "include_colab_link": true
    },
    "kernelspec": {
      "name": "python3",
      "display_name": "Python 3"
    },
    "language_info": {
      "name": "python"
    }
  },
  "cells": [
    {
      "cell_type": "markdown",
      "metadata": {
        "id": "view-in-github",
        "colab_type": "text"
      },
      "source": [
        "<a href=\"https://colab.research.google.com/github/palanipsb/Python-Learning/blob/main/TrainTicketBookingWithAdminWithNoOops.ipynb\" target=\"_parent\"><img src=\"https://colab.research.google.com/assets/colab-badge.svg\" alt=\"Open In Colab\"/></a>"
      ]
    },
    {
      "cell_type": "code",
      "execution_count": 262,
      "metadata": {
        "id": "bJscdCB5n3NC"
      },
      "outputs": [],
      "source": [
        "class ConfigLables:\n",
        "\n",
        "  GETTRAINNUMBER = '\\nPlease Enter the Train Number: '\n",
        "  BOOKINGCONFIRM = '\\nCongrats! Booking confirmed!. Please note the PNR number to check booking details. PNR:'\n",
        "  BOOKINGCACEL = 'Thank you!. Your ticket has been cancelled. You will get your refund in 48 hours!'\n",
        "  BOOKINGDETAILS = '\\n'+'*'*30+' Booking Details for PNR: {} '+'*'*30\n",
        "  USERNAME = '\\nPlease enter booking name: '\n",
        "  USERYOB = '\\nPlease enter the YOB: '\n",
        "  USERAGE = '\\nPlease enter the Age: '\n",
        "  GETTHEOPTION = '\\nPlease Enter the Option: '\n",
        "  GETPNRNUMBER = '\\nPlease Enter the PNR Number: '\n",
        "  GETCOACH = '\\nPlease Enter the Coach: '\n",
        "  GETSTATIONCODE = '\\nPlease Enter the Station Code: '\n",
        "  GETPASSANGERCOUNT = '\\nPlease enter number of passangers: '\n",
        "  GETFOOFQTY = '\\nPlease Enter the food quatity: '\n",
        "  DISPTRANDETAILS = '{0} : {1} From - {2}: ({3}) To {4}: ({5}) (Stopping Stations: {6})\\n'\n",
        "  DISPCOACHDETAILS = 'Coach: {0}  || Available seats({1})  || Fare: {2:.2f} Per Adult + Reservartion Chargers'\n",
        "  DISPTRAINUMBER ='\\n'+'*'*30+' Train Number: {} '+'*'*30\n",
        "  WELCOMEPROMPT =  '*'*30+' Welcome to simple train booking system '+'*'*30\n",
        "\n",
        "class TrainData:\n",
        "  trainData = {}\n",
        "\n",
        "  def __init__(\n",
        "      self,\n",
        "      trainNo,\n",
        "      trainName,\n",
        "      seatCount1AC,\n",
        "      baseFare1AC,\n",
        "      seatCount2AC,\n",
        "      baseFare2AC,\n",
        "      seatCountSl,\n",
        "      baseFareSl,\n",
        "      seatCountG,\n",
        "      baseFareG,\n",
        "      stoppings,\n",
        "      deptStat,\n",
        "      arrivStat,\n",
        "      pricePerKm,\n",
        "  ):\n",
        "      self.trainNo = trainNo\n",
        "      self.trainName = trainName\n",
        "      self.seatCount1AC = seatCount1AC\n",
        "      self.baseFare1AC = baseFare1AC\n",
        "      self.seatCount2AC = seatCount2AC\n",
        "      self.baseFare2AC = baseFare2AC\n",
        "      self.seatCountSl = seatCountSl\n",
        "      self.baseFareSl = baseFareSl\n",
        "      self.seatCountG = seatCountG\n",
        "      self.baseFareG = baseFareG\n",
        "      self.stoppings = stoppings\n",
        "      self.deptStat = deptStat\n",
        "      self.arrivStat = arrivStat\n",
        "      self.pricePerKm = pricePerKm\n",
        "      self.trainData.update(\n",
        "          {\n",
        "              self.trainNo: {\n",
        "                  \"name\": self.trainName,\n",
        "                  \"availableCoaches\": {\n",
        "                      \"1AC\": {\n",
        "                          \"availableSeats\": self.seatCount1AC,\n",
        "                          \"baseFare\": self.baseFare1AC,\n",
        "                      },\n",
        "                      \"2AC\": {\n",
        "                          \"availableSeats\": self.seatCount2AC,\n",
        "                          \"baseFare\": self.baseFare2AC,\n",
        "                      },\n",
        "                      \"SLP\": {\n",
        "                          \"availableSeats\": self.seatCountSl,\n",
        "                          \"baseFare\": self.baseFareSl,\n",
        "                      },\n",
        "                      \"GEN\": {\n",
        "                          \"availableSeats\": self.seatCountG,\n",
        "                          \"baseFare\": self.baseFareG,\n",
        "                      },\n",
        "                  },\n",
        "                  \"stoppingSations\": self.stoppings,\n",
        "                  \"departureStation\": self.deptStat,\n",
        "                  \"arrivalStation\": self.arrivStat,\n",
        "                  \"pricePerKm\": self.pricePerKm,\n",
        "              }\n",
        "          }\n",
        "      )\n",
        "\n",
        "class StationData:\n",
        "  stationData = {}\n",
        "\n",
        "  def __init__(self, stationCode, stationName, distance, stoppingTrains):\n",
        "    self.stationCode = stationCode\n",
        "    self.stationName = stationName\n",
        "    self.distance = distance\n",
        "    self.stoppingTrains = stoppingTrains\n",
        "    self.stationData.update(\n",
        "            {\n",
        "                self.stationCode: {\n",
        "                    \"name\": self.stationName,\n",
        "                    \"distance\": self.distance,\n",
        "                    \"stoppingTrainNo\": self.stoppingTrains,\n",
        "                }\n",
        "            }\n",
        "        )\n",
        "\n",
        "class FoodData:\n",
        "  foodData = {}\n",
        "\n",
        "  def __init__(self, trainNo, foodDetails):\n",
        "      self.trainNo = trainNo\n",
        "      self.foodDetails = foodDetails\n",
        "      self.foodData.update({self.trainNo: self.foodDetails})\n",
        "\n",
        "class BookingHistoryData:\n",
        "  ticketHistory = {}\n",
        "  def __init__(self,PnrNo,trainNo,coach,departureSation,arrivalStation,numberOfPassangers,travelDate,userName,userYob,userAge,foodCuisine=None,foodMenu=None,foodQty=None,finalPrice=None,bookingStatus = 'CONFIRMED'):\n",
        "    self.PnrNo = PnrNo\n",
        "    self.trainNo = trainNo\n",
        "    self.coach = coach\n",
        "    self.departureSation = departureSation\n",
        "    self.arrivalStation = arrivalStation\n",
        "    self.numberOfPassangers = numberOfPassangers\n",
        "    self.travelDate = travelDate\n",
        "    self.userName = userName\n",
        "    self.userYob = userYob\n",
        "    self.userAge = userAge\n",
        "    self.foodCuisine = foodCuisine\n",
        "    self.foodMenu = foodMenu\n",
        "    self.foodQty = foodQty\n",
        "    self.finalPrice = finalPrice\n",
        "    self.bookingStatus = bookingStatus\n",
        "    self.ticketHistory.update({self.PnrNo:{'trainInfo':{'trainNo':self.trainNo,'coach':self.coach,'departureSation':self.departureSation,'arrivalStation':self.arrivalStation,'numberOfPassangers':self.numberOfPassangers,\n",
        "                                                        'travelDate':self.travelDate},'userInfo':{'userName':self.userName,'userYob':self.userYob,'userAge':self.userAge},\n",
        "                                           'foodInfo':{'foodCuisine':self.foodCuisine,'foodMenu':self.foodMenu,'foodQty':self.foodQty},'finalPrice':self.finalPrice,'bookingStatus':self.bookingStatus}})\n",
        "\n",
        "\n",
        "class TrainDetails:\n",
        "  global trnD,lbl,statD\n",
        "  statD = StationData\n",
        "  trnD = TrainData\n",
        "  lbl = ConfigLables\n",
        "\n",
        "  def getTrainName(trainNo):\n",
        "    return trnD.trainData[trainNo]['name']\n",
        "\n",
        "  def getCoachDetails(trainNo):\n",
        "    coachOptions = {}\n",
        "    for i,j in trnD.trainData.items():\n",
        "      if i==trainNo:\n",
        "        for a,b in j['availableCoaches'].items():\n",
        "          coachOptions.update({a:{'seats':b['availableSeats'], 'baseBare':b['baseFare']}})\n",
        "    return(coachOptions)\n",
        "\n",
        "  def updateAvailableTrainSeats(trainNo,coach,numberOfPassangers,cancelTicket=True):\n",
        "    if cancelTicket:\n",
        "      trnD.trainData[trainNo]['availableCoaches'][coach]['availableSeats'] -= numberOfPassangers\n",
        "    else:\n",
        "      trnD.trainData[trainNo]['availableCoaches'][coach]['availableSeats'] += numberOfPassangers\n",
        "\n",
        "  def displayTrainDetailsWithCoach(trainNo):\n",
        "    print(lbl.DISPTRAINUMBER.format(trainNo))\n",
        "    for i,j in trnD.trainData[trainNo]['availableCoaches'].items():\n",
        "      print(lbl.DISPCOACHDETAILS.format(i,j['availableSeats'],j['baseFare']))\n",
        "\n",
        "  def getCoachAvailableSeat(trainNo,coach):\n",
        "    return trnD.trainData[trainNo]['availableCoaches'][coach]['availableSeats']\n",
        "\n",
        "  def getCoachFare(trainNo,coach):\n",
        "    return trnD.trainData[trainNo]['availableCoaches'][coach]['baseBare']\n",
        "\n",
        "  def displayTrainDetails(trainNo):\n",
        "    trainName = trnD.trainData[trainNo]['name']\n",
        "    stoppingSats = reduce(lambda x, y: x +', '+ y, trnD.trainData[trainNo]['stoppingSations'])\n",
        "    depatureStationCode = trnD.trainData[trainNo]['departureStation']\n",
        "    depatureStationName = statD.stationData[trnD.trainData[trainNo]['departureStation']]['name']\n",
        "    arrivalStationCode = trnD.trainData[trainNo]['arrivalStation']\n",
        "    arrivalStationName = statD.stationData[trnD.trainData[trainNo]['arrivalStation']]['name']\n",
        "    print(ConfigLables.DISPTRANDETAILS.format(trainNo,trainName,depatureStationCode,depatureStationName,arrivalStationCode,arrivalStationName,stoppingSats))\n",
        "\n",
        "class StationDetails:\n",
        "  global statD\n",
        "  statD = StationData\n",
        "\n",
        "  def getDepartureTime(trainNo,stationCode):\n",
        "    return statD.stationData[stationCode]['stoppingTrainNo'][trainNo]['departureTime']\n",
        "\n",
        "  def getArrivalTime(trainNo,stationCode):\n",
        "    return statD.stationData[stationCode]['stoppingTrainNo'][trainNo]['arrivalTime']\n",
        "\n",
        "  def getDistance(stationCode):\n",
        "    return statD.stationData[stationCode]['distance']\n",
        "\n",
        "  def getStationName(stationCode):\n",
        "    return statD.stationData[stationCode]['name']\n",
        "\n",
        "  def getStoppingTrains(stationCode):\n",
        "    return list(statD.stationData[stationCode]['stoppingTrainNo'])\n",
        "\n",
        "class FoodDetails:\n",
        "  global foodD\n",
        "  foodD = FoodData\n",
        "\n",
        "  def displayCuisineOption(trainNo):\n",
        "    for i,j in foodD.foodData[trainNo].items():\n",
        "      print('{0}: {1}'.format(i,j['cuisine']))\n",
        "\n",
        "  def displayCuisineOptionNew(trainNo):\n",
        "    for i,j in foodD.foodData[trainNo].items():\n",
        "      print('{0}: {1}'.format(i,j['cuisine']))\n",
        "\n",
        "  def displayMenuOption(trainNo,cuisine):\n",
        "    for i,j in foodD.foodData[trainNo][cuisine].items():\n",
        "      print('{0}: {1} (Available Qty: {2}) - {3:.2f} per plate'.format(i,j['meal'],j['availableQty'],j['price']))\n",
        "\n",
        "  def updateAvailableFoodQty(trainNo,cuisine,mealOption,qty,CancelFood=True):\n",
        "    if CancelFood:\n",
        "      foodD.foodData[trainNo][cuisine]['mealOptions'][mealOption]['availableQty'] -=qty\n",
        "    else:\n",
        "      foodD.foodData[trainNo][cuisine]['mealOptions'][mealOption]['availableQty'] +=qty\n",
        "\n",
        "class BookingHistory:\n",
        "  global bookH, trnData, fdData, statData\n",
        "  bookH = BookingHistoryData\n",
        "  trnData = TrainData\n",
        "  fdData = FoodData\n",
        "  statData = StationDetails\n",
        "\n",
        "  def cancelTicket(PnrNo):\n",
        "    trainNo = bookH.ticketHistory[PnrNo]['trainInfo']['trainNo']\n",
        "    numberOfPassangers = bookH.ticketHistory[PnrNo]['trainInfo']['numberOfPassangers']\n",
        "    coach = bookH.ticketHistory[PnrNo]['trainInfo']['coach']\n",
        "    foodCuisine = bookH.ticketHistory[PnrNo]['foodInfo']['foodCuisine']\n",
        "    foodMenu = bookH.ticketHistory[PnrNo]['foodInfo']['foodMenu']\n",
        "    foodQty = bookH.ticketHistory[PnrNo]['foodInfo']['foodQty']\n",
        "    bookH.ticketHistory.update[PnrNo]['']['bookingStatus'] = 'CANCELLED'\n",
        "    trnData.updateAvailableTrainSeats(trainNo,coach,numberOfPassangers,True)\n",
        "    fdData.updateAvailableFoodQty(trainNo,foodCuisine,foodMenu,foodQty,True)\n",
        "\n",
        "  def displayPnrStatus(PnrNo):\n",
        "    trainNo = bookH.ticketHistory[PnrNo]['trainInfo']['trainNo']\n",
        "    trainName = trnData.getTrainName(trainNo)\n",
        "    coach = bookH.ticketHistory[PnrNo]['trainInfo']['coach']\n",
        "    departureSation = bookH.ticketHistory[PnrNo]['trainInfo']['departureSation']\n",
        "    arrivalStation = bookH.ticketHistory[PnrNo]['trainInfo']['arrivalStation']\n",
        "    departureSationName = statData.getStationName(departureSation)\n",
        "    arrivalStationName = statData.getStationName(arrivalStation)\n",
        "    numberOfPassangers = bookH.ticketHistory[PnrNo]['trainInfo']['numberOfPassangers']\n",
        "    travelDate = bookH.ticketHistory[PnrNo]['trainInfo']['travelDate']\n",
        "    userName = bookH.ticketHistory[PnrNo]['userInfo']['userName']\n",
        "    userYob = bookH.ticketHistory[PnrNo]['userInfo']['userYob']\n",
        "    userAge = bookH.ticketHistory[PnrNo]['userInfo']['userAge']\n",
        "    foodCuisine = bookH.ticketHistory[PnrNo]['foodInfo']['foodCuisine']\n",
        "    foodMenu = bookH.ticketHistory[PnrNo]['foodInfo']['foodMenu']\n",
        "    FoodMenuName = fdData.foodData[trainNo][foodCuisine]['mealOptions'][foodMenu]['meal']\n",
        "    foodQty = bookH.ticketHistory[PnrNo]['foodInfo']['foodQty']\n",
        "    finalPrice = bookH.ticketHistory[PnrNo]['finalPrice']\n",
        "    bookingStatus = bookH.ticketHistory[PnrNo]['bookingStatus']\n",
        "\n",
        "    print('{}{}{}{}{}{}{}{}{}{}{}{}{}{}{}{}'.format(PnrNo,trainName,coach,departureSation,arrivalStation,departureSationName,arrivalStationName,numberOfPassangers\n",
        "                                                    ,travelDate,userName,userYob,userAge,FoodMenuName,foodQty,finalPrice,bookingStatus))\n",
        "\n",
        "class UserPrompt:\n",
        "\n",
        "  def userResponse(self,promptText, inputType, inputVerifier):\n",
        "    self.promptText = promptText\n",
        "    self.inputType = inputType\n",
        "    self.inputVerifier = inputVerifier\n",
        "    self.userRes = input(self.promptText)\n",
        "    if self.inputType == int:\n",
        "      while not self.userRes.isnumeric():\n",
        "        self.userRes = input(self.promptText)\n",
        "      self.userRes = self.getResponse(int(self.userRes), self.promptText, self.inputType, self.inputVerifier)\n",
        "    else:\n",
        "      self.userRes = self.getResponse(self.userRes, self.promptText, self.inputType, self.inputVerifier)\n",
        "    return self.userRes\n",
        "\n",
        "  def getResponse(self,userRes, promptText, inputType, inputVerifier):\n",
        "    self.userRes = userRes\n",
        "    self.promptText = promptText\n",
        "    self.inputType = inputType\n",
        "    self.inputVerifier = inputVerifier\n",
        "    while self.userRes not in self.inputVerifier:\n",
        "          self.userRes = self.userResponse(self.promptText, self.inputType, self.inputVerifier)\n",
        "    return self.userRes\n",
        "\n",
        "class TicketHandling(UserPrompt,TrainDetails, ConfigLables):\n",
        "\n",
        "\n",
        "  bookingOptions = {1:'By Selecting Stations', 2:'By Train Number'}\n",
        "  '''trn =TrainDetails\n",
        "  def ticketBooking(self):\n",
        "    for i,j in self.trn.trainData.items():\n",
        "      self.trn.displayTrainDetailsNew(i)\n",
        "    trainNo = self.userResponse(self.GETTRAINNUMBER,int,list(self.trn.trainData.keys()))\n",
        "    self.trn.displayTrainDetailsWithCoach(trainNo)'''\n",
        "\n",
        "  def ticketBooking(self):\n",
        "    trn = TrainData\n",
        "    #trnD = TrainDetails\n",
        "    for i,j in trn.trainData.items():\n",
        "      trnD.displayTrainDetails(i)\n",
        "    trainNo = self.userResponse(self.GETTRAINNUMBER,int,list(trn.trainData.keys()))\n",
        "    trnD.displayTrainDetailsWithCoach(trainNo)\n",
        "\n",
        "  def ticketCancel(self):\n",
        "    print('helo')\n",
        "  def pnrStatusCheck(self):\n",
        "    print('helo')\n",
        "  def seatAvailabilityCheck(self):\n",
        "    print('helo')\n",
        "\n",
        "class MenuOptions(TicketHandling,ConfigLables):\n",
        "\n",
        "  def menu(self):\n",
        "    self.userOptions = {1:'Ticket Booking', 2:'Ticket Cancel', 3:'Check PNR Status', 4:'Check Seat Availability'}\n",
        "    print(self.WELCOMEPROMPT)\n",
        "    self.userOption = self.userResponse(self.GETTHEOPTION,int,list(self.userOptions.keys()))\n",
        "\n",
        "    if self.userOption == 1:\n",
        "      self.ticketBooking()\n",
        "    elif self.userOption == 2:\n",
        "      self.ticketCancel()\n",
        "    elif self.userOption == 3:\n",
        "      self.pnrStatusCheck()\n",
        "    elif self.userOption == 4:\n",
        "      self.seatAvailabilityCheck()\n",
        "\n",
        "\n",
        "\n",
        "\n",
        "\n"
      ]
    },
    {
      "cell_type": "code",
      "source": [
        "u1 = UserPrompt()\n",
        "u1.userResponse(u1.GETTRAINNUMBER,str,['100001','100002'])"
      ],
      "metadata": {
        "id": "iTQvoTBBF7dA",
        "colab": {
          "base_uri": "https://localhost:8080/",
          "height": 105
        },
        "outputId": "6ea9979a-5d33-4dd6-882f-d200d26b0796"
      },
      "execution_count": null,
      "outputs": [
        {
          "name": "stdout",
          "output_type": "stream",
          "text": [
            "\n",
            "Please Enter the Train Number: 1001\n",
            "\n",
            "Please Enter the Train Number: 100001\n"
          ]
        },
        {
          "output_type": "execute_result",
          "data": {
            "text/plain": [
              "'100001'"
            ],
            "application/vnd.google.colaboratory.intrinsic+json": {
              "type": "string"
            }
          },
          "metadata": {},
          "execution_count": 52
        }
      ]
    },
    {
      "cell_type": "code",
      "source": [
        "menu = MenuOptions()\n",
        "menu.menu()"
      ],
      "metadata": {
        "colab": {
          "base_uri": "https://localhost:8080/"
        },
        "id": "INVjRlCKuj2d",
        "outputId": "419e98ae-3dad-492c-823f-ddec140e1995"
      },
      "execution_count": 264,
      "outputs": [
        {
          "output_type": "stream",
          "name": "stdout",
          "text": [
            "****************************** Welcome to simple train booking system ******************************\n",
            "\n",
            "Please Enter the Option: 1\n",
            "100001 : Madurai Express From - MS: (Chennai Egmore) To MDU: (Madurai) (Stopping Stations: VM, TPJ)\n",
            "\n",
            "100004 : Kanyakumari Express From - MS: (Chennai Egmore) To CAPE: (Kanyakumari) (Stopping Stations: VM, TPJ, CBE)\n",
            "\n",
            "\n",
            "Please Enter the Train Number: 100001\n",
            "\n",
            "****************************** Train Number: 100001 ******************************\n",
            "Coach: 1AC  || Available seats(100)  || Fare: 50.00 Per Adult + Reservartion Chargers\n",
            "Coach: 2AC  || Available seats(150)  || Fare: 40.00 Per Adult + Reservartion Chargers\n",
            "Coach: SLP  || Available seats(300)  || Fare: 30.00 Per Adult + Reservartion Chargers\n",
            "Coach: GEN  || Available seats(140)  || Fare: 10.00 Per Adult + Reservartion Chargers\n"
          ]
        }
      ]
    },
    {
      "cell_type": "code",
      "source": [
        "t1 = TrainData(100001,'Madurai Express',100,50.00,150,40.00,300,30.00,140,10.00,['VM','TPJ'],'MS','MDU',2.00)\n",
        "t2 = TrainData(100004,'Kanyakumari Express',100,50.00,150,40.00,300,30.00,140,10.00,['VM','TPJ','CBE'],'MS','CAPE',2.00)\n",
        "s1 = StationData('MS','Chennai Egmore',0,{100001:{'arrivalTime':'10.00 AM','departureTime':'10:10 AM'},100004:{'arrivalTime':'12:00 PM', 'departureTime':'12:10 PM'}})\n",
        "s2 = StationData('MDU','Madurai',250,{100001:{'arrivalTime':'12.00 AM','departureTime':'12:10 AM'},100004:{'arrivalTime':'05:00 PM', 'departureTime':'05:10 PM'}})\n",
        "s3 = StationData('CAPE','Kanyakumari',500,{100001:{'arrivalTime':'03.00 AM','departureTime':'03:10 AM'},100004:{'arrivalTime':'04:00 PM', 'departureTime':'04:10 PM'}})\n",
        "f1 = FoodData(100001,{1:{'cuisine':'South Indian','mealOptions': {1:{'meal':'Break Fast - Idly', 'availableQty':50,'price':50},\n",
        "                                                      2:{'meal':'Lunch - Biriyani', 'availableQty':50,'price':50}}},\n",
        "                         2:{'cuisine':'North Indian','mealOptions': {1:{'meal':'Break Fast - Poori', 'availableQty':50,'price':50},\n",
        "                                                      2:{'meal':'Lunch - Chapathi', 'availableQty':50,'price':50}}},})"
      ],
      "metadata": {
        "id": "StpBpi_bD5vT"
      },
      "execution_count": 263,
      "outputs": []
    },
    {
      "cell_type": "code",
      "source": [
        "ttr = TrainDetails\n",
        "ttr.displayTrainDetailsNew(100001)"
      ],
      "metadata": {
        "colab": {
          "base_uri": "https://localhost:8080/"
        },
        "id": "D7r3GsNQNsJA",
        "outputId": "02953297-769d-494c-d47d-78469b505eb9"
      },
      "execution_count": 244,
      "outputs": [
        {
          "output_type": "stream",
          "name": "stdout",
          "text": [
            "100001 : Madurai Express From - MS: (Chennai Egmore) To MDU: (Madurai) (Stopping Stations: VM, TPJ)\n",
            "\n"
          ]
        }
      ]
    },
    {
      "cell_type": "code",
      "source": [
        "t1.updateAvailableSeats(100001,'1AC',100,'Book')"
      ],
      "metadata": {
        "id": "TgfCl2c5Zd9T"
      },
      "execution_count": null,
      "outputs": []
    },
    {
      "cell_type": "code",
      "source": [
        "t2.displayTrainDetails(100004)"
      ],
      "metadata": {
        "id": "YghPDQKQWJzn",
        "outputId": "ffd7708d-6067-48e6-f3f4-4c30dabf90f1",
        "colab": {
          "base_uri": "https://localhost:8080/"
        }
      },
      "execution_count": null,
      "outputs": [
        {
          "output_type": "stream",
          "name": "stdout",
          "text": [
            "100004 : Kanyakumari Express From - MS: (Chennai Egmore) To CAPE: (Kanyakumari) (Stopping Stations: VM, TPJ, CBE)\n",
            "\n"
          ]
        }
      ]
    },
    {
      "cell_type": "code",
      "source": [
        "t1.displayTrainDetailsNew(100001)"
      ],
      "metadata": {
        "id": "VgKAqwHHXZD9",
        "outputId": "cccda6af-15c7-4b5d-cfc3-34ab29967eec",
        "colab": {
          "base_uri": "https://localhost:8080/"
        }
      },
      "execution_count": null,
      "outputs": [
        {
          "output_type": "stream",
          "name": "stdout",
          "text": [
            "100001 : Madurai Express From - MS: Chennai Egmore To MDU: Madurai (Stopping Stations: VM, TPJ)\n",
            "\n"
          ]
        }
      ]
    },
    {
      "cell_type": "code",
      "source": [
        "ts = {1:'test',2:'tsttt'}\n",
        "list(ts.keys())"
      ],
      "metadata": {
        "id": "7FvR4a7x4tYb",
        "outputId": "98789929-7da2-404e-a64d-67d2d5489aae",
        "colab": {
          "base_uri": "https://localhost:8080/"
        }
      },
      "execution_count": 132,
      "outputs": [
        {
          "output_type": "execute_result",
          "data": {
            "text/plain": [
              "[1, 2]"
            ]
          },
          "metadata": {},
          "execution_count": 132
        }
      ]
    },
    {
      "cell_type": "code",
      "source": [
        "t1.updateAvailableSeats(100001,'1AC',150,'Cancel')"
      ],
      "metadata": {
        "id": "Peby_rEpRFnp"
      },
      "execution_count": null,
      "outputs": []
    },
    {
      "cell_type": "code",
      "source": [
        "print(t1.getTrainName(100001))"
      ],
      "metadata": {
        "id": "gZJgoP9ZNmXU",
        "outputId": "7961d940-5e03-442f-e4a3-0bba68e42814",
        "colab": {
          "base_uri": "https://localhost:8080/"
        }
      },
      "execution_count": null,
      "outputs": [
        {
          "output_type": "stream",
          "name": "stdout",
          "text": [
            "Madurai Express\n"
          ]
        }
      ]
    },
    {
      "cell_type": "code",
      "source": [
        "s1.stationData['MS']['stoppingTrainNo'][100001]['arrivalTime']"
      ],
      "metadata": {
        "id": "IgsGn68XNE7l",
        "outputId": "62bd36e7-49fb-4af8-91ef-db65b46f1f6b",
        "colab": {
          "base_uri": "https://localhost:8080/",
          "height": 35
        }
      },
      "execution_count": null,
      "outputs": [
        {
          "output_type": "execute_result",
          "data": {
            "text/plain": [
              "'10.00 AM'"
            ],
            "application/vnd.google.colaboratory.intrinsic+json": {
              "type": "string"
            }
          },
          "metadata": {},
          "execution_count": 43
        }
      ]
    },
    {
      "cell_type": "code",
      "source": [
        "a = [100001, 100004]"
      ],
      "metadata": {
        "id": "JWAx5zK_NYaJ"
      },
      "execution_count": null,
      "outputs": []
    },
    {
      "cell_type": "code",
      "source": [
        "print(*a,sep=', ')"
      ],
      "metadata": {
        "id": "L-QVXHu6UwIg",
        "outputId": "5d0513f6-d623-42a6-818a-fe7d4690e0dc",
        "colab": {
          "base_uri": "https://localhost:8080/"
        }
      },
      "execution_count": null,
      "outputs": [
        {
          "output_type": "stream",
          "name": "stdout",
          "text": [
            "100001, 100004\n"
          ]
        }
      ]
    },
    {
      "cell_type": "code",
      "source": [
        "StationDetails.stationData"
      ],
      "metadata": {
        "id": "k4jWv4EqnvYm",
        "outputId": "9874815b-729f-483d-b8e1-9c599e397967",
        "colab": {
          "base_uri": "https://localhost:8080/"
        }
      },
      "execution_count": null,
      "outputs": [
        {
          "output_type": "execute_result",
          "data": {
            "text/plain": [
              "{'MS': {'name': 'Chennai Egmore',\n",
              "  'distance': 0,\n",
              "  'stoppingTrainNo': {100001: {'arrivalTime': '10.00 AM',\n",
              "    'departureTime': '10:10 AM'},\n",
              "   100004: {'arrivalTime': '12:00 PM', 'departureTime': '12:10 PM'}}},\n",
              " 'MDU': {'name': 'Madurai',\n",
              "  'distance': 250,\n",
              "  'stoppingTrainNo': {100001: {'arrivalTime': '12.00 AM',\n",
              "    'departureTime': '12:10 AM'},\n",
              "   100004: {'arrivalTime': '05:00 PM', 'departureTime': '05:10 PM'}}}}"
            ]
          },
          "metadata": {},
          "execution_count": 60
        }
      ]
    },
    {
      "cell_type": "code",
      "source": [
        "f1.updateAvailableQtyDirect(100001,1,1,50,'Order')"
      ],
      "metadata": {
        "id": "h0NGyTFzBCSS"
      },
      "execution_count": null,
      "outputs": []
    },
    {
      "cell_type": "code",
      "source": [
        "f1.foodData[100001][1]['mealOptions'][1]['availableQty']"
      ],
      "metadata": {
        "id": "3ftHWKqkx63b",
        "outputId": "816bd859-d5af-4b03-c894-2ad49d11436c",
        "colab": {
          "base_uri": "https://localhost:8080/"
        }
      },
      "execution_count": null,
      "outputs": [
        {
          "output_type": "execute_result",
          "data": {
            "text/plain": [
              "100"
            ]
          },
          "metadata": {},
          "execution_count": 74
        }
      ]
    },
    {
      "cell_type": "code",
      "source": [
        "f1.foodData[100001][1]['cuisine']"
      ],
      "metadata": {
        "id": "yqHAOf-oDyM7",
        "outputId": "1893073c-0f87-4b5e-be8c-1c89dd77cf25",
        "colab": {
          "base_uri": "https://localhost:8080/",
          "height": 35
        }
      },
      "execution_count": null,
      "outputs": [
        {
          "output_type": "execute_result",
          "data": {
            "text/plain": [
              "'South Indian'"
            ],
            "application/vnd.google.colaboratory.intrinsic+json": {
              "type": "string"
            }
          },
          "metadata": {},
          "execution_count": 84
        }
      ]
    },
    {
      "cell_type": "code",
      "source": [
        "f1.displayCuisineOptionNew(100001)"
      ],
      "metadata": {
        "id": "miT-HghV0S_Q",
        "outputId": "2dc8a082-f429-4988-9848-ce84becdd391",
        "colab": {
          "base_uri": "https://localhost:8080/"
        }
      },
      "execution_count": null,
      "outputs": [
        {
          "output_type": "stream",
          "name": "stdout",
          "text": [
            "1: South Indian\n",
            "2: North Indian\n"
          ]
        }
      ]
    },
    {
      "cell_type": "code",
      "source": [
        "testData = {100001:{1:{'cuisine':'South Indian',1:{'meal':'Break Fast - Idly','availableQty':50,'price':50.00}}}}\n",
        "testData"
      ],
      "metadata": {
        "colab": {
          "base_uri": "https://localhost:8080/"
        },
        "id": "cLqGTKiMMX8i",
        "outputId": "cea58382-b892-4319-ba8c-017042a9cdf3"
      },
      "execution_count": null,
      "outputs": [
        {
          "output_type": "execute_result",
          "data": {
            "text/plain": [
              "{100001: {1: {'cuisine': 'South Indian',\n",
              "   1: {'meal': 'Break Fast - Idly', 'availableQty': 50, 'price': 50.0}}}}"
            ]
          },
          "metadata": {},
          "execution_count": 104
        }
      ]
    },
    {
      "cell_type": "code",
      "source": [
        "TranDetails.trainData"
      ],
      "metadata": {
        "colab": {
          "base_uri": "https://localhost:8080/"
        },
        "id": "a4hk2oGXsnAi",
        "outputId": "4c72a939-c5ff-431a-95cd-64c0fb2dc08d"
      },
      "execution_count": null,
      "outputs": [
        {
          "output_type": "execute_result",
          "data": {
            "text/plain": [
              "{100001: {'name': 'Madurai Express',\n",
              "  'availableCoaches': {'1AC': {'availableSeats': 100, 'baseFare': 50.0},\n",
              "   '2AC': {'availableSeats': 150, 'baseFare': 40.0},\n",
              "   'SL': {'availableSeats': 300, 'baseFare': 30.0},\n",
              "   'GN': {'availableSeats': 140, 'baseFare': 10.0}},\n",
              "  'stoppingSations': ['VM', 'TPJ'],\n",
              "  'departureStation': 'MS',\n",
              "  'arrivalStation': 'MS',\n",
              "  'pricePerKm': 2.0}}"
            ]
          },
          "metadata": {},
          "execution_count": 92
        }
      ]
    },
    {
      "cell_type": "code",
      "source": [
        "StationDetails.stationData"
      ],
      "metadata": {
        "colab": {
          "base_uri": "https://localhost:8080/"
        },
        "id": "T2WBGvPeEIEt",
        "outputId": "fa40f23b-bc99-48d3-d949-108109d72333"
      },
      "execution_count": null,
      "outputs": [
        {
          "output_type": "execute_result",
          "data": {
            "text/plain": [
              "{'MS': {'name': 'Chennai Egmore',\n",
              "  'distance': 0,\n",
              "  'stoppingTrainNo': {100001: {'arrivalTime': '10.00 AM',\n",
              "    'departureTime': '10:10 AM'},\n",
              "   100004: {'arrivalTime': '12:00 PM', 'departureTime': '12:10 PM'}}}}"
            ]
          },
          "metadata": {},
          "execution_count": 99
        }
      ]
    },
    {
      "cell_type": "code",
      "source": [
        "def testDefaultparam(a,b,c=None):\n",
        "  print(a,b,c)"
      ],
      "metadata": {
        "id": "cJfI83miLUVX"
      },
      "execution_count": 127,
      "outputs": []
    },
    {
      "cell_type": "code",
      "source": [
        "testDefaultparam(10,20)"
      ],
      "metadata": {
        "colab": {
          "base_uri": "https://localhost:8080/"
        },
        "id": "TPcLV6vXLilC",
        "outputId": "841a2b83-25b3-435a-d882-424e93e15b57"
      },
      "execution_count": 129,
      "outputs": [
        {
          "output_type": "stream",
          "name": "stdout",
          "text": [
            "10 20 None\n"
          ]
        }
      ]
    }
  ]
}