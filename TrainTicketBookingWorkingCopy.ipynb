{
  "nbformat": 4,
  "nbformat_minor": 0,
  "metadata": {
    "colab": {
      "provenance": [],
      "authorship_tag": "ABX9TyNkfKF0/ShQ6j91OSECxibO",
      "include_colab_link": true
    },
    "kernelspec": {
      "name": "python3",
      "display_name": "Python 3"
    },
    "language_info": {
      "name": "python"
    }
  },
  "cells": [
    {
      "cell_type": "markdown",
      "metadata": {
        "id": "view-in-github",
        "colab_type": "text"
      },
      "source": [
        "<a href=\"https://colab.research.google.com/github/palanipsb/Python-Learning/blob/main/TrainTicketBookingWorkingCopy.ipynb\" target=\"_parent\"><img src=\"https://colab.research.google.com/assets/colab-badge.svg\" alt=\"Open In Colab\"/></a>"
      ]
    },
    {
      "cell_type": "code",
      "execution_count": 182,
      "metadata": {
        "id": "bJscdCB5n3NC"
      },
      "outputs": [],
      "source": [
        "class TrainData:\n",
        "  trainData = {}\n",
        "\n",
        "  def __init__(\n",
        "      self,\n",
        "      trainNo,\n",
        "      trainName,\n",
        "      seatCount1AC,\n",
        "      baseFare1AC,\n",
        "      seatCount2AC,\n",
        "      baseFare2AC,\n",
        "      seatCountSl,\n",
        "      baseFareSl,\n",
        "      seatCountG,\n",
        "      baseFareG,\n",
        "      stoppings,\n",
        "      deptStat,\n",
        "      arrivStat,\n",
        "      pricePerKm,\n",
        "  ):\n",
        "      self.trainNo = trainNo\n",
        "      self.trainName = trainName\n",
        "      self.seatCount1AC = seatCount1AC\n",
        "      self.baseFare1AC = baseFare1AC\n",
        "      self.seatCount2AC = seatCount2AC\n",
        "      self.baseFare2AC = baseFare2AC\n",
        "      self.seatCountSl = seatCountSl\n",
        "      self.baseFareSl = baseFareSl\n",
        "      self.seatCountG = seatCountG\n",
        "      self.baseFareG = baseFareG\n",
        "      self.stoppings = stoppings\n",
        "      self.deptStat = deptStat\n",
        "      self.arrivStat = arrivStat\n",
        "      self.pricePerKm = pricePerKm\n",
        "      self.trainData.update(\n",
        "          {\n",
        "              self.trainNo: {\n",
        "                  \"name\": self.trainName,\n",
        "                  \"availableCoaches\": {\n",
        "                      \"1AC\": {\n",
        "                          \"availableSeats\": self.seatCount1AC,\n",
        "                          \"baseFare\": self.baseFare1AC,\n",
        "                      },\n",
        "                      \"2AC\": {\n",
        "                          \"availableSeats\": self.seatCount2AC,\n",
        "                          \"baseFare\": self.baseFare2AC,\n",
        "                      },\n",
        "                      \"SLP\": {\n",
        "                          \"availableSeats\": self.seatCountSl,\n",
        "                          \"baseFare\": self.baseFareSl,\n",
        "                      },\n",
        "                      \"GEN\": {\n",
        "                          \"availableSeats\": self.seatCountG,\n",
        "                          \"baseFare\": self.baseFareG,\n",
        "                      },\n",
        "                  },\n",
        "                  \"stoppingSations\": self.stoppings,\n",
        "                  \"departureStation\": self.deptStat,\n",
        "                  \"arrivalStation\": self.arrivStat,\n",
        "                  \"pricePerKm\": self.pricePerKm,\n",
        "              }\n",
        "          }\n",
        "      )\n",
        "\n",
        "class StationData:\n",
        "  stationData = {}\n",
        "\n",
        "  def __init__(self, stationCode, stationName, distance, stoppingTrains):\n",
        "    self.stationCode = stationCode\n",
        "    self.stationName = stationName\n",
        "    self.distance = distance\n",
        "    self.stoppingTrains = stoppingTrains\n",
        "    self.stationData.update(\n",
        "            {\n",
        "                self.stationCode: {\n",
        "                    \"name\": self.stationName,\n",
        "                    \"distance\": self.distance,\n",
        "                    \"stoppingTrainNo\": self.stoppingTrains,\n",
        "                }\n",
        "            }\n",
        "        )\n",
        "\n",
        "class FoodData:\n",
        "  foodData = {}\n",
        "\n",
        "  def __init__(self, trainNo, foodDetails):\n",
        "      self.trainNo = trainNo\n",
        "      self.foodDetails = foodDetails\n",
        "      self.foodData.update({self.trainNo: self.foodDetails})\n",
        "\n",
        "class BookingHistoryData:\n",
        "  ticketHistory = {}\n",
        "  def __init__(self,PnrNo,trainNo,coach,departureSation,arrivalStation,numberOfPassangers,travelDate,travelDay,departureTime, arrivalTime,userName,userYob,userAge,userGender\n",
        "               ,foodCuisine=None,foodMenu=None,foodQty=None,finalPrice=None,bookingStatus = 'CONFIRMED'):\n",
        "    self.PnrNo = PnrNo\n",
        "    self.trainNo = trainNo\n",
        "    self.coach = coach\n",
        "    self.departureSation = departureSation\n",
        "    self.arrivalStation = arrivalStation\n",
        "    self.numberOfPassangers = numberOfPassangers\n",
        "    self.travelDate = travelDate\n",
        "    self.travelDay = travelDay\n",
        "    self.departureTime = departureTime\n",
        "    self.arrivalTime = arrivalTime\n",
        "    self.userName = userName\n",
        "    self.userYob = userYob\n",
        "    self.userAge = userAge\n",
        "    self.userGender = userGender\n",
        "    self.foodCuisine = foodCuisine\n",
        "    self.foodMenu = foodMenu\n",
        "    self.foodQty = foodQty\n",
        "    self.finalPrice = finalPrice\n",
        "    self.bookingStatus = bookingStatus\n",
        "    self.ticketHistory.update({self.PnrNo:{'trainInfo':{'trainNo':self.trainNo,'coach':self.coach,'departureSation':self.departureSation,'arrivalStation':self.arrivalStation,'numberOfPassangers':self.numberOfPassangers,\n",
        "                                                        'travelDate':self.travelDate,'travelDay':self.travelDay,'departureTime':self.departureTime,'arrivalTime':self.arrivalTime},\n",
        "                                           'userInfo':{'userName':self.userName,'userYob':self.userYob,'userAge':self.userAge,'userGender':self.userGender},\n",
        "                                           'foodInfo':{'foodCuisine':self.foodCuisine,'foodMenu':self.foodMenu,'foodQty':self.foodQty},'finalPrice':self.finalPrice,'bookingStatus':self.bookingStatus}})"
      ]
    },
    {
      "cell_type": "code",
      "source": [
        "from datetime import datetime\n",
        "import calendar\n",
        "import random\n",
        "class ConfigLables:\n",
        "\n",
        "  GETTRAINNUMBER = '\\nPlease Enter the Train Number: '\n",
        "  BOOKINGCONFIRM = '\\nCongrats! Booking confirmed!. Please note the PNR number to check booking details. PNR: {}'\n",
        "  BOOKINGCACEL = 'Thank you!. Your ticket has been cancelled. You will get your refund in 48 hours!'\n",
        "  BOOKINGDETAILS = '\\n'+'*'*30+' Booking Details for PNR: {} '+'*'*30\n",
        "  GETUSERNAME = '\\nPlease enter booking name: '\n",
        "  GETUSERYOB = '\\nPlease enter the YOB: '\n",
        "  GETUSERAGE = '\\nPlease enter the Age: '\n",
        "  GETUSERGENDER = '\\nPlease Enter the Gender (M/F)'\n",
        "  GETTHEOPTION = '\\nPlease Enter the Option: '\n",
        "  GETPNRNUMBER = '\\nPlease Enter the PNR Number: '\n",
        "  GETCOACH = '\\nPlease Enter the Coach: '\n",
        "  GETDEPSTATIONCODE = '\\nPlease Enter the departure Station Code: '\n",
        "  GETARRIVSTATIONCODE = '\\nPlease Enter the Arrival Station Code: '\n",
        "  GETPASSANGERCOUNT = '\\nPlease enter number of passangers: '\n",
        "  GETFOODNEED = '\\nWould you like to add food (Y/N): '\n",
        "  DISPCUISINEMSG = '\\Availabe Cuisines. Please choose one of the option'\n",
        "  DISPMEALMSG = '\\Availabe Food Menu. Please choose one of the option'\n",
        "  GETFOOFQTY = '\\nPlease Enter the food quatity: '\n",
        "  DISPTRANDETAILS = '{0} : {1} From - {2}: ({3}) To {4}: ({5}) (Stopping Stations: {6})\\n'\n",
        "  DISPCOACHDETAILS = 'Coach: {0}  || Available seats({1})  || Fare: {2:.2f} Per Adult + Reservartion Chargers'\n",
        "  DISPTRAINUMBER ='\\n'+'*'*30+' Train Number: {} '+'*'*30\n",
        "  WELCOMEPROMPT =  '*'*30+' Welcome to simple train booking system '+'*'*30\n",
        "  DISPMESSAGE = '\\nPlease enter Departure and Arrival Stations and Coach Details'\n",
        "  GETVALIDPASSCOUNT = '\\There are no seats availabe at this moment for entered count. Please enter the number of passangers again: '\n",
        "  GETVALIDFOODQTY = '\\There are no food availabe at this moment for entered quantity. Please enter the number of quantity again: '\n",
        "  GETTRAVELDATE = '\\nPlease enter the travel Date in YYYY-MM-DD format): '\n",
        "\n",
        "class TrainDetails(ConfigLables):\n",
        "  global trnD,lbl,statD\n",
        "  statD = StationData\n",
        "  trnD = TrainData\n",
        "\n",
        "  def getTrainName(self, trainNo):\n",
        "    self.trainNo = trainNo\n",
        "    return trnD.trainData[self.trainNo]['name']\n",
        "\n",
        "  def getCoachDetails(self,trainNo):\n",
        "    self.trainNo = trainNo\n",
        "    self.coachOptions = {}\n",
        "    for i,j in trnD.trainData.items():\n",
        "      if i==self.trainNo:\n",
        "        for a,b in j['availableCoaches'].items():\n",
        "          self.coachOptions.update({a:{'seats':b['availableSeats'], 'baseBare':b['baseFare']}})\n",
        "    return(self.coachOptions)\n",
        "\n",
        "  def updateAvailableTrainSeats(self,trainNo,coach,numberOfPassangers,cancelTicket=True):\n",
        "    self.trainNo = trainNo\n",
        "    self.coach = coach\n",
        "    self.numberOfPassangers = numberOfPassangers\n",
        "    self.cancelTicket = cancelTicket\n",
        "    if self.cancelTicket:\n",
        "      trnD.trainData[self.trainNo]['availableCoaches'][self.coach]['availableSeats'] += self.numberOfPassangers\n",
        "    else:\n",
        "      trnD.trainData[self.trainNo]['availableCoaches'][self.coach]['availableSeats'] -= self.numberOfPassangers\n",
        "\n",
        "  def displayTrainDetailsWithCoach(self,trainNo):\n",
        "    self.trainNo = trainNo\n",
        "    print(self.DISPTRAINUMBER.format(self.trainNo))\n",
        "    for i,j in trnD.trainData[self.trainNo]['availableCoaches'].items():\n",
        "      print(self.DISPCOACHDETAILS.format(i,j['availableSeats'],j['baseFare']))\n",
        "\n",
        "  def getCoachAvailableSeat(self,trainNo,coach):\n",
        "    self.trainNo = trainNo\n",
        "    self.coach = coach\n",
        "    return trnD.trainData[self.trainNo]['availableCoaches'][self.coach]['availableSeats']\n",
        "\n",
        "  def getCoachFare(self,trainNo,coach):\n",
        "    self.trainNo = trainNo\n",
        "    self.coach = coach\n",
        "    return trnD.trainData[self.trainNo]['availableCoaches'][self.coach]['baseFare']\n",
        "\n",
        "  def displayTrainDetails(self,trainNo):\n",
        "    self.trainNo = trainNo\n",
        "    self.stoppingSats = []\n",
        "    self.trainName = trnD.trainData[self.trainNo]['name']\n",
        "    self.stoppingSats = trnD.trainData[self.trainNo]['stoppingSations']\n",
        "    self.depatureStationCode = trnD.trainData[self.trainNo]['departureStation']\n",
        "    self.depatureStationName = statD.stationData[trnD.trainData[self.trainNo]['departureStation']]['name']\n",
        "    self.arrivalStationCode = trnD.trainData[self.trainNo]['arrivalStation']\n",
        "    self.arrivalStationName = statD.stationData[trnD.trainData[self.trainNo]['arrivalStation']]['name']\n",
        "    print(self.DISPTRANDETAILS.format(self.trainNo,self.trainName,self.depatureStationCode,self.depatureStationName,self.arrivalStationCode,self.arrivalStationName,self.stoppingSats))\n",
        "\n",
        "  def getStationCodesForATrain(self,trainNo):\n",
        "    self.trainNo = trainNo\n",
        "    self.availabeStations = []\n",
        "    self.availabeStations = trnD.trainData[self.trainNo]['stoppingSations']\n",
        "    self.availabeStations.append(trnD.trainData[self.trainNo]['departureStation'])\n",
        "    self.availabeStations.append(trnD.trainData[self.trainNo]['arrivalStation'])\n",
        "    return self.availabeStations\n",
        "\n",
        "  def getTrainNumbers(self):\n",
        "    return list(trnD.trainData.keys())\n",
        "\n",
        "class StationDetails:\n",
        "  global statD\n",
        "  statD = StationData\n",
        "\n",
        "  def getDepartureTime(self,trainNo,stationCode):\n",
        "    self.trainNo = trainNo\n",
        "    self.stationCode = stationCode\n",
        "    return statD.stationData[self.stationCode]['stoppingTrainNo'][self.trainNo]['departureTime']\n",
        "\n",
        "  def getArrivalTime(self,trainNo,stationCode):\n",
        "    self.trainNo = trainNo\n",
        "    self.stationCode = stationCode\n",
        "    return statD.stationData[self.stationCode]['stoppingTrainNo'][self.trainNo]['arrivalTime']\n",
        "\n",
        "  def getDistance(self,departueStation, arrivalStation):\n",
        "    self.departueStation = departueStation\n",
        "    self.arrivalStation = arrivalStation\n",
        "    return abs(statD.stationData[arrivalStation]['distance'] - statD.stationData[departueStation]['distance'])\n",
        "\n",
        "  def getStationName(self,stationCode):\n",
        "    self.stationCode = stationCode\n",
        "    return statD.stationData[stationCode]['name']\n",
        "\n",
        "  def getStoppingTrains(self,stationCode):\n",
        "    self.stationCode = stationCode\n",
        "    return list(statD.stationData[stationCode]['stoppingTrainNo'])\n",
        "\n",
        "class FoodDetails:\n",
        "  global foodD\n",
        "  foodD = FoodData\n",
        "\n",
        "  def foodDataEntry(self):\n",
        "      foodD.foodData.update({self.trainNo: self.foodDetails})\n",
        "\n",
        "  def displayCuisineOption(self,trainNo):\n",
        "    self.trainNo = trainNo\n",
        "    for i,j in foodD.foodData[self.trainNo].items():\n",
        "      print('{0}: {1}'.format(i,j['cuisine']))\n",
        "\n",
        "  def displayMealOption(self,trainNo,cuisine):\n",
        "    self.trainNo = trainNo\n",
        "    self.cuisine = cuisine\n",
        "    for i,j in foodD.foodData[self.trainNo][self.cuisine]['mealOptions'].items():\n",
        "      print('{}: {} (Available Qty: {}) - {:.2f} per plate'.format(i,j['meal'],j['availableQty'],j['price']))\n",
        "\n",
        "  def getAvailableFoodQty(self,trainNo,cuisine,mealOption):\n",
        "    self.trainNo = trainNo\n",
        "    self.cuisine = cuisine\n",
        "    self.mealOption = mealOption\n",
        "    return foodD.foodData[self.trainNo][self.cuisine]['mealOptions'][self.mealOption]['availableQty']\n",
        "\n",
        "  def getFoodPrice(self,trainNo,cuisine,mealOption):\n",
        "    self.trainNo = trainNo\n",
        "    self.cuisine = cuisine\n",
        "    self.mealOption = mealOption\n",
        "    return foodD.foodData[self.trainNo][self.cuisine]['mealOptions'][self.mealOption]['price']\n",
        "\n",
        "  def updateAvailableFoodQty(self,trainNo,cuisine,mealOption,qty,CancelFood=True):\n",
        "    self.trainNo = trainNo\n",
        "    self.cuisine = cuisine\n",
        "    self.mealOption = mealOption\n",
        "    self.qty = qty\n",
        "    self.CancelFood = CancelFood\n",
        "    if self.CancelFood:\n",
        "      foodD.foodData[self.trainNo][self.cuisine]['mealOptions'][self.mealOption]['availableQty'] +=self.qty\n",
        "    else:\n",
        "      foodD.foodData[self.trainNo][self.cuisine]['mealOptions'][self.mealOption]['availableQty'] -=self.qty\n",
        "\n",
        "class BookingHistory(TrainDetails,StationDetails,FoodDetails):\n",
        "  global bookH, trnData, fdData, statData\n",
        "  bookH = BookingHistoryData\n",
        "  trnData = TrainData\n",
        "  fdData = FoodData\n",
        "\n",
        "  def bookTicket(self,PnrNo,trainNo,coach,departureSation,arrivalStation,numberOfPassangers,travelDate,travelDay,departureTime,arrivalTime,userName,userYob,userAge,userGender,foodCuisine,foodMenu,foodQty,finalPrice):\n",
        "    self.PnrNo = PnrNo\n",
        "    self.trainNo = trainNo\n",
        "    self.coach = coach\n",
        "    self.departureSation = departureSation\n",
        "    self.arrivalStation = arrivalStation\n",
        "    self.numberOfPassangers = numberOfPassangers\n",
        "    self.travelDate = travelDate\n",
        "    self.travelDay = travelDay\n",
        "    self.departureTime = departureTime\n",
        "    self.arrivalTime = arrivalTime\n",
        "    self.userName = userName\n",
        "    self.userYob = userYob\n",
        "    self.userAge = userAge\n",
        "    self.userGender = userGender\n",
        "    self.foodCuisine = foodCuisine\n",
        "    self.foodMenu = foodMenu\n",
        "    self.foodQty = foodQty\n",
        "    self.finalPrice = finalPrice\n",
        "    self.updateAvailableTrainSeats(self.trainNo,self.coach,self.numberOfPassangers,False)\n",
        "    if self.foodCuisine != None:\n",
        "      self.updateAvailableFoodQty(self.trainNo,self.foodCuisine,self.foodMenu,self.foodQty,False)\n",
        "    BookingHistoryData(self.PnrNo,self.trainNo,self.coach,self.departureSation,self.arrivalStation,self.numberOfPassangers,self.travelDate,self.travelDay,self.departureTime, self.arrivalTime\n",
        "                       ,self.userName,self.userYob,self.userAge,self.userGender,self.foodCuisine,self.foodMenu,self.foodQty,self.finalPrice)\n",
        "\n",
        "  def cancelTicket(self,PnrNo,bookingStatus = 'CANCELLED'):\n",
        "    self.PnrNo = PnrNo\n",
        "    self.bookingStatus = bookingStatus\n",
        "    self.trainNo = bookH.ticketHistory[PnrNo]['trainInfo']['trainNo']\n",
        "    self.numberOfPassangers = bookH.ticketHistory[PnrNo]['trainInfo']['numberOfPassangers']\n",
        "    self.coach = bookH.ticketHistory[PnrNo]['trainInfo']['coach']\n",
        "    self.foodCuisine = bookH.ticketHistory[PnrNo]['foodInfo']['foodCuisine']\n",
        "    self.foodMenu = bookH.ticketHistory[PnrNo]['foodInfo']['foodMenu']\n",
        "    self.foodQty = bookH.ticketHistory[PnrNo]['foodInfo']['foodQty']\n",
        "    bookH.ticketHistory.update[PnrNo]['']['bookingStatus'] = self.bookingStatus\n",
        "    trnData.updateAvailableTrainSeats(self.trainNo,self.coach,self.numberOfPassangers)\n",
        "    if self.foodCuisine != None:\n",
        "      self.updateAvailableFoodQty(self.trainNo,self.foodCuisine,self.foodMenu,self.foodQty)\n",
        "\n",
        "  def displayPnrStatus(self,PnrNo):\n",
        "    self.PnrNo = PnrNo\n",
        "    self.trainNo = bookH.ticketHistory[PnrNo]['trainInfo']['trainNo']\n",
        "    self.trainName = self.getTrainName(self.trainNo)\n",
        "    self.coach = bookH.ticketHistory[PnrNo]['trainInfo']['coach']\n",
        "    self.departureSation = bookH.ticketHistory[PnrNo]['trainInfo']['departureSation']\n",
        "    self.arrivalStation = bookH.ticketHistory[PnrNo]['trainInfo']['arrivalStation']\n",
        "    self.departureTime = bookH.ticketHistory[PnrNo]['trainInfo']['departureTime']\n",
        "    self.arrivalTime = bookH.ticketHistory[PnrNo]['trainInfo']['arrivalTime']\n",
        "    self.departureSationName = self.getStationName(self.departureSation)\n",
        "    self.arrivalStationName = self.getStationName(self.arrivalStation)\n",
        "    self.numberOfPassangers = bookH.ticketHistory[PnrNo]['trainInfo']['numberOfPassangers']\n",
        "    self.travelDate = bookH.ticketHistory[PnrNo]['trainInfo']['travelDate']\n",
        "    self.travelDay = bookH.ticketHistory[PnrNo]['trainInfo']['travelDay']\n",
        "    self.userName = bookH.ticketHistory[PnrNo]['userInfo']['userName']\n",
        "    self.userYob = bookH.ticketHistory[PnrNo]['userInfo']['userYob']\n",
        "    self.userAge = bookH.ticketHistory[PnrNo]['userInfo']['userAge']\n",
        "    self.userGender = bookH.ticketHistory[PnrNo]['userInfo']['userGender']\n",
        "    self.foodCuisine = bookH.ticketHistory[PnrNo]['foodInfo']['foodCuisine']\n",
        "    self.foodMenu = bookH.ticketHistory[PnrNo]['foodInfo']['foodMenu']\n",
        "    self.FoodMenuName = fdData.foodData[self.trainNo][self.foodCuisine]['mealOptions'][self.foodMenu]['meal']\n",
        "    self.foodQty = bookH.ticketHistory[PnrNo]['foodInfo']['foodQty']\n",
        "    self.finalPrice = bookH.ticketHistory[PnrNo]['finalPrice']\n",
        "    self.bookingStatus = bookH.ticketHistory[PnrNo]['bookingStatus']\n",
        "    self.strBuilder ='*'*50+' PNR Number:{} '.format(self.PnrNo)+'*'*50+'\\n'\n",
        "    self.strBuilder = self.strBuilder + 'Travel Details:\t(Ticket Status: {})\\t\\tUser Details:\\t\\t\\t\\tFood Details:\\n'.format(self.bookingStatus)\n",
        "    self.strBuilder = self.strBuilder + 'Train:\\t{} ({})\\t\\t\\tName:\\t{}\\t\\tFood Opted:\\t{fooOpt}\\n'.format(self.trainNo,self.trainName,self.userName, fooOpt = 'No' if self.foodCuisine == None else 'Yes')\n",
        "    self.strBuilder = self.strBuilder + 'From:\\t{} ({}) - Departure: {}\\tAge:\\t{}\\t\\t\\t\\tFood Cuisine:\\t{fooOpt}\\n'.format(self.departureSation,self.departureSationName,self.departureTime,self.userAge,fooOpt = 'N/A' if self.foodCuisine == None else self.foodMenu)\n",
        "    self.strBuilder = self.strBuilder + 'To:\\t{} ({}) - Arraival: {}\\t\\tYOB:\\t{}\\t\\t\\t\\tFood Menu:\\t{fooOpt} {fQty}\\n'.format(self.arrivalStation,self.arrivalStationName,self.arrivalTime,self.userYob,fooOpt = 'N/A' if self.foodCuisine == None else self.FoodMenuName, fQty = '' if self.foodCuisine == None else '(Qty: '+str(self.foodQty)+')')\n",
        "    self.strBuilder = self.strBuilder + 'Date:\\t{} ({})\\t\\t\\t\\tGender:\\t{}\\t\\t\\t\\tFinal Price: \\t{:.2f}\\n'.format(self.travelDate,self.travelDay,self.userGender,self.finalPrice)\n",
        "    print(strBuilder)\n",
        "\n",
        "    #print('PNR Number:\\t\\t{}{}{}{}{}{}{}{}{}{}{}{}{}{}{}{}{}'.format(self.PnrNo,self.trainNo,self.trainName,self.coach,self.departureSation,self.arrivalStation,self.departureSationName,self.arrivalStationName,self.numberOfPassangers\n",
        "    #                                               ,self.travelDate,self.userName,self.userYob,self.userAge,self.FoodMenuName,self.foodQty,self.finalPrice,self.bookingStatus))\n",
        "\n",
        "  def getPnrList(self):\n",
        "    self.PnrList = list(bookH.ticketHistory.keys())\n",
        "    return self.PnrList\n",
        "\n",
        "class UserPrompt:\n",
        "\n",
        "  def userResponse(self,promptText, inputType, inputVerifier=None):\n",
        "    self.promptText = promptText\n",
        "    self.inputType = inputType\n",
        "    self.inputVerifier = inputVerifier\n",
        "    self.userRes = input(self.promptText)\n",
        "    if self.inputType == int:\n",
        "      while not self.userRes.isnumeric():\n",
        "        self.userRes = input(self.promptText)\n",
        "      self.userRes = self.getResponse(int(self.userRes), self.promptText, self.inputType, self.inputVerifier)\n",
        "    else:\n",
        "      self.userRes = self.getResponse(self.userRes, self.promptText, self.inputType, self.inputVerifier)\n",
        "    return self.userRes\n",
        "\n",
        "  def getResponse(self,userRes, promptText, inputType, inputVerifier):\n",
        "    self.userRes = userRes\n",
        "    self.promptText = promptText\n",
        "    self.inputType = inputType\n",
        "    self.inputVerifier = inputVerifier\n",
        "    if self.inputVerifier == None:\n",
        "      return self.userRes\n",
        "    else:\n",
        "      while self.userRes not in self.inputVerifier:\n",
        "        self.userRes = self.userResponse(self.promptText, self.inputType, self.inputVerifier)\n",
        "      return self.userRes\n",
        "\n",
        "\n",
        "class TicketHandling(UserPrompt,BookingHistory,FoodDetails):\n",
        "\n",
        "  def ticketBooking(self,cuisineOption=None,mealOption=None,foodQty=None,foodPrice=0.00):\n",
        "    self.cuisineOption = cuisineOption\n",
        "    self.mealOption = mealOption\n",
        "    self.foodQty = foodQty\n",
        "    self.foodPrice = foodPrice\n",
        "    self.trainNo,self.coach,self.departureSation,self.arrivalStation,self.numberOfPassangers,self.travelDate,self.travelDay,self.departureTime,self.arrivalTime,self.totalDistance,self.baseFare = self.getTrainInfo()\n",
        "    self.userName,self.userAge,self.userYob,self.userGender = self.getUserinfo()\n",
        "    self.foodNeeded = self.userResponse(self.GETFOODNEED,str)\n",
        "    if self.foodNeeded.upper() == 'Y':\n",
        "      self.cuisineOption,self.mealOption,self.foodQty,self.foodPrice = self.getFoodInfo(self.trainNo)\n",
        "    self.finalPrice = self.finalPrice(self.numberOfPassangers,self.totalDistance,self.baseFare,self.foodPrice)\n",
        "    self.PnrNo = self.generatePNR(self.trainNo,self.userName,self.departureSation)\n",
        "    self.bookTicket(self.PnrNo,self.trainNo,self.coach,self.departureSation,self.arrivalStation,self.numberOfPassangers,self.travelDate,self.travelDay,self.departureTime,self.arrivalTime\n",
        "                    ,self.userName,self.userYob,self.userAge,self.userGender,self.cuisineOption,self.mealOption,self.foodQty,self.finalPrice)\n",
        "    print(self.BOOKINGCONFIRM.format(self.PnrNo))\n",
        "\n",
        "  def ticketCancel(self):\n",
        "    self.PnrNoList = self.getPnrList()\n",
        "    self.PnrNo = self.userResponse(self.GETPNRNUMBER,str,self.PnrNoList)\n",
        "    self.cancelTicket(self.PnrNo)\n",
        "\n",
        "  def pnrStatusCheck(self):\n",
        "    self.PnrNoList = self.getPnrList()\n",
        "    self.PnrNo = self.userResponse(self.GETPNRNUMBER,str,self.PnrNoList)\n",
        "    self.displayPnrStatus(self.PnrNo)\n",
        "\n",
        "  def seatAvailabilityCheck(self):\n",
        "    self.trainNumbers = self.getTrainNumbers()\n",
        "    for i in self.trainNumbers:\n",
        "      self.displayTrainDetails(i)\n",
        "    self.trainNo = self.userResponse(self.GETTRAINNUMBER,int,self.trainNumbers)\n",
        "    self.displayTrainDetailsWithCoach(self.trainNo)\n",
        "\n",
        "  def getTrainInfo(self):\n",
        "    self.trainNumbers = self.getTrainNumbers()\n",
        "    for i in self.trainNumbers:\n",
        "      self.displayTrainDetails(i)\n",
        "    self.trainNo = self.userResponse(self.GETTRAINNUMBER,int,self.trainNumbers)\n",
        "    self.availabeStations = self.getStationCodesForATrain(self.trainNo)\n",
        "    self.coachOptions = list(self.getCoachDetails(self.trainNo).keys())\n",
        "    print(self.DISPMESSAGE)\n",
        "    self.displayTrainDetailsWithCoach(self.trainNo)\n",
        "    self.displayTrainDetails(self.trainNo)\n",
        "    self.departureSation = self.userResponse(self.GETDEPSTATIONCODE,str,self.availabeStations)\n",
        "    self.arrivalStation = self.userResponse(self.GETARRIVSTATIONCODE,str,self.availabeStations)\n",
        "    self.departureTime = self.getDepartureTime(self.trainNo,self.departureSation)\n",
        "    self.arrivalTime = self.getArrivalTime(self.trainNo,self.arrivalStation)\n",
        "    self.coach = self.userResponse(self.GETCOACH,str,self.coachOptions)\n",
        "    self.numberOfPassangers = self.userResponse(self.GETPASSANGERCOUNT,int)\n",
        "    self.availableSeat = self.getCoachAvailableSeat(self.trainNo,self.coach)\n",
        "    if(self.numberOfPassangers > self.availableSeat):\n",
        "      print(self.GETVALIDPASSCOUNT)\n",
        "      self.numberOfPassangers = self.userResponse(self.GETPASSANGERCOUNT,int)\n",
        "    self.travelDate,self.travelDay = self.getTravelDate()\n",
        "    self.totalDistance = self.getDistance(self.departureSation,self.arrivalStation)\n",
        "    self.baseFare = self.getCoachFare(self.trainNo,self.coach)\n",
        "    return self.trainNo,self.coach,self.departureSation,self.arrivalStation,self.numberOfPassangers,self.travelDate,self.travelDay,self.departureTime,self.arrivalTime,self.totalDistance,self.baseFare\n",
        "\n",
        "  def getFoodInfo(self,trainNo):\n",
        "    self.trainNo = trainNo\n",
        "    self.displayCuisineOption(self.trainNo)\n",
        "    self.cuisineOption = self.userResponse(self.GETTHEOPTION,int)\n",
        "    self.displayMealOption(self.trainNo,self.cuisineOption)\n",
        "    self.mealOption = self.userResponse(self.GETTHEOPTION,int)\n",
        "    self.foodQty = self.userResponse(self.GETFOOFQTY,int)\n",
        "    self.availabeFoodQty = self.getAvailableFoodQty(self.trainNo,self.cuisineOption,self.mealOption)\n",
        "    if self.foodQty > self.availabeFoodQty:\n",
        "      print(self.GETVALIDFOODQTY)\n",
        "      self.foodQty = self.userResponse(self.GETFOOFQTY,int)\n",
        "    self.foodPrice = self.getFoodPrice(self.trainNo,self.cuisineOption,self.mealOption) * self.foodQty\n",
        "    return self.cuisineOption,self.mealOption,self.foodQty,self.foodPrice\n",
        "\n",
        "  def getUserinfo(self):\n",
        "    self.userName = self.userResponse(self.GETUSERNAME,str)\n",
        "    self.userAge = self.userResponse(self.GETUSERAGE,int)\n",
        "    self.userYob = self.userResponse(self.GETUSERYOB,int)\n",
        "    self.userGender = self.userResponse(self.GETUSERGENDER,str)\n",
        "    return self.userName.capitalize(),self.userAge,self.userYob,self.userGender.upper()\n",
        "\n",
        "  def finalPrice(self,numberOfPassangers,totalDistance,baseFare,foodPrice=0.00):\n",
        "    self.numberOfPassangers = numberOfPassangers\n",
        "    self.totalDistance = totalDistance\n",
        "    self.baseFare = baseFare\n",
        "    self.foodPrice = foodPrice\n",
        "    return (self.baseFare + (self.totalDistance * self.numberOfPassangers) * self.numberOfPassangers) + self.foodPrice\n",
        "\n",
        "  def generatePNR(self,trainNo,userName,departureSation):\n",
        "    self.trainNo = trainNo\n",
        "    self.userName = userName\n",
        "    self.departureSation = departureSation\n",
        "    self.rndNo = random.randrange(10000,99999)\n",
        "    return str(self.rndNo + self.trainNo)+self.userName[0:3].upper()+self.departureSation\n",
        "\n",
        "  def getTravelDate(self):\n",
        "    self.travelDateStr = self.userResponse(self.GETTRAVELDATE,str)\n",
        "    year, month, day = map(int, self.travelDateStr.split('-'))\n",
        "    self.travelDateWithTime = datetime(year, month, day)\n",
        "    self.travelDate = self.travelDateWithTime.date()\n",
        "    self.travelDay = calendar.day_name[self.travelDate.weekday()]\n",
        "    return self.travelDate, self.travelDay\n",
        "\n",
        "\n",
        "class MenuOptions(TicketHandling):\n",
        "\n",
        "  def menu(self):\n",
        "    self.userOptions = {1:'Ticket Booking', 2:'Ticket Cancel', 3:'Check PNR Status', 4:'Check Seat Availability'}\n",
        "    print(self.WELCOMEPROMPT)\n",
        "    for i,j in self.userOptions.items():\n",
        "      print('\\t\\t\\t\\t{}: {}'.format(i,j))\n",
        "    self.userOption = self.userResponse(self.GETTHEOPTION,int,list(self.userOptions.keys()))\n",
        "\n",
        "    if self.userOption == 1:\n",
        "      self.ticketBooking()\n",
        "    elif self.userOption == 2:\n",
        "      self.ticketCancel()\n",
        "    elif self.userOption == 3:\n",
        "      self.pnrStatusCheck()\n",
        "    elif self.userOption == 4:\n",
        "      self.seatAvailabilityCheck()"
      ],
      "metadata": {
        "id": "xJ-5zJwoA1Ko"
      },
      "execution_count": 198,
      "outputs": []
    },
    {
      "cell_type": "code",
      "source": [
        "from datetime import datetime\n",
        "import calendar\n",
        "travelDtr = '2024-03-15'\n",
        "year, month, day = map(int, travelDtr.split('-'))\n",
        "ttk = datetime(year, month, day)\n",
        "wday = calendar.day_name[ttk.weekday()]\n",
        "print(ttk.date(), wday)"
      ],
      "metadata": {
        "id": "-99VlfwSorAH",
        "outputId": "83e8d332-eb23-4524-9afb-f6cccfe562f3",
        "colab": {
          "base_uri": "https://localhost:8080/"
        }
      },
      "execution_count": 172,
      "outputs": [
        {
          "output_type": "stream",
          "name": "stdout",
          "text": [
            "2024-03-15 Friday\n"
          ]
        }
      ]
    },
    {
      "cell_type": "code",
      "source": [
        "a = 5\n",
        "if a != 6:\n",
        "  print(a)"
      ],
      "metadata": {
        "id": "iTQvoTBBF7dA",
        "colab": {
          "base_uri": "https://localhost:8080/"
        },
        "outputId": "2f4e90be-2cb2-4407-dc71-3a680239f4b4"
      },
      "execution_count": 129,
      "outputs": [
        {
          "output_type": "stream",
          "name": "stdout",
          "text": [
            "5\n"
          ]
        }
      ]
    },
    {
      "cell_type": "code",
      "source": [
        "menu = MenuOptions()\n",
        "menu.menu()"
      ],
      "metadata": {
        "id": "INVjRlCKuj2d",
        "outputId": "76310b12-6478-4623-c0f5-9490b1e7ac2f",
        "colab": {
          "base_uri": "https://localhost:8080/"
        }
      },
      "execution_count": 199,
      "outputs": [
        {
          "output_type": "stream",
          "name": "stdout",
          "text": [
            "****************************** Welcome to simple train booking system ******************************\n",
            "\t\t\t\t1: Ticket Booking\n",
            "\t\t\t\t2: Ticket Cancel\n",
            "\t\t\t\t3: Check PNR Status\n",
            "\t\t\t\t4: Check Seat Availability\n",
            "\n",
            "Please Enter the Option: 3\n",
            "\n",
            "Please Enter the PNR Number: 132170PALMS\n",
            "************************************************** PNR Number:197379PALMS **************************************************\n",
            "Travel Details:\t(Ticket Status: CONFIRMED)\t\tUser Details:\t\t\t\tFood Details:\n",
            "Train:\t100004 (Madurai Express)\t\t\tName:\tPalanivel Subramani\t\tFood Opted:\tYes\n",
            "From:\tMS (Chennai Egmore) - Departure: 10.00 AM\tAge:\t35\t\t\t\tFood Cuisine:\tNorth Indian\n",
            "To:\tCAPE (Kanyakumari) - Arraival: 12.00 PM\t\tYOB:\t1996\t\t\t\tFood Menu:\tLunch (Idly)\n",
            "Date:\t15 Mar 2024 (Wednesday)\t\t\t\tGender:\tM\t\t\t\tFinal Price: \t5054.00\n",
            "\n"
          ]
        }
      ]
    },
    {
      "cell_type": "code",
      "source": [
        "t1 = TrainData(100001,'Madurai Express',100,50.00,150,40.00,300,30.00,140,10.00,['VM','TPJ'],'MS','MDU',2.00)\n",
        "t2 = TrainData(100004,'Kanyakumari Express',100,50.00,150,40.00,300,30.00,140,10.00,['VM','TPJ','CBE'],'MS','CAPE',2.00)\n",
        "s1 = StationData('MS','Chennai Egmore',0,{100001:{'arrivalTime':'10.00 AM','departureTime':'10:10 AM'},100004:{'arrivalTime':'12:00 PM', 'departureTime':'12:10 PM'}})\n",
        "s2 = StationData('MDU','Madurai',250,{100001:{'arrivalTime':'12.00 AM','departureTime':'12:10 AM'},100004:{'arrivalTime':'05:00 PM', 'departureTime':'05:10 PM'}})\n",
        "s3 = StationData('CAPE','Kanyakumari',500,{100001:{'arrivalTime':'03.00 AM','departureTime':'03:10 AM'},100004:{'arrivalTime':'04:00 PM', 'departureTime':'04:10 PM'}})\n",
        "f1 = FoodData(100001,{1:{'cuisine':'South Indian','mealOptions': {1:{'meal':'Break Fast - Idly', 'availableQty':50,'price':50.00},\n",
        "                                                      2:{'meal':'Lunch - Biriyani', 'availableQty':50,'price':50.00}}},\n",
        "                         2:{'cuisine':'North Indian','mealOptions': {1:{'meal':'Break Fast - Poori', 'availableQty':50,'price':50.00},\n",
        "                                                      2:{'meal':'Lunch - Chapathi', 'availableQty':50,'price':50.00}}},})"
      ],
      "metadata": {
        "id": "StpBpi_bD5vT"
      },
      "execution_count": 184,
      "outputs": []
    },
    {
      "cell_type": "code",
      "source": [
        "list(BookingHistoryData.ticketHistory.keys())"
      ],
      "metadata": {
        "colab": {
          "base_uri": "https://localhost:8080/"
        },
        "id": "D7r3GsNQNsJA",
        "outputId": "c893942c-de4d-44f6-9f31-9b472251c159"
      },
      "execution_count": 194,
      "outputs": [
        {
          "output_type": "execute_result",
          "data": {
            "text/plain": [
              "['132170PALMS', '120487PALMS']"
            ]
          },
          "metadata": {},
          "execution_count": 194
        }
      ]
    },
    {
      "cell_type": "code",
      "source": [
        "BookingHistoryData.ticketHistory"
      ],
      "metadata": {
        "id": "Q8p3bnT3vYss",
        "outputId": "d5b18bf4-db64-4b43-c2a9-429ce008f28e",
        "colab": {
          "base_uri": "https://localhost:8080/"
        }
      },
      "execution_count": 200,
      "outputs": [
        {
          "output_type": "execute_result",
          "data": {
            "text/plain": [
              "{'132170PALMS': {'trainInfo': {'trainNo': 100001,\n",
              "   'coach': '1AC',\n",
              "   'departureSation': 'MS',\n",
              "   'arrivalStation': 'MDU',\n",
              "   'numberOfPassangers': 5,\n",
              "   'travelDate': 'Friday',\n",
              "   'travelDay': datetime.date(2024, 3, 15),\n",
              "   'departureTime': '10:10 AM',\n",
              "   'arrivalTime': '12.00 AM'},\n",
              "  'userInfo': {'userName': 'Palani',\n",
              "   'userYob': 1996,\n",
              "   'userAge': 32,\n",
              "   'userGender': 'M'},\n",
              "  'foodInfo': {'foodCuisine': 1, 'foodMenu': 1, 'foodQty': 5},\n",
              "  'finalPrice': 6550.0,\n",
              "  'bookingStatus': 'CONFIRMED'},\n",
              " '120487PALMS': {'trainInfo': {'trainNo': 100001,\n",
              "   'coach': '1AC',\n",
              "   'departureSation': 'MS',\n",
              "   'arrivalStation': 'MDU',\n",
              "   'numberOfPassangers': 6,\n",
              "   'travelDate': 'Friday',\n",
              "   'travelDay': datetime.date(2024, 3, 15),\n",
              "   'departureTime': '10:10 AM',\n",
              "   'arrivalTime': '12.00 AM'},\n",
              "  'userInfo': {'userName': 'Palani',\n",
              "   'userYob': 1986,\n",
              "   'userAge': 35,\n",
              "   'userGender': 'F'},\n",
              "  'foodInfo': {'foodCuisine': None, 'foodMenu': None, 'foodQty': None},\n",
              "  'finalPrice': 9050.0,\n",
              "  'bookingStatus': 'CONFIRMED'}}"
            ]
          },
          "metadata": {},
          "execution_count": 200
        }
      ]
    },
    {
      "cell_type": "code",
      "source": [
        "TrainData.trainData"
      ],
      "metadata": {
        "id": "H7wC7pJoSl9X",
        "outputId": "b16bca88-4619-4511-951c-cde0eaf3a6e4",
        "colab": {
          "base_uri": "https://localhost:8080/"
        }
      },
      "execution_count": 191,
      "outputs": [
        {
          "output_type": "execute_result",
          "data": {
            "text/plain": [
              "{100001: {'name': 'Madurai Express',\n",
              "  'availableCoaches': {'1AC': {'availableSeats': 100, 'baseFare': 50.0},\n",
              "   '2AC': {'availableSeats': 150, 'baseFare': 40.0},\n",
              "   'SLP': {'availableSeats': 300, 'baseFare': 30.0},\n",
              "   'GEN': {'availableSeats': 140, 'baseFare': 10.0}},\n",
              "  'stoppingSations': ['VM', 'TPJ'],\n",
              "  'departureStation': 'MS',\n",
              "  'arrivalStation': 'MDU',\n",
              "  'pricePerKm': 2.0},\n",
              " 100004: {'name': 'Kanyakumari Express',\n",
              "  'availableCoaches': {'1AC': {'availableSeats': 100, 'baseFare': 50.0},\n",
              "   '2AC': {'availableSeats': 150, 'baseFare': 40.0},\n",
              "   'SLP': {'availableSeats': 300, 'baseFare': 30.0},\n",
              "   'GEN': {'availableSeats': 140, 'baseFare': 10.0}},\n",
              "  'stoppingSations': ['VM', 'TPJ', 'CBE'],\n",
              "  'departureStation': 'MS',\n",
              "  'arrivalStation': 'CAPE',\n",
              "  'pricePerKm': 2.0}}"
            ]
          },
          "metadata": {},
          "execution_count": 191
        }
      ]
    },
    {
      "cell_type": "code",
      "source": [
        "t1.updateAvailableSeats(100001,'1AC',100,'Book')"
      ],
      "metadata": {
        "id": "TgfCl2c5Zd9T"
      },
      "execution_count": null,
      "outputs": []
    },
    {
      "cell_type": "code",
      "source": [
        "t2.displayTrainDetails(100004)"
      ],
      "metadata": {
        "id": "YghPDQKQWJzn",
        "outputId": "ffd7708d-6067-48e6-f3f4-4c30dabf90f1",
        "colab": {
          "base_uri": "https://localhost:8080/"
        }
      },
      "execution_count": null,
      "outputs": [
        {
          "output_type": "stream",
          "name": "stdout",
          "text": [
            "100004 : Kanyakumari Express From - MS: (Chennai Egmore) To CAPE: (Kanyakumari) (Stopping Stations: VM, TPJ, CBE)\n",
            "\n"
          ]
        }
      ]
    },
    {
      "cell_type": "code",
      "source": [
        "t1.displayTrainDetailsNew(100001)"
      ],
      "metadata": {
        "id": "VgKAqwHHXZD9",
        "outputId": "cccda6af-15c7-4b5d-cfc3-34ab29967eec",
        "colab": {
          "base_uri": "https://localhost:8080/"
        }
      },
      "execution_count": null,
      "outputs": [
        {
          "output_type": "stream",
          "name": "stdout",
          "text": [
            "100001 : Madurai Express From - MS: Chennai Egmore To MDU: Madurai (Stopping Stations: VM, TPJ)\n",
            "\n"
          ]
        }
      ]
    },
    {
      "cell_type": "code",
      "source": [
        "ts = {1:'test',2:'tsttt'}\n",
        "list(ts.keys())"
      ],
      "metadata": {
        "id": "7FvR4a7x4tYb",
        "outputId": "98789929-7da2-404e-a64d-67d2d5489aae",
        "colab": {
          "base_uri": "https://localhost:8080/"
        }
      },
      "execution_count": null,
      "outputs": [
        {
          "output_type": "execute_result",
          "data": {
            "text/plain": [
              "[1, 2]"
            ]
          },
          "metadata": {},
          "execution_count": 132
        }
      ]
    },
    {
      "cell_type": "code",
      "source": [
        "t1.updateAvailableSeats(100001,'1AC',150,'Cancel')"
      ],
      "metadata": {
        "id": "Peby_rEpRFnp"
      },
      "execution_count": null,
      "outputs": []
    },
    {
      "cell_type": "code",
      "source": [
        "print(t1.getTrainName(100001))"
      ],
      "metadata": {
        "id": "gZJgoP9ZNmXU",
        "outputId": "7961d940-5e03-442f-e4a3-0bba68e42814",
        "colab": {
          "base_uri": "https://localhost:8080/"
        }
      },
      "execution_count": null,
      "outputs": [
        {
          "output_type": "stream",
          "name": "stdout",
          "text": [
            "Madurai Express\n"
          ]
        }
      ]
    },
    {
      "cell_type": "code",
      "source": [
        "s1.stationData['MS']['stoppingTrainNo'][100001]['arrivalTime']"
      ],
      "metadata": {
        "id": "IgsGn68XNE7l",
        "outputId": "62bd36e7-49fb-4af8-91ef-db65b46f1f6b",
        "colab": {
          "base_uri": "https://localhost:8080/",
          "height": 35
        }
      },
      "execution_count": null,
      "outputs": [
        {
          "output_type": "execute_result",
          "data": {
            "text/plain": [
              "'10.00 AM'"
            ],
            "application/vnd.google.colaboratory.intrinsic+json": {
              "type": "string"
            }
          },
          "metadata": {},
          "execution_count": 43
        }
      ]
    },
    {
      "cell_type": "code",
      "source": [
        "a = [100001, 100004]"
      ],
      "metadata": {
        "id": "JWAx5zK_NYaJ"
      },
      "execution_count": null,
      "outputs": []
    },
    {
      "cell_type": "code",
      "source": [
        "print(*a,sep=', ')"
      ],
      "metadata": {
        "id": "L-QVXHu6UwIg",
        "outputId": "5d0513f6-d623-42a6-818a-fe7d4690e0dc",
        "colab": {
          "base_uri": "https://localhost:8080/"
        }
      },
      "execution_count": null,
      "outputs": [
        {
          "output_type": "stream",
          "name": "stdout",
          "text": [
            "100001, 100004\n"
          ]
        }
      ]
    },
    {
      "cell_type": "code",
      "source": [
        "StationDetails.stationData"
      ],
      "metadata": {
        "id": "k4jWv4EqnvYm",
        "outputId": "9874815b-729f-483d-b8e1-9c599e397967",
        "colab": {
          "base_uri": "https://localhost:8080/"
        }
      },
      "execution_count": null,
      "outputs": [
        {
          "output_type": "execute_result",
          "data": {
            "text/plain": [
              "{'MS': {'name': 'Chennai Egmore',\n",
              "  'distance': 0,\n",
              "  'stoppingTrainNo': {100001: {'arrivalTime': '10.00 AM',\n",
              "    'departureTime': '10:10 AM'},\n",
              "   100004: {'arrivalTime': '12:00 PM', 'departureTime': '12:10 PM'}}},\n",
              " 'MDU': {'name': 'Madurai',\n",
              "  'distance': 250,\n",
              "  'stoppingTrainNo': {100001: {'arrivalTime': '12.00 AM',\n",
              "    'departureTime': '12:10 AM'},\n",
              "   100004: {'arrivalTime': '05:00 PM', 'departureTime': '05:10 PM'}}}}"
            ]
          },
          "metadata": {},
          "execution_count": 60
        }
      ]
    },
    {
      "cell_type": "code",
      "source": [
        "f1.updateAvailableQtyDirect(100001,1,1,50,'Order')"
      ],
      "metadata": {
        "id": "h0NGyTFzBCSS"
      },
      "execution_count": null,
      "outputs": []
    },
    {
      "cell_type": "code",
      "source": [
        "f1.foodData[100001][1]['mealOptions'][1]['availableQty']"
      ],
      "metadata": {
        "id": "3ftHWKqkx63b",
        "outputId": "816bd859-d5af-4b03-c894-2ad49d11436c",
        "colab": {
          "base_uri": "https://localhost:8080/"
        }
      },
      "execution_count": null,
      "outputs": [
        {
          "output_type": "execute_result",
          "data": {
            "text/plain": [
              "100"
            ]
          },
          "metadata": {},
          "execution_count": 74
        }
      ]
    },
    {
      "cell_type": "code",
      "source": [
        "f1.foodData[100001][1]['cuisine']"
      ],
      "metadata": {
        "id": "yqHAOf-oDyM7",
        "outputId": "1893073c-0f87-4b5e-be8c-1c89dd77cf25",
        "colab": {
          "base_uri": "https://localhost:8080/",
          "height": 35
        }
      },
      "execution_count": null,
      "outputs": [
        {
          "output_type": "execute_result",
          "data": {
            "text/plain": [
              "'South Indian'"
            ],
            "application/vnd.google.colaboratory.intrinsic+json": {
              "type": "string"
            }
          },
          "metadata": {},
          "execution_count": 84
        }
      ]
    },
    {
      "cell_type": "code",
      "source": [
        "f1.displayCuisineOptionNew(100001)"
      ],
      "metadata": {
        "id": "miT-HghV0S_Q",
        "outputId": "2dc8a082-f429-4988-9848-ce84becdd391",
        "colab": {
          "base_uri": "https://localhost:8080/"
        }
      },
      "execution_count": null,
      "outputs": [
        {
          "output_type": "stream",
          "name": "stdout",
          "text": [
            "1: South Indian\n",
            "2: North Indian\n"
          ]
        }
      ]
    },
    {
      "cell_type": "code",
      "source": [
        "testData = {100001:{1:{'cuisine':'South Indian',1:{'meal':'Break Fast - Idly','availableQty':50,'price':50.00}}}}\n",
        "testData"
      ],
      "metadata": {
        "colab": {
          "base_uri": "https://localhost:8080/"
        },
        "id": "cLqGTKiMMX8i",
        "outputId": "cea58382-b892-4319-ba8c-017042a9cdf3"
      },
      "execution_count": null,
      "outputs": [
        {
          "output_type": "execute_result",
          "data": {
            "text/plain": [
              "{100001: {1: {'cuisine': 'South Indian',\n",
              "   1: {'meal': 'Break Fast - Idly', 'availableQty': 50, 'price': 50.0}}}}"
            ]
          },
          "metadata": {},
          "execution_count": 104
        }
      ]
    },
    {
      "cell_type": "code",
      "source": [
        "TranDetails.trainData"
      ],
      "metadata": {
        "colab": {
          "base_uri": "https://localhost:8080/"
        },
        "id": "a4hk2oGXsnAi",
        "outputId": "4c72a939-c5ff-431a-95cd-64c0fb2dc08d"
      },
      "execution_count": null,
      "outputs": [
        {
          "output_type": "execute_result",
          "data": {
            "text/plain": [
              "{100001: {'name': 'Madurai Express',\n",
              "  'availableCoaches': {'1AC': {'availableSeats': 100, 'baseFare': 50.0},\n",
              "   '2AC': {'availableSeats': 150, 'baseFare': 40.0},\n",
              "   'SL': {'availableSeats': 300, 'baseFare': 30.0},\n",
              "   'GN': {'availableSeats': 140, 'baseFare': 10.0}},\n",
              "  'stoppingSations': ['VM', 'TPJ'],\n",
              "  'departureStation': 'MS',\n",
              "  'arrivalStation': 'MS',\n",
              "  'pricePerKm': 2.0}}"
            ]
          },
          "metadata": {},
          "execution_count": 92
        }
      ]
    },
    {
      "cell_type": "code",
      "source": [
        "StationDetails.stationData"
      ],
      "metadata": {
        "colab": {
          "base_uri": "https://localhost:8080/"
        },
        "id": "T2WBGvPeEIEt",
        "outputId": "fa40f23b-bc99-48d3-d949-108109d72333"
      },
      "execution_count": null,
      "outputs": [
        {
          "output_type": "execute_result",
          "data": {
            "text/plain": [
              "{'MS': {'name': 'Chennai Egmore',\n",
              "  'distance': 0,\n",
              "  'stoppingTrainNo': {100001: {'arrivalTime': '10.00 AM',\n",
              "    'departureTime': '10:10 AM'},\n",
              "   100004: {'arrivalTime': '12:00 PM', 'departureTime': '12:10 PM'}}}}"
            ]
          },
          "metadata": {},
          "execution_count": 99
        }
      ]
    },
    {
      "cell_type": "code",
      "source": [
        "def testDefaultparam(a,b,c=None):\n",
        "  print(a,b,c)"
      ],
      "metadata": {
        "id": "cJfI83miLUVX"
      },
      "execution_count": null,
      "outputs": []
    },
    {
      "cell_type": "code",
      "source": [
        "testDefaultparam(10,20)"
      ],
      "metadata": {
        "id": "TPcLV6vXLilC",
        "outputId": "841a2b83-25b3-435a-d882-424e93e15b57",
        "colab": {
          "base_uri": "https://localhost:8080/"
        }
      },
      "execution_count": null,
      "outputs": [
        {
          "output_type": "stream",
          "name": "stdout",
          "text": [
            "10 20 None\n"
          ]
        }
      ]
    },
    {
      "cell_type": "code",
      "source": [
        "aaa = 1\n",
        "strBuilder ='*'*50+' PNR Number:{} '.format('197379PALMS')+'*'*50+'\\n'\n",
        "strBuilder = strBuilder + 'Travel Details:\t(Ticket Status: {})'.format('CONFIRMED')+'\\t\\tUser Details:\\t\\t\\t\\tFood Details:\\n'\n",
        "strBuilder = strBuilder + 'Train:\\t{} ({})\\t\\t\\tName:\\t{}\\t\\tFood Opted:\\t{fooOpt}\\n'.format(100004,'Madurai Express','Palanivel Subramani', fooOpt = 'No' if aaa == None else 'Yes')\n",
        "strBuilder = strBuilder + 'From:\\t{} ({}) - Departure: {}\\tAge:\\t{}\\t\\t\\t\\tFood Cuisine:\\t{}\\n'.format('MS','Chennai Egmore','10.00 AM',35,'North Indian')\n",
        "strBuilder = strBuilder + 'To:\\t{} ({}) - Arraival: {}\\t\\tYOB:\\t{}\\t\\t\\t\\tFood Menu:\\t{}\\n'.format('CAPE','Kanyakumari','12.00 PM',1996,'Lunch (Idly)')\n",
        "strBuilder = strBuilder + 'Date:\\t{} ({})\\t\\t\\t\\tGender:\\t{}\\t\\t\\t\\tFinal Price: \\t{:.2f}\\n'.format('15 Mar 2024','Wednesday','M',5054.00)\n",
        "print(strBuilder)"
      ],
      "metadata": {
        "id": "6GJvhXD4W8ao",
        "outputId": "6138eef2-5ce7-4dee-a62a-98a460297093",
        "colab": {
          "base_uri": "https://localhost:8080/"
        }
      },
      "execution_count": 166,
      "outputs": [
        {
          "output_type": "stream",
          "name": "stdout",
          "text": [
            "************************************************** PNR Number:197379PALMS **************************************************\n",
            "Travel Details:\t(Ticket Status: CONFIRMED)\t\tUser Details:\t\t\t\tFood Details:\n",
            "Train:\t100004 (Madurai Express)\t\t\tName:\tPalanivel Subramani\t\tFood Opted:\tYes\n",
            "From:\tMS (Chennai Egmore) - Departure: 10.00 AM\tAge:\t35\t\t\t\tFood Cuisine:\tNorth Indian\n",
            "To:\tCAPE (Kanyakumari) - Arraival: 12.00 PM\t\tYOB:\t1996\t\t\t\tFood Menu:\tLunch (Idly)\n",
            "Date:\t15 Mar 2024 (Wednesday)\t\t\t\tGender:\tM\t\t\t\tFinal Price: \t5054.00\n",
            "\n"
          ]
        }
      ]
    }
  ]
}