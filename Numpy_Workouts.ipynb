{
  "nbformat": 4,
  "nbformat_minor": 0,
  "metadata": {
    "colab": {
      "provenance": [],
      "authorship_tag": "ABX9TyMlfOO0RfmExydkM+uJ5HzG",
      "include_colab_link": true
    },
    "kernelspec": {
      "name": "python3",
      "display_name": "Python 3"
    },
    "language_info": {
      "name": "python"
    }
  },
  "cells": [
    {
      "cell_type": "markdown",
      "metadata": {
        "id": "view-in-github",
        "colab_type": "text"
      },
      "source": [
        "<a href=\"https://colab.research.google.com/github/palanipsb/Python-Learning/blob/main/Numpy_Workouts.ipynb\" target=\"_parent\"><img src=\"https://colab.research.google.com/assets/colab-badge.svg\" alt=\"Open In Colab\"/></a>"
      ]
    },
    {
      "cell_type": "markdown",
      "source": [
        "Numpy Execercises"
      ],
      "metadata": {
        "id": "57UinYeQRuTz"
      }
    },
    {
      "cell_type": "code",
      "source": [
        "import numpy as np"
      ],
      "metadata": {
        "id": "uJermLGtR1Lf"
      },
      "execution_count": 3,
      "outputs": []
    },
    {
      "cell_type": "code",
      "source": [
        "print(np.__version__)\n",
        "np.show_config()"
      ],
      "metadata": {
        "id": "fgkS0x22SHHE"
      },
      "execution_count": null,
      "outputs": []
    },
    {
      "cell_type": "code",
      "source": [
        "z = np.zeros(10)\n",
        "print(z)"
      ],
      "metadata": {
        "id": "i1Rr3G-4SZju",
        "outputId": "96e18b6f-0f35-4109-f1ae-93ea51f3ac92",
        "colab": {
          "base_uri": "https://localhost:8080/"
        }
      },
      "execution_count": 9,
      "outputs": [
        {
          "output_type": "stream",
          "name": "stdout",
          "text": [
            "[0. 0. 0. 0. 0. 0. 0. 0. 0. 0.]\n"
          ]
        }
      ]
    },
    {
      "cell_type": "code",
      "source": [
        "print(z.size)\n",
        "print(z.itemsize)\n",
        "print(z.size*z.itemsize)"
      ],
      "metadata": {
        "id": "Bgg4zaiKrUYO",
        "outputId": "2ab00366-cfc1-4124-b2e0-bfe4138fb398",
        "colab": {
          "base_uri": "https://localhost:8080/"
        }
      },
      "execution_count": 12,
      "outputs": [
        {
          "output_type": "stream",
          "name": "stdout",
          "text": [
            "10\n",
            "8\n",
            "80\n"
          ]
        }
      ]
    },
    {
      "cell_type": "code",
      "source": [
        "np.info(z.__add__)"
      ],
      "metadata": {
        "id": "V6AkmzDOSxdm",
        "outputId": "d7a0b37c-9310-453d-e3fc-68d7bcf33f92",
        "colab": {
          "base_uri": "https://localhost:8080/"
        }
      },
      "execution_count": 19,
      "outputs": [
        {
          "output_type": "stream",
          "name": "stdout",
          "text": [
            "Return self+value.\n"
          ]
        }
      ]
    },
    {
      "cell_type": "code",
      "source": [
        "z[4] = 1\n",
        "print(z)"
      ],
      "metadata": {
        "id": "EFMOMBf3sZFN",
        "outputId": "c6eb3c3d-11cb-4931-98e5-ee2f6a866e18",
        "colab": {
          "base_uri": "https://localhost:8080/"
        }
      },
      "execution_count": 21,
      "outputs": [
        {
          "output_type": "stream",
          "name": "stdout",
          "text": [
            "[0. 0. 0. 0. 1. 0. 0. 0. 0. 0.]\n"
          ]
        }
      ]
    },
    {
      "cell_type": "code",
      "source": [
        "z = np.arange(10,50)\n",
        "print(z)"
      ],
      "metadata": {
        "id": "SskrFqe3sk3i",
        "outputId": "89f7c599-fe1e-492b-826e-142e8de76677",
        "colab": {
          "base_uri": "https://localhost:8080/"
        }
      },
      "execution_count": 30,
      "outputs": [
        {
          "output_type": "stream",
          "name": "stdout",
          "text": [
            "[10 11 12 13 14 15 16 17 18 19 20 21 22 23 24 25 26 27 28 29 30 31 32 33\n",
            " 34 35 36 37 38 39 40 41 42 43 44 45 46 47 48 49]\n"
          ]
        }
      ]
    },
    {
      "cell_type": "code",
      "source": [
        "z = z[::-1]\n",
        "print(z)"
      ],
      "metadata": {
        "id": "Lh7xjazUs4Fm",
        "outputId": "346df227-8ea2-4856-97b7-563973e347ae",
        "colab": {
          "base_uri": "https://localhost:8080/"
        }
      },
      "execution_count": 31,
      "outputs": [
        {
          "output_type": "stream",
          "name": "stdout",
          "text": [
            "[49 48 47 46 45 44 43 42 41 40 39 38 37 36 35 34 33 32 31 30 29 28 27 26\n",
            " 25 24 23 22 21 20 19 18 17 16 15 14 13 12 11 10]\n"
          ]
        }
      ]
    },
    {
      "cell_type": "code",
      "source": [
        "z = np.arange(9)\n",
        "print(z)"
      ],
      "metadata": {
        "id": "l5NZvCZJtMDj",
        "outputId": "88a24381-e922-47a7-ce72-1bceeefe6ccf",
        "colab": {
          "base_uri": "https://localhost:8080/"
        }
      },
      "execution_count": 40,
      "outputs": [
        {
          "output_type": "stream",
          "name": "stdout",
          "text": [
            "[0 1 2 3 4 5 6 7 8]\n"
          ]
        }
      ]
    },
    {
      "cell_type": "code",
      "source": [
        "z = z.reshape(3,3)\n",
        "print(z)"
      ],
      "metadata": {
        "id": "3JBLUxeFtbfl",
        "outputId": "5e03b269-73c7-42f5-f93e-587e379a4e6d",
        "colab": {
          "base_uri": "https://localhost:8080/"
        }
      },
      "execution_count": 41,
      "outputs": [
        {
          "output_type": "stream",
          "name": "stdout",
          "text": [
            "[[0 1 2]\n",
            " [3 4 5]\n",
            " [6 7 8]]\n"
          ]
        }
      ]
    },
    {
      "cell_type": "code",
      "source": [
        "nz = np.nonzero([1,2,0,0,4,0])\n",
        "print(nz)\n"
      ],
      "metadata": {
        "id": "2af7bC6JuQdz",
        "outputId": "c8256ddf-f94a-401c-bb86-aa46ff0c7f9e",
        "colab": {
          "base_uri": "https://localhost:8080/"
        }
      },
      "execution_count": 48,
      "outputs": [
        {
          "output_type": "stream",
          "name": "stdout",
          "text": [
            "(array([0, 1, 4]),)\n"
          ]
        }
      ]
    },
    {
      "cell_type": "code",
      "source": [
        "z = np.eye(3)\n",
        "print(z)"
      ],
      "metadata": {
        "id": "WBXBstJ8wPGV",
        "outputId": "81488524-1afe-49b3-860b-64d76bd1517e",
        "colab": {
          "base_uri": "https://localhost:8080/"
        }
      },
      "execution_count": 50,
      "outputs": [
        {
          "output_type": "stream",
          "name": "stdout",
          "text": [
            "[[1. 0. 0.]\n",
            " [0. 1. 0.]\n",
            " [0. 0. 1.]]\n"
          ]
        }
      ]
    },
    {
      "cell_type": "code",
      "source": [
        "z = np.random.random((2,3,3))\n",
        "print(z)"
      ],
      "metadata": {
        "id": "M-T3EL0rw3nd",
        "outputId": "8cfd7bd1-7c48-4a5e-f4e9-7fd8e119e279",
        "colab": {
          "base_uri": "https://localhost:8080/"
        }
      },
      "execution_count": 76,
      "outputs": [
        {
          "output_type": "stream",
          "name": "stdout",
          "text": [
            "[[[0.5174292  0.58503696 0.36676341]\n",
            "  [0.35188763 0.22941547 0.26663516]\n",
            "  [0.76531774 0.61646804 0.85018015]]\n",
            "\n",
            " [[0.11320244 0.56481188 0.75189791]\n",
            "  [0.2502978  0.74250386 0.29120502]\n",
            "  [0.96517555 0.98723877 0.41211458]]]\n"
          ]
        }
      ]
    },
    {
      "cell_type": "code",
      "source": [
        "z = np.random.random((10,10))\n",
        "print(z.min())\n",
        "print(z.max())"
      ],
      "metadata": {
        "id": "gS3wDqpb7Ak3",
        "outputId": "4b11df9b-8965-49fb-ad53-da814bb9e5f3",
        "colab": {
          "base_uri": "https://localhost:8080/"
        }
      },
      "execution_count": 86,
      "outputs": [
        {
          "output_type": "stream",
          "name": "stdout",
          "text": [
            "0.001002016910526926\n",
            "0.9954151586300406\n"
          ]
        }
      ]
    },
    {
      "cell_type": "code",
      "source": [
        "z = np.random.random((30))\n",
        "print(z.mean())"
      ],
      "metadata": {
        "id": "8BllOEoZ-qS9",
        "outputId": "eae83ec5-d819-4cce-8603-f7fb8d202bc7",
        "colab": {
          "base_uri": "https://localhost:8080/"
        }
      },
      "execution_count": 89,
      "outputs": [
        {
          "output_type": "stream",
          "name": "stdout",
          "text": [
            "0.5756781728456694\n"
          ]
        }
      ]
    },
    {
      "cell_type": "code",
      "source": [
        "z = np.array([[1,2,3,4,5],[4,5,6,7,8],[9,10,11,12,13],[14,15,16,17,18],[19,20,21,22,23]])\n",
        "print(z)\n",
        "print('\\n')\n",
        "print(z[0:1],z[3:-1])"
      ],
      "metadata": {
        "id": "SVXOdGLy_c_P",
        "outputId": "4fe066ae-4285-432e-93e3-3fd5609636fa",
        "colab": {
          "base_uri": "https://localhost:8080/"
        }
      },
      "execution_count": 173,
      "outputs": [
        {
          "output_type": "stream",
          "name": "stdout",
          "text": [
            "[[ 1  2  3  4  5]\n",
            " [ 4  5  6  7  8]\n",
            " [ 9 10 11 12 13]\n",
            " [14 15 16 17 18]\n",
            " [19 20 21 22 23]]\n",
            "\n",
            "\n",
            "[[1 2 3 4 5]] [[14 15 16 17 18]]\n"
          ]
        }
      ]
    },
    {
      "cell_type": "code",
      "source": [
        "test = 'SIMPLILEARM'\n",
        "print(test[1:7:2])"
      ],
      "metadata": {
        "id": "Gu4OzQ4_C5ux",
        "outputId": "e636b44f-7825-4cd8-f04e-0f62c3221018",
        "colab": {
          "base_uri": "https://localhost:8080/"
        }
      },
      "execution_count": 151,
      "outputs": [
        {
          "output_type": "stream",
          "name": "stdout",
          "text": [
            "IPI\n"
          ]
        }
      ]
    }
  ]
}