{
  "nbformat": 4,
  "nbformat_minor": 0,
  "metadata": {
    "colab": {
      "provenance": [],
      "authorship_tag": "ABX9TyNCaPtSamBusIeIxGcGhEHx",
      "include_colab_link": true
    },
    "kernelspec": {
      "name": "python3",
      "display_name": "Python 3"
    },
    "language_info": {
      "name": "python"
    }
  },
  "cells": [
    {
      "cell_type": "markdown",
      "metadata": {
        "id": "view-in-github",
        "colab_type": "text"
      },
      "source": [
        "<a href=\"https://colab.research.google.com/github/palanipsb/Python-Learning/blob/main/Numpy_Workouts.ipynb\" target=\"_parent\"><img src=\"https://colab.research.google.com/assets/colab-badge.svg\" alt=\"Open In Colab\"/></a>"
      ]
    },
    {
      "cell_type": "markdown",
      "source": [
        "Numpy Execercises"
      ],
      "metadata": {
        "id": "57UinYeQRuTz"
      }
    },
    {
      "cell_type": "code",
      "source": [
        "import numpy as np"
      ],
      "metadata": {
        "id": "uJermLGtR1Lf"
      },
      "execution_count": 2,
      "outputs": []
    },
    {
      "cell_type": "code",
      "source": [
        "print(np.__version__)\n",
        "np.show_config()"
      ],
      "metadata": {
        "id": "fgkS0x22SHHE"
      },
      "execution_count": null,
      "outputs": []
    },
    {
      "cell_type": "code",
      "source": [
        "z = np.zeros(10)\n",
        "print(z)"
      ],
      "metadata": {
        "id": "i1Rr3G-4SZju",
        "outputId": "96e18b6f-0f35-4109-f1ae-93ea51f3ac92",
        "colab": {
          "base_uri": "https://localhost:8080/"
        }
      },
      "execution_count": null,
      "outputs": [
        {
          "output_type": "stream",
          "name": "stdout",
          "text": [
            "[0. 0. 0. 0. 0. 0. 0. 0. 0. 0.]\n"
          ]
        }
      ]
    },
    {
      "cell_type": "code",
      "source": [
        "print(z.size)\n",
        "print(z.itemsize)\n",
        "print(z.size*z.itemsize)"
      ],
      "metadata": {
        "id": "Bgg4zaiKrUYO",
        "outputId": "2ab00366-cfc1-4124-b2e0-bfe4138fb398",
        "colab": {
          "base_uri": "https://localhost:8080/"
        }
      },
      "execution_count": null,
      "outputs": [
        {
          "output_type": "stream",
          "name": "stdout",
          "text": [
            "10\n",
            "8\n",
            "80\n"
          ]
        }
      ]
    },
    {
      "cell_type": "code",
      "source": [
        "np.info(z.__add__)"
      ],
      "metadata": {
        "id": "V6AkmzDOSxdm",
        "outputId": "d7a0b37c-9310-453d-e3fc-68d7bcf33f92",
        "colab": {
          "base_uri": "https://localhost:8080/"
        }
      },
      "execution_count": null,
      "outputs": [
        {
          "output_type": "stream",
          "name": "stdout",
          "text": [
            "Return self+value.\n"
          ]
        }
      ]
    },
    {
      "cell_type": "code",
      "source": [
        "z[4] = 1\n",
        "print(z)"
      ],
      "metadata": {
        "id": "EFMOMBf3sZFN",
        "outputId": "c6eb3c3d-11cb-4931-98e5-ee2f6a866e18",
        "colab": {
          "base_uri": "https://localhost:8080/"
        }
      },
      "execution_count": null,
      "outputs": [
        {
          "output_type": "stream",
          "name": "stdout",
          "text": [
            "[0. 0. 0. 0. 1. 0. 0. 0. 0. 0.]\n"
          ]
        }
      ]
    },
    {
      "cell_type": "code",
      "source": [
        "z = np.arange(10,50)\n",
        "print(z)"
      ],
      "metadata": {
        "id": "SskrFqe3sk3i",
        "outputId": "89f7c599-fe1e-492b-826e-142e8de76677",
        "colab": {
          "base_uri": "https://localhost:8080/"
        }
      },
      "execution_count": null,
      "outputs": [
        {
          "output_type": "stream",
          "name": "stdout",
          "text": [
            "[10 11 12 13 14 15 16 17 18 19 20 21 22 23 24 25 26 27 28 29 30 31 32 33\n",
            " 34 35 36 37 38 39 40 41 42 43 44 45 46 47 48 49]\n"
          ]
        }
      ]
    },
    {
      "cell_type": "code",
      "source": [
        "z = z[::-1]\n",
        "print(z)"
      ],
      "metadata": {
        "id": "Lh7xjazUs4Fm",
        "outputId": "346df227-8ea2-4856-97b7-563973e347ae",
        "colab": {
          "base_uri": "https://localhost:8080/"
        }
      },
      "execution_count": null,
      "outputs": [
        {
          "output_type": "stream",
          "name": "stdout",
          "text": [
            "[49 48 47 46 45 44 43 42 41 40 39 38 37 36 35 34 33 32 31 30 29 28 27 26\n",
            " 25 24 23 22 21 20 19 18 17 16 15 14 13 12 11 10]\n"
          ]
        }
      ]
    },
    {
      "cell_type": "code",
      "source": [
        "z = np.arange(9)\n",
        "print(z)"
      ],
      "metadata": {
        "id": "l5NZvCZJtMDj",
        "outputId": "88a24381-e922-47a7-ce72-1bceeefe6ccf",
        "colab": {
          "base_uri": "https://localhost:8080/"
        }
      },
      "execution_count": null,
      "outputs": [
        {
          "output_type": "stream",
          "name": "stdout",
          "text": [
            "[0 1 2 3 4 5 6 7 8]\n"
          ]
        }
      ]
    },
    {
      "cell_type": "code",
      "source": [
        "z = z.reshape(3,3)\n",
        "print(z)"
      ],
      "metadata": {
        "id": "3JBLUxeFtbfl",
        "outputId": "5e03b269-73c7-42f5-f93e-587e379a4e6d",
        "colab": {
          "base_uri": "https://localhost:8080/"
        }
      },
      "execution_count": null,
      "outputs": [
        {
          "output_type": "stream",
          "name": "stdout",
          "text": [
            "[[0 1 2]\n",
            " [3 4 5]\n",
            " [6 7 8]]\n"
          ]
        }
      ]
    },
    {
      "cell_type": "code",
      "source": [
        "nz = np.nonzero([1,2,0,0,4,0])\n",
        "print(nz)\n"
      ],
      "metadata": {
        "id": "2af7bC6JuQdz",
        "outputId": "c8256ddf-f94a-401c-bb86-aa46ff0c7f9e",
        "colab": {
          "base_uri": "https://localhost:8080/"
        }
      },
      "execution_count": null,
      "outputs": [
        {
          "output_type": "stream",
          "name": "stdout",
          "text": [
            "(array([0, 1, 4]),)\n"
          ]
        }
      ]
    },
    {
      "cell_type": "code",
      "source": [
        "z = np.eye(3)\n",
        "print(z)"
      ],
      "metadata": {
        "id": "WBXBstJ8wPGV",
        "outputId": "81488524-1afe-49b3-860b-64d76bd1517e",
        "colab": {
          "base_uri": "https://localhost:8080/"
        }
      },
      "execution_count": null,
      "outputs": [
        {
          "output_type": "stream",
          "name": "stdout",
          "text": [
            "[[1. 0. 0.]\n",
            " [0. 1. 0.]\n",
            " [0. 0. 1.]]\n"
          ]
        }
      ]
    },
    {
      "cell_type": "code",
      "source": [
        "z = np.random.random((2,3,3))\n",
        "print(z)"
      ],
      "metadata": {
        "id": "M-T3EL0rw3nd",
        "outputId": "8cfd7bd1-7c48-4a5e-f4e9-7fd8e119e279",
        "colab": {
          "base_uri": "https://localhost:8080/"
        }
      },
      "execution_count": null,
      "outputs": [
        {
          "output_type": "stream",
          "name": "stdout",
          "text": [
            "[[[0.5174292  0.58503696 0.36676341]\n",
            "  [0.35188763 0.22941547 0.26663516]\n",
            "  [0.76531774 0.61646804 0.85018015]]\n",
            "\n",
            " [[0.11320244 0.56481188 0.75189791]\n",
            "  [0.2502978  0.74250386 0.29120502]\n",
            "  [0.96517555 0.98723877 0.41211458]]]\n"
          ]
        }
      ]
    },
    {
      "cell_type": "code",
      "source": [
        "z = np.random.random((10,10))\n",
        "print(z.min())\n",
        "print(z.max())"
      ],
      "metadata": {
        "id": "gS3wDqpb7Ak3",
        "outputId": "4b11df9b-8965-49fb-ad53-da814bb9e5f3",
        "colab": {
          "base_uri": "https://localhost:8080/"
        }
      },
      "execution_count": null,
      "outputs": [
        {
          "output_type": "stream",
          "name": "stdout",
          "text": [
            "0.001002016910526926\n",
            "0.9954151586300406\n"
          ]
        }
      ]
    },
    {
      "cell_type": "code",
      "source": [
        "z = np.random.random((30))\n",
        "print(z.mean())"
      ],
      "metadata": {
        "id": "8BllOEoZ-qS9",
        "outputId": "eae83ec5-d819-4cce-8603-f7fb8d202bc7",
        "colab": {
          "base_uri": "https://localhost:8080/"
        }
      },
      "execution_count": null,
      "outputs": [
        {
          "output_type": "stream",
          "name": "stdout",
          "text": [
            "0.5756781728456694\n"
          ]
        }
      ]
    },
    {
      "cell_type": "code",
      "source": [
        "z = np.arange(1,26).reshape(5,5)\n",
        "print(z)\n",
        "print('\\n')\n",
        "z[1:-1,1:-1] = 0\n",
        "print(z)"
      ],
      "metadata": {
        "id": "SVXOdGLy_c_P",
        "outputId": "ad2fb591-d14e-487d-a5eb-4a5f41853e7f",
        "colab": {
          "base_uri": "https://localhost:8080/"
        }
      },
      "execution_count": 30,
      "outputs": [
        {
          "output_type": "stream",
          "name": "stdout",
          "text": [
            "[[ 1  2  3  4  5]\n",
            " [ 6  7  8  9 10]\n",
            " [11 12 13 14 15]\n",
            " [16 17 18 19 20]\n",
            " [21 22 23 24 25]]\n",
            "\n",
            "\n",
            "[[ 1  2  3  4  5]\n",
            " [ 6  0  0  0 10]\n",
            " [11  0  0  0 15]\n",
            " [16  0  0  0 20]\n",
            " [21 22 23 24 25]]\n"
          ]
        }
      ]
    },
    {
      "cell_type": "code",
      "source": [
        "Z = np.ones((10,10))\n",
        "Z[1:-1,1:-1] = 0\n",
        "print(Z)"
      ],
      "metadata": {
        "id": "mH-wxrYGh0qh",
        "outputId": "25c9b487-37fc-4196-fe5c-c70d7ee17262",
        "colab": {
          "base_uri": "https://localhost:8080/"
        }
      },
      "execution_count": 31,
      "outputs": [
        {
          "output_type": "stream",
          "name": "stdout",
          "text": [
            "[[1. 1. 1. 1. 1. 1. 1. 1. 1. 1.]\n",
            " [1. 0. 0. 0. 0. 0. 0. 0. 0. 1.]\n",
            " [1. 0. 0. 0. 0. 0. 0. 0. 0. 1.]\n",
            " [1. 0. 0. 0. 0. 0. 0. 0. 0. 1.]\n",
            " [1. 0. 0. 0. 0. 0. 0. 0. 0. 1.]\n",
            " [1. 0. 0. 0. 0. 0. 0. 0. 0. 1.]\n",
            " [1. 0. 0. 0. 0. 0. 0. 0. 0. 1.]\n",
            " [1. 0. 0. 0. 0. 0. 0. 0. 0. 1.]\n",
            " [1. 0. 0. 0. 0. 0. 0. 0. 0. 1.]\n",
            " [1. 1. 1. 1. 1. 1. 1. 1. 1. 1.]]\n"
          ]
        }
      ]
    },
    {
      "cell_type": "code",
      "source": [
        "z = np.array([[1,2],[3,4]])\n",
        "print(z)\n",
        "z = np.pad(z,pad_width=1,constant_values=5)\n",
        "print(z)"
      ],
      "metadata": {
        "id": "Tqzt34yLjiBj",
        "outputId": "0617c72f-0b37-4bfb-e917-7bd8e568ce59",
        "colab": {
          "base_uri": "https://localhost:8080/"
        }
      },
      "execution_count": 38,
      "outputs": [
        {
          "output_type": "stream",
          "name": "stdout",
          "text": [
            "[[1 2]\n",
            " [3 4]]\n",
            "[[5 5 5 5]\n",
            " [5 1 2 5]\n",
            " [5 3 4 5]\n",
            " [5 5 5 5]]\n"
          ]
        }
      ]
    },
    {
      "cell_type": "code",
      "source": [
        "z = np.arange(16).reshape(4,4)\n",
        "print(z)\n",
        "z[:, [0,-1]] = 0\n",
        "z[[0,-1],:] = 0\n",
        "print(z)\n",
        "#print(z[[0,1,2],[1,1,2]])"
      ],
      "metadata": {
        "id": "ZvGXqU2olN8X",
        "outputId": "54585233-3b0b-4a53-fc00-17cc40b0f014",
        "colab": {
          "base_uri": "https://localhost:8080/"
        }
      },
      "execution_count": 106,
      "outputs": [
        {
          "output_type": "stream",
          "name": "stdout",
          "text": [
            "[[ 0  1  2  3]\n",
            " [ 4  5  6  7]\n",
            " [ 8  9 10 11]\n",
            " [12 13 14 15]]\n",
            "[[ 0  0  0  0]\n",
            " [ 0  5  6  0]\n",
            " [ 0  9 10  0]\n",
            " [ 0  0  0  0]]\n"
          ]
        }
      ]
    },
    {
      "cell_type": "code",
      "source": [
        "0 * np.nan\n",
        "np.nan = np.nan\n",
        "#np.info > np.nan\n",
        "np.nan - np.nan\n",
        "np.nan in set([np.nan])\n",
        "0.3 == 3 * 0.1"
      ],
      "metadata": {
        "id": "SlMdH_Aysu2A",
        "outputId": "5a7f6023-7358-46ca-f34d-81d6716d9bff",
        "colab": {
          "base_uri": "https://localhost:8080/"
        }
      },
      "execution_count": 120,
      "outputs": [
        {
          "output_type": "execute_result",
          "data": {
            "text/plain": [
              "False"
            ]
          },
          "metadata": {},
          "execution_count": 120
        }
      ]
    },
    {
      "cell_type": "code",
      "source": [
        "z = np.arange(25).reshape(5,5)\n",
        "z = z.transpose()\n",
        "print(z)"
      ],
      "metadata": {
        "id": "E-igQXPsneil",
        "outputId": "44ec4991-5ce3-4b18-b879-a79b7b0bb382",
        "colab": {
          "base_uri": "https://localhost:8080/"
        }
      },
      "execution_count": 124,
      "outputs": [
        {
          "output_type": "stream",
          "name": "stdout",
          "text": [
            "[[ 0  5 10 15 20]\n",
            " [ 1  6 11 16 21]\n",
            " [ 2  7 12 17 22]\n",
            " [ 3  8 13 18 23]\n",
            " [ 4  9 14 19 24]]\n"
          ]
        }
      ]
    },
    {
      "cell_type": "code",
      "source": [
        "z = np.arange(3)\n",
        "z = np.diag(z,k=1)\n",
        "print(z)"
      ],
      "metadata": {
        "id": "BRH00bn1uzTh",
        "outputId": "adf7acea-9c1f-46a8-bc91-cdc288f82669",
        "colab": {
          "base_uri": "https://localhost:8080/"
        }
      },
      "execution_count": 133,
      "outputs": [
        {
          "output_type": "stream",
          "name": "stdout",
          "text": [
            "[[0 0 0 0]\n",
            " [0 0 1 0]\n",
            " [0 0 0 2]\n",
            " [0 0 0 0]]\n"
          ]
        }
      ]
    },
    {
      "cell_type": "code",
      "source": [
        "z = np.zeros(81,int).reshape(9,9)\n",
        "z[::2,1::2] = 1\n",
        "z[1::2,::2] = 1\n",
        "print(z)"
      ],
      "metadata": {
        "id": "U8pV1XFfv_vH",
        "outputId": "14f4bf15-abd5-496f-f71c-e5587091dcdb",
        "colab": {
          "base_uri": "https://localhost:8080/"
        }
      },
      "execution_count": 188,
      "outputs": [
        {
          "output_type": "stream",
          "name": "stdout",
          "text": [
            "[[0 1 0 1 0 1 0 1 0]\n",
            " [1 0 1 0 1 0 1 0 1]\n",
            " [0 1 0 1 0 1 0 1 0]\n",
            " [1 0 1 0 1 0 1 0 1]\n",
            " [0 1 0 1 0 1 0 1 0]\n",
            " [1 0 1 0 1 0 1 0 1]\n",
            " [0 1 0 1 0 1 0 1 0]\n",
            " [1 0 1 0 1 0 1 0 1]\n",
            " [0 1 0 1 0 1 0 1 0]]\n"
          ]
        }
      ]
    },
    {
      "cell_type": "code",
      "source": [
        "z = np.arange(1,65).reshape(8,8)\n",
        "print(z)\n",
        "print(z[:,1::2])\n",
        "print(z[1::2,:])\n",
        "#print(z[:,1:-2:1])\n",
        "#z[:,1::2] = -1\n",
        "#z[1::2,:] = -1\n",
        "print(z)"
      ],
      "metadata": {
        "id": "6ZJ4aODPzbOS",
        "outputId": "2a4e80d1-92f5-4085-ce8a-1b185a505ef1",
        "colab": {
          "base_uri": "https://localhost:8080/"
        }
      },
      "execution_count": 187,
      "outputs": [
        {
          "output_type": "stream",
          "name": "stdout",
          "text": [
            "[[ 1  2  3  4  5  6  7  8]\n",
            " [ 9 10 11 12 13 14 15 16]\n",
            " [17 18 19 20 21 22 23 24]\n",
            " [25 26 27 28 29 30 31 32]\n",
            " [33 34 35 36 37 38 39 40]\n",
            " [41 42 43 44 45 46 47 48]\n",
            " [49 50 51 52 53 54 55 56]\n",
            " [57 58 59 60 61 62 63 64]]\n",
            "[[ 2  4  6  8]\n",
            " [18 20 22 24]\n",
            " [34 36 38 40]\n",
            " [50 52 54 56]]\n",
            "[[ 9 11 13 15]\n",
            " [25 27 29 31]\n",
            " [41 43 45 47]\n",
            " [57 59 61 63]]\n"
          ]
        }
      ]
    },
    {
      "cell_type": "code",
      "source": [
        "z = np.arange(336).reshape(6,7,8)\n",
        "print(z)\n",
        "print(np.unravel_index(100,(z.shape)))\n",
        "print(z[np.unravel_index(100,(z.shape))])"
      ],
      "metadata": {
        "id": "INrY6zhxEXx3",
        "outputId": "e86746ac-588b-4ea6-8c23-3b4f00abe6fc",
        "colab": {
          "base_uri": "https://localhost:8080/"
        }
      },
      "execution_count": 203,
      "outputs": [
        {
          "output_type": "stream",
          "name": "stdout",
          "text": [
            "[[[  0   1   2   3   4   5   6   7]\n",
            "  [  8   9  10  11  12  13  14  15]\n",
            "  [ 16  17  18  19  20  21  22  23]\n",
            "  [ 24  25  26  27  28  29  30  31]\n",
            "  [ 32  33  34  35  36  37  38  39]\n",
            "  [ 40  41  42  43  44  45  46  47]\n",
            "  [ 48  49  50  51  52  53  54  55]]\n",
            "\n",
            " [[ 56  57  58  59  60  61  62  63]\n",
            "  [ 64  65  66  67  68  69  70  71]\n",
            "  [ 72  73  74  75  76  77  78  79]\n",
            "  [ 80  81  82  83  84  85  86  87]\n",
            "  [ 88  89  90  91  92  93  94  95]\n",
            "  [ 96  97  98  99 100 101 102 103]\n",
            "  [104 105 106 107 108 109 110 111]]\n",
            "\n",
            " [[112 113 114 115 116 117 118 119]\n",
            "  [120 121 122 123 124 125 126 127]\n",
            "  [128 129 130 131 132 133 134 135]\n",
            "  [136 137 138 139 140 141 142 143]\n",
            "  [144 145 146 147 148 149 150 151]\n",
            "  [152 153 154 155 156 157 158 159]\n",
            "  [160 161 162 163 164 165 166 167]]\n",
            "\n",
            " [[168 169 170 171 172 173 174 175]\n",
            "  [176 177 178 179 180 181 182 183]\n",
            "  [184 185 186 187 188 189 190 191]\n",
            "  [192 193 194 195 196 197 198 199]\n",
            "  [200 201 202 203 204 205 206 207]\n",
            "  [208 209 210 211 212 213 214 215]\n",
            "  [216 217 218 219 220 221 222 223]]\n",
            "\n",
            " [[224 225 226 227 228 229 230 231]\n",
            "  [232 233 234 235 236 237 238 239]\n",
            "  [240 241 242 243 244 245 246 247]\n",
            "  [248 249 250 251 252 253 254 255]\n",
            "  [256 257 258 259 260 261 262 263]\n",
            "  [264 265 266 267 268 269 270 271]\n",
            "  [272 273 274 275 276 277 278 279]]\n",
            "\n",
            " [[280 281 282 283 284 285 286 287]\n",
            "  [288 289 290 291 292 293 294 295]\n",
            "  [296 297 298 299 300 301 302 303]\n",
            "  [304 305 306 307 308 309 310 311]\n",
            "  [312 313 314 315 316 317 318 319]\n",
            "  [320 321 322 323 324 325 326 327]\n",
            "  [328 329 330 331 332 333 334 335]]]\n",
            "(1, 5, 4)\n",
            "100\n"
          ]
        }
      ]
    },
    {
      "cell_type": "code",
      "source": [
        "z = np.array([[0,1],[1,0]])\n",
        "print(z)\n",
        "z = np.tile(z,(2,3))\n",
        "print(z)"
      ],
      "metadata": {
        "id": "ALOfenHaHtps",
        "outputId": "d79ab3be-484a-4731-df80-4bc0e056ddc3",
        "colab": {
          "base_uri": "https://localhost:8080/"
        }
      },
      "execution_count": 210,
      "outputs": [
        {
          "output_type": "stream",
          "name": "stdout",
          "text": [
            "[[0 1]\n",
            " [1 0]]\n",
            "[[0 1 0 1 0 1]\n",
            " [1 0 1 0 1 0]\n",
            " [0 1 0 1 0 1]\n",
            " [1 0 1 0 1 0]]\n"
          ]
        }
      ]
    },
    {
      "cell_type": "code",
      "source": [
        "z = np.random.random((5,5))\n",
        "print(z)\n",
        "print(z.min())\n",
        "print(z.max())\n",
        "z1 = z-z.min()\n",
        "print(z1)\n",
        "z2 = z.max()-z.min()\n",
        "print(z2)\n",
        "z3 = z1/z2\n",
        "print(z3)"
      ],
      "metadata": {
        "id": "H63DPBtbIsaL",
        "outputId": "710e93ea-2d59-4b68-a386-20fde4e76900",
        "colab": {
          "base_uri": "https://localhost:8080/"
        }
      },
      "execution_count": 233,
      "outputs": [
        {
          "output_type": "stream",
          "name": "stdout",
          "text": [
            "[[0.61938288 0.83821963 0.48471049 0.69475953 0.75166951]\n",
            " [0.3321214  0.16335638 0.23602063 0.95261154 0.34297617]\n",
            " [0.82649285 0.88949895 0.13877411 0.84734013 0.04443536]\n",
            " [0.62637005 0.19404234 0.91661386 0.0360953  0.3634751 ]\n",
            " [0.41972009 0.36804392 0.64952416 0.7434252  0.94987651]]\n",
            "0.036095298035444756\n",
            "0.9526115423783127\n",
            "[[0.58328758 0.80212433 0.44861519 0.65866423 0.71557422]\n",
            " [0.2960261  0.12726109 0.19992534 0.91651624 0.30688087]\n",
            " [0.79039755 0.85340365 0.10267882 0.81124483 0.00834006]\n",
            " [0.59027475 0.15794704 0.88051856 0.         0.3273798 ]\n",
            " [0.38362479 0.33194862 0.61342886 0.7073299  0.91378121]]\n",
            "0.9165162443428679\n",
            "[[0.63641816 0.87518834 0.48947871 0.71866073 0.78075454]\n",
            " [0.32299057 0.13885306 0.21813616 1.         0.33483408]\n",
            " [0.86239339 0.9311386  0.11203164 0.88513961 0.00909974]\n",
            " [0.64404178 0.17233415 0.96072335 0.         0.35720022]\n",
            " [0.41856846 0.3621852  0.66930495 0.77175926 0.99701583]]\n"
          ]
        }
      ]
    },
    {
      "cell_type": "code",
      "source": [
        "z = np.arange(1,10).reshape(3,3)\n",
        "print(z)\n",
        "min = z.min()\n",
        "max = z.max()\n",
        "ave = max - min\n",
        "print(min,max,ave)\n",
        "z1 = z-min\n",
        "print(z1)\n",
        "z2 = z1/ave\n",
        "print(z2)"
      ],
      "metadata": {
        "id": "SYpPhROIf_m_",
        "outputId": "1a161d02-2092-4c7f-f24c-a51c277c197d",
        "colab": {
          "base_uri": "https://localhost:8080/"
        }
      },
      "execution_count": 236,
      "outputs": [
        {
          "output_type": "stream",
          "name": "stdout",
          "text": [
            "[[1 2 3]\n",
            " [4 5 6]\n",
            " [7 8 9]]\n",
            "1 9 8\n",
            "[[0 1 2]\n",
            " [3 4 5]\n",
            " [6 7 8]]\n",
            "[[0.    0.125 0.25 ]\n",
            " [0.375 0.5   0.625]\n",
            " [0.75  0.875 1.   ]]\n"
          ]
        }
      ]
    }
  ]
}