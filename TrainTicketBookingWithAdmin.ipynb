{
  "nbformat": 4,
  "nbformat_minor": 0,
  "metadata": {
    "colab": {
      "provenance": [],
      "authorship_tag": "ABX9TyMUkp4ADLrpGWQnwnjvSgiU",
      "include_colab_link": true
    },
    "kernelspec": {
      "name": "python3",
      "display_name": "Python 3"
    },
    "language_info": {
      "name": "python"
    }
  },
  "cells": [
    {
      "cell_type": "markdown",
      "metadata": {
        "id": "view-in-github",
        "colab_type": "text"
      },
      "source": [
        "<a href=\"https://colab.research.google.com/github/palanipsb/Python-Learning/blob/main/TrainTicketBookingWithAdmin.ipynb\" target=\"_parent\"><img src=\"https://colab.research.google.com/assets/colab-badge.svg\" alt=\"Open In Colab\"/></a>"
      ]
    },
    {
      "cell_type": "code",
      "execution_count": 161,
      "metadata": {
        "id": "bJscdCB5n3NC"
      },
      "outputs": [],
      "source": [
        "class ConfigLables:\n",
        "\n",
        "  GETTRAINNUMBER = '\\nPlease Enter the Train Number: '\n",
        "  BOOKINGCONFIRM = '\\nCongrats! Booking confirmed!. Please note the PNR number to check booking details. PNR:'\n",
        "  BOOKINGCACEL = 'Thank you!. Your ticket has been cancelled. You will get your refund in 48 hours!'\n",
        "  BOOKINGDETAILS = '\\n'+'*'*30+' Booking Details for PNR: {} '+'*'*30\n",
        "  USERNAME = '\\nPlease enter booking name: '\n",
        "  USERYOB = '\\nPlease enter the YOB: '\n",
        "  USERAGE = '\\nPlease enter the Age: '\n",
        "  GETTHEOPTION = '\\nPlease Enter the Option: '\n",
        "  GETPNRNUMBER = '\\nPlease Enter the PNR Number: '\n",
        "  GETCOACH = '\\nPlease Enter the Coach: '\n",
        "  GETSTATIONCODE = '\\nPlease Enter the Station Code: '\n",
        "  GETPASSANGERCOUNT = '\\nPlease enter number of passangers: '\n",
        "  GETFOOFQTY = '\\nPlease Enter the food quatity: '\n",
        "  DISPTRANDETAILS = '{0} : From - {1}: {2} To {3}: {4} (Stopping Stations: {5})\\n'\n",
        "  DISPCOACHDETAILS = 'Coach: {0}  || Available seats({1})  || Fare: {2:.2f} Per Adult + Reservartion Chargers'\n",
        "  DISPTRAINUMBER ='\\n'+'*'*30+' Train Number: {} '+'*'*30\n",
        "\n",
        "class TrainDetails(ConfigLables):\n",
        "  trainData = {}\n",
        "\n",
        "  def __init__(\n",
        "      self,\n",
        "      trainNo,\n",
        "      trainName,\n",
        "      seatCount1AC,\n",
        "      baseFare1AC,\n",
        "      seatCount2AC,\n",
        "      baseFare2AC,\n",
        "      seatCountSl,\n",
        "      baseFareSl,\n",
        "      seatCountG,\n",
        "      baseFareG,\n",
        "      stoppings,\n",
        "      deptStat,\n",
        "      arrivStat,\n",
        "      pricePerKm,\n",
        "  ):\n",
        "      self.trainNo = trainNo\n",
        "      self.trainName = trainName\n",
        "      self.seatCount1AC = seatCount1AC\n",
        "      self.baseFare1AC = baseFare1AC\n",
        "      self.seatCount2AC = seatCount2AC\n",
        "      self.baseFare2AC = baseFare2AC\n",
        "      self.seatCountSl = seatCountSl\n",
        "      self.baseFareSl = baseFareSl\n",
        "      self.seatCountG = seatCountG\n",
        "      self.baseFareG = baseFareG\n",
        "      self.stoppings = stoppings\n",
        "      self.deptStat = deptStat\n",
        "      self.arrivStat = deptStat\n",
        "      self.pricePerKm = pricePerKm\n",
        "\n",
        "  def trainDataEntry(self):\n",
        "      self.trainData.update(\n",
        "          {\n",
        "              self.trainNo: {\n",
        "                  \"name\": self.trainName,\n",
        "                  \"availableCoaches\": {\n",
        "                      \"1AC\": {\n",
        "                          \"availableSeats\": self.seatCount1AC,\n",
        "                          \"baseFare\": self.baseFare1AC,\n",
        "                      },\n",
        "                      \"2AC\": {\n",
        "                          \"availableSeats\": self.seatCount2AC,\n",
        "                          \"baseFare\": self.baseFare2AC,\n",
        "                      },\n",
        "                      \"SLP\": {\n",
        "                          \"availableSeats\": self.seatCountSl,\n",
        "                          \"baseFare\": self.baseFareSl,\n",
        "                      },\n",
        "                      \"GEN\": {\n",
        "                          \"availableSeats\": self.seatCountG,\n",
        "                          \"baseFare\": self.baseFareG,\n",
        "                      },\n",
        "                  },\n",
        "                  \"stoppingSations\": self.stoppings,\n",
        "                  \"departureStation\": self.deptStat,\n",
        "                  \"arrivalStation\": self.arrivStat,\n",
        "                  \"pricePerKm\": self.pricePerKm,\n",
        "              }\n",
        "          }\n",
        "      )\n",
        "\n",
        "  def getTrainName(self, trainNo):\n",
        "    return [j['name'] for i, j in self.trainData.items() if i==self.trainNo][0]\n",
        "\n",
        "  def getTrainStoppings(self,trainNo):\n",
        "    return [j['stoppingSations'] for i, j in self.trainData.items() if i==self.trainNo][0]\n",
        "\n",
        "  def getCoachDetails(self,trainNo):\n",
        "    self.coachOptions = {}\n",
        "    for i,j in self.trainData.items():\n",
        "      if i==self.trainNo:\n",
        "        for a,b in j['availableCoaches'].items():\n",
        "          self.coachOptions.update({a:{'seats':b['availableSeats'], 'baseBare':b['baseFare']}})\n",
        "    return(self.coachOptions)\n",
        "\n",
        "  def updateAvailableSeats(self,trainNo,coach,numberOfPassangers,bookOrCancel):\n",
        "    self.coach = coach\n",
        "    self.numberOfPassangers = numberOfPassangers\n",
        "    self.bookOrCancel = bookOrCancel\n",
        "    for i,j in self.trainData.items():\n",
        "      if i==self.trainNo:\n",
        "        for a,b in j['availableCoaches'].items():\n",
        "          if a==self.coach:\n",
        "            if self.bookOrCancel == 'Cancel':\n",
        "              self.trainData[i]['availableCoaches'][a]['availableSeats'] -= self.numberOfPassangers\n",
        "            else:\n",
        "              self.trainData[i]['availableCoaches'][a]['availableSeats'] += self.numberOfPassangers\n",
        "\n",
        "  def displayTrainDetailsWithCoach(self,trainNo):\n",
        "    print(self.DISPTRAINUMBER.format(self.trainNo))\n",
        "    for i,j in self.trainData[trainNo]['availableCoaches'].items():\n",
        "      print(self.DISPCOACHDETAILS.format(i,j['availableSeats'],j['baseFare']))\n",
        "\n",
        "  def getCoachAvailableSeat(self,trainNo,coach):\n",
        "    return self.trainData[trainNo]['availableCoaches'][coach]['availableSeats']\n",
        "\n",
        "  def getCoachFare(self,trainNo,coach):\n",
        "    return self.trainData[trainNo]['availableCoaches'][coach]['baseBare']\n",
        "\n",
        "  def displayTrainDetails(self,trainNo):\n",
        "    self.stoppingSats = []\n",
        "    for i,j in self.trainData[trainNo]['availableCoaches'].items():\n",
        "      for k,l in self.stationData.items():\n",
        "        if k == i:\n",
        "          print(self.DISPTRANDETAILS.format(self.trainNo,k,n['name'],self.arrivalStationCode,self.arrivalStationName,self.stoppingSats[0:-2]))\n",
        "        for m,n in self.stationData.items():\n",
        "          if m == j['departureStation']:\n",
        "            self.depatureStationCode,self.depatureStationName = m,n['name']\n",
        "          elif m == j['arrivalStation']:\n",
        "            self.arrivalStationCode,self.arrivalStationName = m,n['name']\n",
        "          if m in j['stoppingSations']:\n",
        "            self.stoppingSats = self.stoppingSats + m + ' - '+n['name']+'; '\n",
        "        print(self.DISPTRANDETAILS.format(self.trainNo,self.depatureStationCode,self.depatureStationName,self.arrivalStationCode,self.arrivalStationName,self.stoppingSats[0:-2]))\n",
        "\n",
        "  def displayTrainDetailsNew(self,trainNo):\n",
        "    self.stoppingSats = []\n",
        "    for i,j in self.trainData.items():\n",
        "      if i==self.trainNo:\n",
        "        for m,n in self.stationData.items():\n",
        "          if m == j['departureStation']:\n",
        "            self.depatureStationCode,self.depatureStationName = m,n['name']\n",
        "          elif m == j['arrivalStation']:\n",
        "            self.arrivalStationCode,self.arrivalStationName = m,n['name']\n",
        "          if m in j['stoppingSations']:\n",
        "            self.stoppingSats = self.stoppingSats + m + ' - '+n['name']+'; '\n",
        "        print(self.DISPTRANDETAILS.format(self.trainNo,self.depatureStationCode,self.depatureStationName,self.arrivalStationCode,self.arrivalStationName,self.stoppingSats[0:-2]))\n",
        "\n",
        "class StationDetails:\n",
        "  stationData = {}\n",
        "\n",
        "  def __init__(self, stationCode, stationName, distance, stoppingTrains):\n",
        "    self.stationCode = stationCode\n",
        "    self.stationName = stationName\n",
        "    self.distance = distance\n",
        "    self.stoppingTrains = stoppingTrains\n",
        "\n",
        "  def stationDataEntry(self):\n",
        "    self.stationData.update(\n",
        "            {\n",
        "                self.stationCode: {\n",
        "                    \"name\": self.stationName,\n",
        "                    \"distance\": self.distance,\n",
        "                    \"stoppingTrainNo\": self.stoppingTrains,\n",
        "                }\n",
        "            }\n",
        "        )\n",
        "\n",
        "  def getDepartureTime(self,trainNo,stationCode):\n",
        "    return self.stationData[stationCode]['stoppingTrainNo'][trainNo]['departureTime']\n",
        "\n",
        "  def getArrivalTime(self,trainNo,stationCode):\n",
        "    return self.stationData[stationCode]['stoppingTrainNo'][trainNo]['arrivalTime']\n",
        "\n",
        "  def getDistance(self,stationCode):\n",
        "    return self.stationData[stationCode]['distance']\n",
        "\n",
        "  def getStationName(self,stationCode):\n",
        "    return self.stationData[stationCode]['name']\n",
        "\n",
        "  def getStoppingTrains(self,stationCode):\n",
        "    return list(self.stationData[stationCode]['stoppingTrainNo'])\n",
        "\n",
        "class FoodDetails:\n",
        "  foodData = {}\n",
        "\n",
        "  def __init__(self, trainNo, foodDetails):\n",
        "      self.trainNo = trainNo\n",
        "      self.foodDetails = foodDetails\n",
        "\n",
        "  def foodDataEntry(self):\n",
        "      self.foodData.update({self.trainNo: self.foodDetails})\n",
        "\n",
        "  def displayCuisineOption(self,trainNo):\n",
        "    for i,j in self.foodData[trainNo].items():\n",
        "      print('{0}: {1}'.format(i,j['cuisine']))\n",
        "\n",
        "  def displayCuisineOptionNew(self,trainNo):\n",
        "    for i,j in self.foodData[trainNo].items():\n",
        "      print('{0}: {1}'.format(i,j['cuisine']))\n",
        "\n",
        "  def displayMenuOption(self,trainNo,cuisine):\n",
        "    for i,j in self.foodData[trainNo][cuisine].items():\n",
        "      print('{0}: {1} (Available Qty: {2}) - {3:.2f} per plate'.format(i,j['meal'],j['availableQty'],j['price']))\n",
        "\n",
        "  def updateAvailableQtyDirect(self,trainNo,cuisine,mealOption,qty,cancelOrOrder):\n",
        "    if(cancelOrOrder=='Cancel'):\n",
        "      self.foodData[trainNo][cuisine]['mealOptions'][mealOption]['availableQty'] -=qty\n",
        "    else:\n",
        "      self.foodData[trainNo][cuisine]['mealOptions'][mealOption]['availableQty'] +=qty\n",
        "\n",
        "class TicketHandling:\n",
        "\n",
        "  pass\n",
        "\n",
        "\n",
        "class UserPrompt:\n",
        "\n",
        "  def userResponse(self,promptText, inputType, inputVerifier):\n",
        "    self.promptText = promptText\n",
        "    self.inputType = inputType\n",
        "    self.inputVerifier = inputVerifier\n",
        "    if self.inputType == int:\n",
        "      self.userResponse = int(input(self.promptText))\n",
        "    else:\n",
        "      self.userResponse = input(self.promptText)\n",
        "    while self.userResponse not in self.inputVerifier:\n",
        "      if self.inputType == int:\n",
        "        self.userResponse = int(UserPrompt.userResponse(self,self.promptText, self.inputType, self.inputVerifier))\n",
        "      else:\n",
        "        self.userResponse = UserPrompt.userResponse(self,self.promptText, self.inputType, self.inputVerifier)\n",
        "    return self.userResponse\n",
        "\n",
        "\n",
        "\n"
      ]
    },
    {
      "cell_type": "code",
      "source": [
        "class ConfigLables:\n",
        "\n",
        "  GETTRAINNUMBER = '\\nPlease Enter the Train Number: '\n",
        "\n",
        "class UserPrompt(ConfigLables):\n",
        "\n",
        "  def userResponse(self,promptText, inputType, inputVerifier):\n",
        "    self.promptText = promptText\n",
        "    self.inputType = inputType\n",
        "    self.inputVerifier = inputVerifier\n",
        "    if self.inputType == int:\n",
        "      self.userResponse = int(input(self.promptText))\n",
        "    else:\n",
        "      self.userResponse = input(self.promptText)\n",
        "    while self.userResponse not in self.inputVerifier:\n",
        "      if self.inputType == int:\n",
        "        self.userResponse = int(UserPrompt.userResponse(self,self.promptText, self.inputType, self.inputVerifier))\n",
        "      else:\n",
        "        self.userResponse = UserPrompt.userResponse(self,self.promptText, self.inputType, self.inputVerifier)\n",
        "    return self.userResponse"
      ],
      "metadata": {
        "id": "HWfoFqz-D3w8"
      },
      "execution_count": null,
      "outputs": []
    },
    {
      "cell_type": "code",
      "source": [
        "u1 = UserPrompt()\n",
        "u1.userResponse(u1.GETTRAINNUMBER,str,['100001','100002'])"
      ],
      "metadata": {
        "id": "iTQvoTBBF7dA",
        "colab": {
          "base_uri": "https://localhost:8080/",
          "height": 105
        },
        "outputId": "6ea9979a-5d33-4dd6-882f-d200d26b0796"
      },
      "execution_count": null,
      "outputs": [
        {
          "name": "stdout",
          "output_type": "stream",
          "text": [
            "\n",
            "Please Enter the Train Number: 1001\n",
            "\n",
            "Please Enter the Train Number: 100001\n"
          ]
        },
        {
          "output_type": "execute_result",
          "data": {
            "text/plain": [
              "'100001'"
            ],
            "application/vnd.google.colaboratory.intrinsic+json": {
              "type": "string"
            }
          },
          "metadata": {},
          "execution_count": 52
        }
      ]
    },
    {
      "cell_type": "code",
      "source": [
        "t1 = TrainDetails(100001,'Madurai Express',100,50.00,150,40.00,300,30.00,140,10.00,['VM','TPJ'],'MS','MDU',2.00)\n",
        "t1.trainDataEntry()"
      ],
      "metadata": {
        "id": "StpBpi_bD5vT"
      },
      "execution_count": 162,
      "outputs": []
    },
    {
      "cell_type": "code",
      "source": [
        "t1.displayTrainDetailsWithCoach(100001) *a,sep=', '"
      ],
      "metadata": {
        "colab": {
          "base_uri": "https://localhost:8080/"
        },
        "id": "D7r3GsNQNsJA",
        "outputId": "ad33e753-dc6a-461d-ab44-4177869b5f24"
      },
      "execution_count": 139,
      "outputs": [
        {
          "output_type": "stream",
          "name": "stdout",
          "text": [
            "\n",
            "****************************** Train Number: 100001 ******************************\n",
            "Coach: 1AC  || Available seats(100)  || Fare: 50.00 Per Adult + Reservartion Chargers\n",
            "Coach: 2AC  || Available seats(150)  || Fare: 40.00 Per Adult + Reservartion Chargers\n",
            "Coach: SLP  || Available seats(300)  || Fare: 30.00 Per Adult + Reservartion Chargers\n",
            "Coach: GEN  || Available seats(140)  || Fare: 10.00 Per Adult + Reservartion Chargers\n"
          ]
        }
      ]
    },
    {
      "cell_type": "code",
      "source": [
        "t1.displayTrainDetails(100001)"
      ],
      "metadata": {
        "id": "TgfCl2c5Zd9T",
        "outputId": "99d94464-772c-4c15-fd37-7ff1aac101ba",
        "colab": {
          "base_uri": "https://localhost:8080/",
          "height": 263
        }
      },
      "execution_count": 163,
      "outputs": [
        {
          "output_type": "error",
          "ename": "AttributeError",
          "evalue": "'TrainDetails' object has no attribute 'stationData'",
          "traceback": [
            "\u001b[0;31m---------------------------------------------------------------------------\u001b[0m",
            "\u001b[0;31mAttributeError\u001b[0m                            Traceback (most recent call last)",
            "\u001b[0;32m<ipython-input-163-04c7d0634ad3>\u001b[0m in \u001b[0;36m<cell line: 1>\u001b[0;34m()\u001b[0m\n\u001b[0;32m----> 1\u001b[0;31m \u001b[0mt1\u001b[0m\u001b[0;34m.\u001b[0m\u001b[0mdisplayTrainDetails\u001b[0m\u001b[0;34m(\u001b[0m\u001b[0;36m100001\u001b[0m\u001b[0;34m)\u001b[0m\u001b[0;34m\u001b[0m\u001b[0;34m\u001b[0m\u001b[0m\n\u001b[0m",
            "\u001b[0;32m<ipython-input-161-79768f1dbb82>\u001b[0m in \u001b[0;36mdisplayTrainDetails\u001b[0;34m(self, trainNo)\u001b[0m\n\u001b[1;32m    125\u001b[0m     \u001b[0mself\u001b[0m\u001b[0;34m.\u001b[0m\u001b[0mstoppingSats\u001b[0m \u001b[0;34m=\u001b[0m \u001b[0;34m[\u001b[0m\u001b[0;34m]\u001b[0m\u001b[0;34m\u001b[0m\u001b[0;34m\u001b[0m\u001b[0m\n\u001b[1;32m    126\u001b[0m     \u001b[0;32mfor\u001b[0m \u001b[0mi\u001b[0m\u001b[0;34m,\u001b[0m\u001b[0mj\u001b[0m \u001b[0;32min\u001b[0m \u001b[0mself\u001b[0m\u001b[0;34m.\u001b[0m\u001b[0mtrainData\u001b[0m\u001b[0;34m[\u001b[0m\u001b[0mtrainNo\u001b[0m\u001b[0;34m]\u001b[0m\u001b[0;34m[\u001b[0m\u001b[0;34m'availableCoaches'\u001b[0m\u001b[0;34m]\u001b[0m\u001b[0;34m.\u001b[0m\u001b[0mitems\u001b[0m\u001b[0;34m(\u001b[0m\u001b[0;34m)\u001b[0m\u001b[0;34m:\u001b[0m\u001b[0;34m\u001b[0m\u001b[0;34m\u001b[0m\u001b[0m\n\u001b[0;32m--> 127\u001b[0;31m       \u001b[0;32mfor\u001b[0m \u001b[0mk\u001b[0m\u001b[0;34m,\u001b[0m\u001b[0ml\u001b[0m \u001b[0;32min\u001b[0m \u001b[0mself\u001b[0m\u001b[0;34m.\u001b[0m\u001b[0mstationData\u001b[0m\u001b[0;34m.\u001b[0m\u001b[0mitems\u001b[0m\u001b[0;34m(\u001b[0m\u001b[0;34m)\u001b[0m\u001b[0;34m:\u001b[0m\u001b[0;34m\u001b[0m\u001b[0;34m\u001b[0m\u001b[0m\n\u001b[0m\u001b[1;32m    128\u001b[0m         \u001b[0;32mif\u001b[0m \u001b[0mk\u001b[0m \u001b[0;34m==\u001b[0m \u001b[0mi\u001b[0m\u001b[0;34m:\u001b[0m\u001b[0;34m\u001b[0m\u001b[0;34m\u001b[0m\u001b[0m\n\u001b[1;32m    129\u001b[0m           \u001b[0mprint\u001b[0m\u001b[0;34m(\u001b[0m\u001b[0mself\u001b[0m\u001b[0;34m.\u001b[0m\u001b[0mDISPTRANDETAILS\u001b[0m\u001b[0;34m.\u001b[0m\u001b[0mformat\u001b[0m\u001b[0;34m(\u001b[0m\u001b[0mself\u001b[0m\u001b[0;34m.\u001b[0m\u001b[0mtrainNo\u001b[0m\u001b[0;34m,\u001b[0m\u001b[0mk\u001b[0m\u001b[0;34m,\u001b[0m\u001b[0mn\u001b[0m\u001b[0;34m[\u001b[0m\u001b[0;34m'name'\u001b[0m\u001b[0;34m]\u001b[0m\u001b[0;34m,\u001b[0m\u001b[0mself\u001b[0m\u001b[0;34m.\u001b[0m\u001b[0marrivalStationCode\u001b[0m\u001b[0;34m,\u001b[0m\u001b[0mself\u001b[0m\u001b[0;34m.\u001b[0m\u001b[0marrivalStationName\u001b[0m\u001b[0;34m,\u001b[0m\u001b[0mself\u001b[0m\u001b[0;34m.\u001b[0m\u001b[0mstoppingSats\u001b[0m\u001b[0;34m[\u001b[0m\u001b[0;36m0\u001b[0m\u001b[0;34m:\u001b[0m\u001b[0;34m-\u001b[0m\u001b[0;36m2\u001b[0m\u001b[0;34m]\u001b[0m\u001b[0;34m)\u001b[0m\u001b[0;34m)\u001b[0m\u001b[0;34m\u001b[0m\u001b[0;34m\u001b[0m\u001b[0m\n",
            "\u001b[0;31mAttributeError\u001b[0m: 'TrainDetails' object has no attribute 'stationData'"
          ]
        }
      ]
    },
    {
      "cell_type": "code",
      "source": [
        "t1.trainData[100001]['availableCoaches']"
      ],
      "metadata": {
        "id": "YghPDQKQWJzn",
        "outputId": "9775cdc0-e03e-4129-fad6-7bf725faf1e5",
        "colab": {
          "base_uri": "https://localhost:8080/"
        }
      },
      "execution_count": 138,
      "outputs": [
        {
          "output_type": "execute_result",
          "data": {
            "text/plain": [
              "{'1AC': {'availableSeats': 100, 'baseFare': 50.0},\n",
              " '2AC': {'availableSeats': 150, 'baseFare': 40.0},\n",
              " 'SLP': {'availableSeats': 300, 'baseFare': 30.0},\n",
              " 'GEN': {'availableSeats': 140, 'baseFare': 10.0}}"
            ]
          },
          "metadata": {},
          "execution_count": 138
        }
      ]
    },
    {
      "cell_type": "code",
      "source": [
        "for i,j in t1.trainData[100001]['availableCoaches'].items():\n",
        "  #print(i,j)\n",
        "  for k,l in StationDetails.stationData.items():\n",
        "    #if k == i:\n",
        "    for m,n in l['stoppingTrainNo'].items():\n",
        "      if 100001 == m:\n",
        "        print(i, m,n['arrivalTime'])\n",
        "    '''for m,n in self.stationData.items():\n",
        "      if m == j['departureStation']:\n",
        "        self.depatureStationCode,self.depatureStationName = m,n['name']\n",
        "      elif m == j['arrivalStation']:\n",
        "        self.arrivalStationCode,self.arrivalStationName = m,n['name']\n",
        "      if m in j['stoppingSations']:\n",
        "        self.stoppingSats = self.stoppingSats + m + ' - '+n['name']+'; '\n",
        "    print(self.DISPTRANDETAILS.format(self.trainNo,self.depatureStationCode,self.depatureStationName,self.arrivalStationCode,self.arrivalStationName,self.stoppingSats[0:-2]))'''"
      ],
      "metadata": {
        "id": "VgKAqwHHXZD9",
        "outputId": "fff78b83-3693-4332-83d4-1cbe29bc9a5b",
        "colab": {
          "base_uri": "https://localhost:8080/"
        }
      },
      "execution_count": 158,
      "outputs": [
        {
          "output_type": "stream",
          "name": "stdout",
          "text": [
            "1AC 100001 10.00 AM\n",
            "2AC 100001 10.00 AM\n",
            "SLP 100001 10.00 AM\n",
            "GEN 100001 10.00 AM\n"
          ]
        }
      ]
    },
    {
      "cell_type": "code",
      "source": [
        "t1.updateAvailableSeats(100001,'1AC',150,'Cancel')"
      ],
      "metadata": {
        "id": "Peby_rEpRFnp"
      },
      "execution_count": 7,
      "outputs": []
    },
    {
      "cell_type": "code",
      "source": [
        "print(t1.getTrainName(100001))"
      ],
      "metadata": {
        "id": "gZJgoP9ZNmXU",
        "outputId": "7961d940-5e03-442f-e4a3-0bba68e42814",
        "colab": {
          "base_uri": "https://localhost:8080/"
        }
      },
      "execution_count": 4,
      "outputs": [
        {
          "output_type": "stream",
          "name": "stdout",
          "text": [
            "Madurai Express\n"
          ]
        }
      ]
    },
    {
      "cell_type": "code",
      "source": [
        "s1 = StationDetails('MS','Chennai Egmore',0,{100001:{'arrivalTime':'10.00 AM','departureTime':'10:10 AM'},100004:{'arrivalTime':'12:00 PM', 'departureTime':'12:10 PM'}})\n",
        "s1.stationDataEntry()"
      ],
      "metadata": {
        "id": "ShdoODcCD71l"
      },
      "execution_count": 145,
      "outputs": []
    },
    {
      "cell_type": "code",
      "source": [
        "s1.stationData['MS']['stoppingTrainNo'][100001]['arrivalTime']"
      ],
      "metadata": {
        "id": "IgsGn68XNE7l",
        "outputId": "7c73099e-7e13-4def-9b8a-12dc9b2089e6",
        "colab": {
          "base_uri": "https://localhost:8080/",
          "height": 35
        }
      },
      "execution_count": 120,
      "outputs": [
        {
          "output_type": "execute_result",
          "data": {
            "text/plain": [
              "'10.00 AM'"
            ],
            "application/vnd.google.colaboratory.intrinsic+json": {
              "type": "string"
            }
          },
          "metadata": {},
          "execution_count": 120
        }
      ]
    },
    {
      "cell_type": "code",
      "source": [
        "a = [100001, 100004]"
      ],
      "metadata": {
        "id": "JWAx5zK_NYaJ"
      },
      "execution_count": 125,
      "outputs": []
    },
    {
      "cell_type": "code",
      "source": [
        "print(*a,sep=', ')"
      ],
      "metadata": {
        "id": "L-QVXHu6UwIg",
        "outputId": "5d0513f6-d623-42a6-818a-fe7d4690e0dc",
        "colab": {
          "base_uri": "https://localhost:8080/"
        }
      },
      "execution_count": 134,
      "outputs": [
        {
          "output_type": "stream",
          "name": "stdout",
          "text": [
            "100001, 100004\n"
          ]
        }
      ]
    },
    {
      "cell_type": "code",
      "source": [
        "s1.stationData['MS']['stoppingTrainNo'].keys()"
      ],
      "metadata": {
        "id": "k4jWv4EqnvYm",
        "outputId": "5f93a798-feff-4647-c222-c75107986e5d",
        "colab": {
          "base_uri": "https://localhost:8080/"
        }
      },
      "execution_count": 97,
      "outputs": [
        {
          "output_type": "execute_result",
          "data": {
            "text/plain": [
              "dict_keys([100001, 100004])"
            ]
          },
          "metadata": {},
          "execution_count": 97
        }
      ]
    },
    {
      "cell_type": "code",
      "source": [
        "f1 = FoodDetails(100001,{1:{'cuisine':'South Indian','mealOptions': {1:{'meal':'Break Fast - Idly', 'availableQty':50,'price':50},\n",
        "                                                      2:{'meal':'Lunch - Biriyani', 'availableQty':50,'price':50}}},\n",
        "                         2:{'cuisine':'North Indian','mealOptions': {1:{'meal':'Break Fast - Poori', 'availableQty':50,'price':50},\n",
        "                                                      2:{'meal':'Lunch - Chapathi', 'availableQty':50,'price':50}}},})\n",
        "f1.foodDataEntry()"
      ],
      "metadata": {
        "id": "S8kw8gZqJoc9"
      },
      "execution_count": 83,
      "outputs": []
    },
    {
      "cell_type": "code",
      "source": [
        "f1.updateAvailableQtyDirect(100001,1,1,50,'Order')"
      ],
      "metadata": {
        "id": "h0NGyTFzBCSS"
      },
      "execution_count": 73,
      "outputs": []
    },
    {
      "cell_type": "code",
      "source": [
        "f1.foodData[100001][1]['mealOptions'][1]['availableQty']"
      ],
      "metadata": {
        "id": "3ftHWKqkx63b",
        "outputId": "816bd859-d5af-4b03-c894-2ad49d11436c",
        "colab": {
          "base_uri": "https://localhost:8080/"
        }
      },
      "execution_count": 74,
      "outputs": [
        {
          "output_type": "execute_result",
          "data": {
            "text/plain": [
              "100"
            ]
          },
          "metadata": {},
          "execution_count": 74
        }
      ]
    },
    {
      "cell_type": "code",
      "source": [
        "f1.foodData[100001][1]['cuisine']"
      ],
      "metadata": {
        "id": "yqHAOf-oDyM7",
        "outputId": "1893073c-0f87-4b5e-be8c-1c89dd77cf25",
        "colab": {
          "base_uri": "https://localhost:8080/",
          "height": 35
        }
      },
      "execution_count": 84,
      "outputs": [
        {
          "output_type": "execute_result",
          "data": {
            "text/plain": [
              "'South Indian'"
            ],
            "application/vnd.google.colaboratory.intrinsic+json": {
              "type": "string"
            }
          },
          "metadata": {},
          "execution_count": 84
        }
      ]
    },
    {
      "cell_type": "code",
      "source": [
        "f1.displayCuisineOptionNew(100001)"
      ],
      "metadata": {
        "id": "miT-HghV0S_Q",
        "outputId": "2dc8a082-f429-4988-9848-ce84becdd391",
        "colab": {
          "base_uri": "https://localhost:8080/"
        }
      },
      "execution_count": 85,
      "outputs": [
        {
          "output_type": "stream",
          "name": "stdout",
          "text": [
            "1: South Indian\n",
            "2: North Indian\n"
          ]
        }
      ]
    },
    {
      "cell_type": "code",
      "source": [
        "testData = {100001:{1:{'cuisine':'South Indian',1:{'meal':'Break Fast - Idly','availableQty':50,'price':50.00}}}}\n",
        "testData"
      ],
      "metadata": {
        "colab": {
          "base_uri": "https://localhost:8080/"
        },
        "id": "cLqGTKiMMX8i",
        "outputId": "cea58382-b892-4319-ba8c-017042a9cdf3"
      },
      "execution_count": null,
      "outputs": [
        {
          "output_type": "execute_result",
          "data": {
            "text/plain": [
              "{100001: {1: {'cuisine': 'South Indian',\n",
              "   1: {'meal': 'Break Fast - Idly', 'availableQty': 50, 'price': 50.0}}}}"
            ]
          },
          "metadata": {},
          "execution_count": 104
        }
      ]
    },
    {
      "cell_type": "code",
      "source": [
        "TranDetails.trainData"
      ],
      "metadata": {
        "colab": {
          "base_uri": "https://localhost:8080/"
        },
        "id": "a4hk2oGXsnAi",
        "outputId": "4c72a939-c5ff-431a-95cd-64c0fb2dc08d"
      },
      "execution_count": null,
      "outputs": [
        {
          "output_type": "execute_result",
          "data": {
            "text/plain": [
              "{100001: {'name': 'Madurai Express',\n",
              "  'availableCoaches': {'1AC': {'availableSeats': 100, 'baseFare': 50.0},\n",
              "   '2AC': {'availableSeats': 150, 'baseFare': 40.0},\n",
              "   'SL': {'availableSeats': 300, 'baseFare': 30.0},\n",
              "   'GN': {'availableSeats': 140, 'baseFare': 10.0}},\n",
              "  'stoppingSations': ['VM', 'TPJ'],\n",
              "  'departureStation': 'MS',\n",
              "  'arrivalStation': 'MS',\n",
              "  'pricePerKm': 2.0}}"
            ]
          },
          "metadata": {},
          "execution_count": 92
        }
      ]
    },
    {
      "cell_type": "code",
      "source": [
        "StationDetails.stationData"
      ],
      "metadata": {
        "colab": {
          "base_uri": "https://localhost:8080/"
        },
        "id": "T2WBGvPeEIEt",
        "outputId": "fa40f23b-bc99-48d3-d949-108109d72333"
      },
      "execution_count": null,
      "outputs": [
        {
          "output_type": "execute_result",
          "data": {
            "text/plain": [
              "{'MS': {'name': 'Chennai Egmore',\n",
              "  'distance': 0,\n",
              "  'stoppingTrainNo': {100001: {'arrivalTime': '10.00 AM',\n",
              "    'departureTime': '10:10 AM'},\n",
              "   100004: {'arrivalTime': '12:00 PM', 'departureTime': '12:10 PM'}}}}"
            ]
          },
          "metadata": {},
          "execution_count": 99
        }
      ]
    }
  ]
}